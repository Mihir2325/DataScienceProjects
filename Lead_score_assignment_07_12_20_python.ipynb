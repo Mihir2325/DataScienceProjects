{
 "cells": [
  {
   "cell_type": "markdown",
   "metadata": {},
   "source": [
    "# Lead Score Assignment"
   ]
  },
  {
   "cell_type": "code",
   "execution_count": 184,
   "metadata": {},
   "outputs": [],
   "source": [
    "# Importing the necessary libraries\n",
    "\n",
    "import numpy as np\n",
    "import pandas as pd\n",
    "import matplotlib.pyplot as plt\n",
    "import seaborn as sns\n",
    "\n",
    "import datetime as dt\n",
    "# Supress Warnings\n",
    "import warnings\n",
    "warnings.filterwarnings('ignore')\n",
    "\n",
    "import sklearn\n",
    "from sklearn.model_selection import train_test_split\n",
    "from sklearn.preprocessing import StandardScaler\n",
    "import statsmodels.api as sm\n",
    "from sklearn.linear_model import LogisticRegression\n",
    "# Import RFE\n",
    "from sklearn.feature_selection import RFE"
   ]
  },
  {
   "cell_type": "markdown",
   "metadata": {},
   "source": [
    "## Read and Understand the Data"
   ]
  },
  {
   "cell_type": "code",
   "execution_count": 185,
   "metadata": {},
   "outputs": [
    {
     "data": {
      "text/html": [
       "<div>\n",
       "<style scoped>\n",
       "    .dataframe tbody tr th:only-of-type {\n",
       "        vertical-align: middle;\n",
       "    }\n",
       "\n",
       "    .dataframe tbody tr th {\n",
       "        vertical-align: top;\n",
       "    }\n",
       "\n",
       "    .dataframe thead th {\n",
       "        text-align: right;\n",
       "    }\n",
       "</style>\n",
       "<table border=\"1\" class=\"dataframe\">\n",
       "  <thead>\n",
       "    <tr style=\"text-align: right;\">\n",
       "      <th></th>\n",
       "      <th>Prospect ID</th>\n",
       "      <th>Lead Number</th>\n",
       "      <th>Lead Origin</th>\n",
       "      <th>Lead Source</th>\n",
       "      <th>Do Not Email</th>\n",
       "      <th>Do Not Call</th>\n",
       "      <th>Converted</th>\n",
       "      <th>TotalVisits</th>\n",
       "      <th>Total Time Spent on Website</th>\n",
       "      <th>Page Views Per Visit</th>\n",
       "      <th>...</th>\n",
       "      <th>Get updates on DM Content</th>\n",
       "      <th>Lead Profile</th>\n",
       "      <th>City</th>\n",
       "      <th>Asymmetrique Activity Index</th>\n",
       "      <th>Asymmetrique Profile Index</th>\n",
       "      <th>Asymmetrique Activity Score</th>\n",
       "      <th>Asymmetrique Profile Score</th>\n",
       "      <th>I agree to pay the amount through cheque</th>\n",
       "      <th>A free copy of Mastering The Interview</th>\n",
       "      <th>Last Notable Activity</th>\n",
       "    </tr>\n",
       "  </thead>\n",
       "  <tbody>\n",
       "    <tr>\n",
       "      <th>0</th>\n",
       "      <td>7927b2df-8bba-4d29-b9a2-b6e0beafe620</td>\n",
       "      <td>660737</td>\n",
       "      <td>API</td>\n",
       "      <td>Olark Chat</td>\n",
       "      <td>No</td>\n",
       "      <td>No</td>\n",
       "      <td>0</td>\n",
       "      <td>0.0</td>\n",
       "      <td>0</td>\n",
       "      <td>0.0</td>\n",
       "      <td>...</td>\n",
       "      <td>No</td>\n",
       "      <td>Select</td>\n",
       "      <td>Select</td>\n",
       "      <td>02.Medium</td>\n",
       "      <td>02.Medium</td>\n",
       "      <td>15.0</td>\n",
       "      <td>15.0</td>\n",
       "      <td>No</td>\n",
       "      <td>No</td>\n",
       "      <td>Modified</td>\n",
       "    </tr>\n",
       "    <tr>\n",
       "      <th>1</th>\n",
       "      <td>2a272436-5132-4136-86fa-dcc88c88f482</td>\n",
       "      <td>660728</td>\n",
       "      <td>API</td>\n",
       "      <td>Organic Search</td>\n",
       "      <td>No</td>\n",
       "      <td>No</td>\n",
       "      <td>0</td>\n",
       "      <td>5.0</td>\n",
       "      <td>674</td>\n",
       "      <td>2.5</td>\n",
       "      <td>...</td>\n",
       "      <td>No</td>\n",
       "      <td>Select</td>\n",
       "      <td>Select</td>\n",
       "      <td>02.Medium</td>\n",
       "      <td>02.Medium</td>\n",
       "      <td>15.0</td>\n",
       "      <td>15.0</td>\n",
       "      <td>No</td>\n",
       "      <td>No</td>\n",
       "      <td>Email Opened</td>\n",
       "    </tr>\n",
       "    <tr>\n",
       "      <th>2</th>\n",
       "      <td>8cc8c611-a219-4f35-ad23-fdfd2656bd8a</td>\n",
       "      <td>660727</td>\n",
       "      <td>Landing Page Submission</td>\n",
       "      <td>Direct Traffic</td>\n",
       "      <td>No</td>\n",
       "      <td>No</td>\n",
       "      <td>1</td>\n",
       "      <td>2.0</td>\n",
       "      <td>1532</td>\n",
       "      <td>2.0</td>\n",
       "      <td>...</td>\n",
       "      <td>No</td>\n",
       "      <td>Potential Lead</td>\n",
       "      <td>Mumbai</td>\n",
       "      <td>02.Medium</td>\n",
       "      <td>01.High</td>\n",
       "      <td>14.0</td>\n",
       "      <td>20.0</td>\n",
       "      <td>No</td>\n",
       "      <td>Yes</td>\n",
       "      <td>Email Opened</td>\n",
       "    </tr>\n",
       "    <tr>\n",
       "      <th>3</th>\n",
       "      <td>0cc2df48-7cf4-4e39-9de9-19797f9b38cc</td>\n",
       "      <td>660719</td>\n",
       "      <td>Landing Page Submission</td>\n",
       "      <td>Direct Traffic</td>\n",
       "      <td>No</td>\n",
       "      <td>No</td>\n",
       "      <td>0</td>\n",
       "      <td>1.0</td>\n",
       "      <td>305</td>\n",
       "      <td>1.0</td>\n",
       "      <td>...</td>\n",
       "      <td>No</td>\n",
       "      <td>Select</td>\n",
       "      <td>Mumbai</td>\n",
       "      <td>02.Medium</td>\n",
       "      <td>01.High</td>\n",
       "      <td>13.0</td>\n",
       "      <td>17.0</td>\n",
       "      <td>No</td>\n",
       "      <td>No</td>\n",
       "      <td>Modified</td>\n",
       "    </tr>\n",
       "    <tr>\n",
       "      <th>4</th>\n",
       "      <td>3256f628-e534-4826-9d63-4a8b88782852</td>\n",
       "      <td>660681</td>\n",
       "      <td>Landing Page Submission</td>\n",
       "      <td>Google</td>\n",
       "      <td>No</td>\n",
       "      <td>No</td>\n",
       "      <td>1</td>\n",
       "      <td>2.0</td>\n",
       "      <td>1428</td>\n",
       "      <td>1.0</td>\n",
       "      <td>...</td>\n",
       "      <td>No</td>\n",
       "      <td>Select</td>\n",
       "      <td>Mumbai</td>\n",
       "      <td>02.Medium</td>\n",
       "      <td>01.High</td>\n",
       "      <td>15.0</td>\n",
       "      <td>18.0</td>\n",
       "      <td>No</td>\n",
       "      <td>No</td>\n",
       "      <td>Modified</td>\n",
       "    </tr>\n",
       "  </tbody>\n",
       "</table>\n",
       "<p>5 rows × 37 columns</p>\n",
       "</div>"
      ],
      "text/plain": [
       "                            Prospect ID  Lead Number              Lead Origin  \\\n",
       "0  7927b2df-8bba-4d29-b9a2-b6e0beafe620       660737                      API   \n",
       "1  2a272436-5132-4136-86fa-dcc88c88f482       660728                      API   \n",
       "2  8cc8c611-a219-4f35-ad23-fdfd2656bd8a       660727  Landing Page Submission   \n",
       "3  0cc2df48-7cf4-4e39-9de9-19797f9b38cc       660719  Landing Page Submission   \n",
       "4  3256f628-e534-4826-9d63-4a8b88782852       660681  Landing Page Submission   \n",
       "\n",
       "      Lead Source Do Not Email Do Not Call  Converted  TotalVisits  \\\n",
       "0      Olark Chat           No          No          0          0.0   \n",
       "1  Organic Search           No          No          0          5.0   \n",
       "2  Direct Traffic           No          No          1          2.0   \n",
       "3  Direct Traffic           No          No          0          1.0   \n",
       "4          Google           No          No          1          2.0   \n",
       "\n",
       "   Total Time Spent on Website  Page Views Per Visit  ...  \\\n",
       "0                            0                   0.0  ...   \n",
       "1                          674                   2.5  ...   \n",
       "2                         1532                   2.0  ...   \n",
       "3                          305                   1.0  ...   \n",
       "4                         1428                   1.0  ...   \n",
       "\n",
       "  Get updates on DM Content    Lead Profile    City  \\\n",
       "0                        No          Select  Select   \n",
       "1                        No          Select  Select   \n",
       "2                        No  Potential Lead  Mumbai   \n",
       "3                        No          Select  Mumbai   \n",
       "4                        No          Select  Mumbai   \n",
       "\n",
       "  Asymmetrique Activity Index Asymmetrique Profile Index  \\\n",
       "0                   02.Medium                  02.Medium   \n",
       "1                   02.Medium                  02.Medium   \n",
       "2                   02.Medium                    01.High   \n",
       "3                   02.Medium                    01.High   \n",
       "4                   02.Medium                    01.High   \n",
       "\n",
       "  Asymmetrique Activity Score Asymmetrique Profile Score  \\\n",
       "0                        15.0                       15.0   \n",
       "1                        15.0                       15.0   \n",
       "2                        14.0                       20.0   \n",
       "3                        13.0                       17.0   \n",
       "4                        15.0                       18.0   \n",
       "\n",
       "  I agree to pay the amount through cheque  \\\n",
       "0                                       No   \n",
       "1                                       No   \n",
       "2                                       No   \n",
       "3                                       No   \n",
       "4                                       No   \n",
       "\n",
       "  A free copy of Mastering The Interview Last Notable Activity  \n",
       "0                                     No              Modified  \n",
       "1                                     No          Email Opened  \n",
       "2                                    Yes          Email Opened  \n",
       "3                                     No              Modified  \n",
       "4                                     No              Modified  \n",
       "\n",
       "[5 rows x 37 columns]"
      ]
     },
     "execution_count": 185,
     "metadata": {},
     "output_type": "execute_result"
    }
   ],
   "source": [
    "# read the dataset\n",
    "lead_df = pd.read_csv(r\"C:\\Users\\pursw\\Downloads\\Lead Scoring Assignment\\Leads.csv\", sep=\",\", encoding=\"ISO-8859-1\", header=0)\n",
    "lead_df.head()"
   ]
  },
  {
   "cell_type": "code",
   "execution_count": 186,
   "metadata": {},
   "outputs": [
    {
     "name": "stdout",
     "output_type": "stream",
     "text": [
      "<class 'pandas.core.frame.DataFrame'>\n",
      "RangeIndex: 9240 entries, 0 to 9239\n",
      "Data columns (total 37 columns):\n",
      " #   Column                                         Non-Null Count  Dtype  \n",
      "---  ------                                         --------------  -----  \n",
      " 0   Prospect ID                                    9240 non-null   object \n",
      " 1   Lead Number                                    9240 non-null   int64  \n",
      " 2   Lead Origin                                    9240 non-null   object \n",
      " 3   Lead Source                                    9204 non-null   object \n",
      " 4   Do Not Email                                   9240 non-null   object \n",
      " 5   Do Not Call                                    9240 non-null   object \n",
      " 6   Converted                                      9240 non-null   int64  \n",
      " 7   TotalVisits                                    9103 non-null   float64\n",
      " 8   Total Time Spent on Website                    9240 non-null   int64  \n",
      " 9   Page Views Per Visit                           9103 non-null   float64\n",
      " 10  Last Activity                                  9137 non-null   object \n",
      " 11  Country                                        6779 non-null   object \n",
      " 12  Specialization                                 7802 non-null   object \n",
      " 13  How did you hear about X Education             7033 non-null   object \n",
      " 14  What is your current occupation                6550 non-null   object \n",
      " 15  What matters most to you in choosing a course  6531 non-null   object \n",
      " 16  Search                                         9240 non-null   object \n",
      " 17  Magazine                                       9240 non-null   object \n",
      " 18  Newspaper Article                              9240 non-null   object \n",
      " 19  X Education Forums                             9240 non-null   object \n",
      " 20  Newspaper                                      9240 non-null   object \n",
      " 21  Digital Advertisement                          9240 non-null   object \n",
      " 22  Through Recommendations                        9240 non-null   object \n",
      " 23  Receive More Updates About Our Courses         9240 non-null   object \n",
      " 24  Tags                                           5887 non-null   object \n",
      " 25  Lead Quality                                   4473 non-null   object \n",
      " 26  Update me on Supply Chain Content              9240 non-null   object \n",
      " 27  Get updates on DM Content                      9240 non-null   object \n",
      " 28  Lead Profile                                   6531 non-null   object \n",
      " 29  City                                           7820 non-null   object \n",
      " 30  Asymmetrique Activity Index                    5022 non-null   object \n",
      " 31  Asymmetrique Profile Index                     5022 non-null   object \n",
      " 32  Asymmetrique Activity Score                    5022 non-null   float64\n",
      " 33  Asymmetrique Profile Score                     5022 non-null   float64\n",
      " 34  I agree to pay the amount through cheque       9240 non-null   object \n",
      " 35  A free copy of Mastering The Interview         9240 non-null   object \n",
      " 36  Last Notable Activity                          9240 non-null   object \n",
      "dtypes: float64(4), int64(3), object(30)\n",
      "memory usage: 2.6+ MB\n"
     ]
    }
   ],
   "source": [
    "# basics of the df\n",
    "lead_df.info()"
   ]
  },
  {
   "cell_type": "code",
   "execution_count": 187,
   "metadata": {},
   "outputs": [
    {
     "data": {
      "text/plain": [
       "(9240, 37)"
      ]
     },
     "execution_count": 187,
     "metadata": {},
     "output_type": "execute_result"
    }
   ],
   "source": [
    "# shape of df\n",
    "lead_df.shape"
   ]
  },
  {
   "cell_type": "markdown",
   "metadata": {},
   "source": [
    "### Checks for Duplicates"
   ]
  },
  {
   "cell_type": "code",
   "execution_count": 188,
   "metadata": {},
   "outputs": [
    {
     "data": {
      "text/plain": [
       "True"
      ]
     },
     "execution_count": 188,
     "metadata": {},
     "output_type": "execute_result"
    }
   ],
   "source": [
    "#check for duplicates in Prospect ID column\n",
    "sum(lead_df.duplicated(subset = 'Prospect ID')) == 0"
   ]
  },
  {
   "cell_type": "code",
   "execution_count": 189,
   "metadata": {},
   "outputs": [
    {
     "data": {
      "text/plain": [
       "True"
      ]
     },
     "execution_count": 189,
     "metadata": {},
     "output_type": "execute_result"
    }
   ],
   "source": [
    "#check for duplicates in Lead Number column\n",
    "sum(lead_df.duplicated(subset = 'Lead Number')) == 0"
   ]
  },
  {
   "cell_type": "markdown",
   "metadata": {},
   "source": [
    "##### Clearly Prospect ID & Lead Number are two unique variables that are just indicative of the ID number of the Contacted People & can be dropped."
   ]
  },
  {
   "cell_type": "code",
   "execution_count": 190,
   "metadata": {},
   "outputs": [],
   "source": [
    "# Dropping the columns Prospect ID\n",
    "lead_df.drop(['Prospect ID'], 1, inplace = True)"
   ]
  },
  {
   "cell_type": "markdown",
   "metadata": {},
   "source": [
    "## Data Cleaning"
   ]
  },
  {
   "cell_type": "markdown",
   "metadata": {},
   "source": [
    "### 'Select' values in some columns :\n",
    "##### There are some columns in dataset which have a value called 'Select'. This reason for this could be that these fields in the website might be non mandatory fields with drop downs options for the customer to choose from. Amongst the dropdown values, the default option is probably 'Select' and since these aren't mandatory fields, many customer might have have chosen to leave it as the default value 'Select'."
   ]
  },
  {
   "cell_type": "code",
   "execution_count": 191,
   "metadata": {},
   "outputs": [],
   "source": [
    "# Converting all the values to lower case\n",
    "lead_df = lead_df.applymap(lambda s:s.lower() if type(s) == str else s)"
   ]
  },
  {
   "cell_type": "code",
   "execution_count": 192,
   "metadata": {},
   "outputs": [],
   "source": [
    "# Replacing 'Select' with NaN (Since it means no option is selected)\n",
    "lead_df = lead_df.replace('select',np.nan)"
   ]
  },
  {
   "cell_type": "code",
   "execution_count": 193,
   "metadata": {},
   "outputs": [
    {
     "data": {
      "text/plain": [
       "Lead Number                                       0.00\n",
       "Lead Origin                                       0.00\n",
       "Lead Source                                       0.39\n",
       "Do Not Email                                      0.00\n",
       "Do Not Call                                       0.00\n",
       "Converted                                         0.00\n",
       "TotalVisits                                       1.48\n",
       "Total Time Spent on Website                       0.00\n",
       "Page Views Per Visit                              1.48\n",
       "Last Activity                                     1.11\n",
       "Country                                          26.63\n",
       "Specialization                                   36.58\n",
       "How did you hear about X Education               78.46\n",
       "What is your current occupation                  29.11\n",
       "What matters most to you in choosing a course    29.32\n",
       "Search                                            0.00\n",
       "Magazine                                          0.00\n",
       "Newspaper Article                                 0.00\n",
       "X Education Forums                                0.00\n",
       "Newspaper                                         0.00\n",
       "Digital Advertisement                             0.00\n",
       "Through Recommendations                           0.00\n",
       "Receive More Updates About Our Courses            0.00\n",
       "Tags                                             36.29\n",
       "Lead Quality                                     51.59\n",
       "Update me on Supply Chain Content                 0.00\n",
       "Get updates on DM Content                         0.00\n",
       "Lead Profile                                     74.19\n",
       "City                                             39.71\n",
       "Asymmetrique Activity Index                      45.65\n",
       "Asymmetrique Profile Index                       45.65\n",
       "Asymmetrique Activity Score                      45.65\n",
       "Asymmetrique Profile Score                       45.65\n",
       "I agree to pay the amount through cheque          0.00\n",
       "A free copy of Mastering The Interview            0.00\n",
       "Last Notable Activity                             0.00\n",
       "dtype: float64"
      ]
     },
     "execution_count": 193,
     "metadata": {},
     "output_type": "execute_result"
    }
   ],
   "source": [
    "# missing values\n",
    "round(100*(lead_df.isnull().sum())/len(lead_df), 2)"
   ]
  },
  {
   "cell_type": "code",
   "execution_count": 194,
   "metadata": {},
   "outputs": [],
   "source": [
    "# Dropping the columns where null values >= 40%\n",
    "lead_df = lead_df.drop('Lead Quality',axis=1)\n",
    "lead_df = lead_df.drop('Asymmetrique Activity Index',axis=1)\n",
    "lead_df = lead_df.drop('Asymmetrique Profile Index',axis=1)\n",
    "lead_df = lead_df.drop('Asymmetrique Activity Score',axis=1)\n",
    "lead_df = lead_df.drop('Asymmetrique Profile Score',axis=1)\n",
    "lead_df = lead_df.drop('Last Activity',axis=1)\n",
    "lead_df = lead_df.drop('Last Notable Activity',axis=1)\n",
    "lead_df = lead_df.drop('How did you hear about X Education',axis=1)\n",
    "lead_df = lead_df.drop('Lead Profile',axis=1)"
   ]
  },
  {
   "cell_type": "code",
   "execution_count": 195,
   "metadata": {},
   "outputs": [
    {
     "data": {
      "text/html": [
       "<div>\n",
       "<style scoped>\n",
       "    .dataframe tbody tr th:only-of-type {\n",
       "        vertical-align: middle;\n",
       "    }\n",
       "\n",
       "    .dataframe tbody tr th {\n",
       "        vertical-align: top;\n",
       "    }\n",
       "\n",
       "    .dataframe thead th {\n",
       "        text-align: right;\n",
       "    }\n",
       "</style>\n",
       "<table border=\"1\" class=\"dataframe\">\n",
       "  <thead>\n",
       "    <tr style=\"text-align: right;\">\n",
       "      <th></th>\n",
       "      <th>Lead Number</th>\n",
       "      <th>Lead Origin</th>\n",
       "      <th>Lead Source</th>\n",
       "      <th>Do Not Email</th>\n",
       "      <th>Do Not Call</th>\n",
       "      <th>Converted</th>\n",
       "      <th>TotalVisits</th>\n",
       "      <th>Total Time Spent on Website</th>\n",
       "      <th>Page Views Per Visit</th>\n",
       "      <th>Country</th>\n",
       "      <th>...</th>\n",
       "      <th>X Education Forums</th>\n",
       "      <th>Newspaper</th>\n",
       "      <th>Digital Advertisement</th>\n",
       "      <th>Through Recommendations</th>\n",
       "      <th>Receive More Updates About Our Courses</th>\n",
       "      <th>Update me on Supply Chain Content</th>\n",
       "      <th>Get updates on DM Content</th>\n",
       "      <th>City</th>\n",
       "      <th>I agree to pay the amount through cheque</th>\n",
       "      <th>A free copy of Mastering The Interview</th>\n",
       "    </tr>\n",
       "  </thead>\n",
       "  <tbody>\n",
       "    <tr>\n",
       "      <th>0</th>\n",
       "      <td>660737</td>\n",
       "      <td>api</td>\n",
       "      <td>olark chat</td>\n",
       "      <td>no</td>\n",
       "      <td>no</td>\n",
       "      <td>0</td>\n",
       "      <td>0.0</td>\n",
       "      <td>0</td>\n",
       "      <td>0.0</td>\n",
       "      <td>NaN</td>\n",
       "      <td>...</td>\n",
       "      <td>no</td>\n",
       "      <td>no</td>\n",
       "      <td>no</td>\n",
       "      <td>no</td>\n",
       "      <td>no</td>\n",
       "      <td>no</td>\n",
       "      <td>no</td>\n",
       "      <td>NaN</td>\n",
       "      <td>no</td>\n",
       "      <td>no</td>\n",
       "    </tr>\n",
       "    <tr>\n",
       "      <th>1</th>\n",
       "      <td>660728</td>\n",
       "      <td>api</td>\n",
       "      <td>organic search</td>\n",
       "      <td>no</td>\n",
       "      <td>no</td>\n",
       "      <td>0</td>\n",
       "      <td>5.0</td>\n",
       "      <td>674</td>\n",
       "      <td>2.5</td>\n",
       "      <td>india</td>\n",
       "      <td>...</td>\n",
       "      <td>no</td>\n",
       "      <td>no</td>\n",
       "      <td>no</td>\n",
       "      <td>no</td>\n",
       "      <td>no</td>\n",
       "      <td>no</td>\n",
       "      <td>no</td>\n",
       "      <td>NaN</td>\n",
       "      <td>no</td>\n",
       "      <td>no</td>\n",
       "    </tr>\n",
       "    <tr>\n",
       "      <th>2</th>\n",
       "      <td>660727</td>\n",
       "      <td>landing page submission</td>\n",
       "      <td>direct traffic</td>\n",
       "      <td>no</td>\n",
       "      <td>no</td>\n",
       "      <td>1</td>\n",
       "      <td>2.0</td>\n",
       "      <td>1532</td>\n",
       "      <td>2.0</td>\n",
       "      <td>india</td>\n",
       "      <td>...</td>\n",
       "      <td>no</td>\n",
       "      <td>no</td>\n",
       "      <td>no</td>\n",
       "      <td>no</td>\n",
       "      <td>no</td>\n",
       "      <td>no</td>\n",
       "      <td>no</td>\n",
       "      <td>mumbai</td>\n",
       "      <td>no</td>\n",
       "      <td>yes</td>\n",
       "    </tr>\n",
       "    <tr>\n",
       "      <th>3</th>\n",
       "      <td>660719</td>\n",
       "      <td>landing page submission</td>\n",
       "      <td>direct traffic</td>\n",
       "      <td>no</td>\n",
       "      <td>no</td>\n",
       "      <td>0</td>\n",
       "      <td>1.0</td>\n",
       "      <td>305</td>\n",
       "      <td>1.0</td>\n",
       "      <td>india</td>\n",
       "      <td>...</td>\n",
       "      <td>no</td>\n",
       "      <td>no</td>\n",
       "      <td>no</td>\n",
       "      <td>no</td>\n",
       "      <td>no</td>\n",
       "      <td>no</td>\n",
       "      <td>no</td>\n",
       "      <td>mumbai</td>\n",
       "      <td>no</td>\n",
       "      <td>no</td>\n",
       "    </tr>\n",
       "    <tr>\n",
       "      <th>4</th>\n",
       "      <td>660681</td>\n",
       "      <td>landing page submission</td>\n",
       "      <td>google</td>\n",
       "      <td>no</td>\n",
       "      <td>no</td>\n",
       "      <td>1</td>\n",
       "      <td>2.0</td>\n",
       "      <td>1428</td>\n",
       "      <td>1.0</td>\n",
       "      <td>india</td>\n",
       "      <td>...</td>\n",
       "      <td>no</td>\n",
       "      <td>no</td>\n",
       "      <td>no</td>\n",
       "      <td>no</td>\n",
       "      <td>no</td>\n",
       "      <td>no</td>\n",
       "      <td>no</td>\n",
       "      <td>mumbai</td>\n",
       "      <td>no</td>\n",
       "      <td>no</td>\n",
       "    </tr>\n",
       "  </tbody>\n",
       "</table>\n",
       "<p>5 rows × 26 columns</p>\n",
       "</div>"
      ],
      "text/plain": [
       "   Lead Number              Lead Origin     Lead Source Do Not Email  \\\n",
       "0       660737                      api      olark chat           no   \n",
       "1       660728                      api  organic search           no   \n",
       "2       660727  landing page submission  direct traffic           no   \n",
       "3       660719  landing page submission  direct traffic           no   \n",
       "4       660681  landing page submission          google           no   \n",
       "\n",
       "  Do Not Call  Converted  TotalVisits  Total Time Spent on Website  \\\n",
       "0          no          0          0.0                            0   \n",
       "1          no          0          5.0                          674   \n",
       "2          no          1          2.0                         1532   \n",
       "3          no          0          1.0                          305   \n",
       "4          no          1          2.0                         1428   \n",
       "\n",
       "   Page Views Per Visit Country  ... X Education Forums Newspaper  \\\n",
       "0                   0.0     NaN  ...                 no        no   \n",
       "1                   2.5   india  ...                 no        no   \n",
       "2                   2.0   india  ...                 no        no   \n",
       "3                   1.0   india  ...                 no        no   \n",
       "4                   1.0   india  ...                 no        no   \n",
       "\n",
       "  Digital Advertisement Through Recommendations  \\\n",
       "0                    no                      no   \n",
       "1                    no                      no   \n",
       "2                    no                      no   \n",
       "3                    no                      no   \n",
       "4                    no                      no   \n",
       "\n",
       "  Receive More Updates About Our Courses Update me on Supply Chain Content  \\\n",
       "0                                     no                                no   \n",
       "1                                     no                                no   \n",
       "2                                     no                                no   \n",
       "3                                     no                                no   \n",
       "4                                     no                                no   \n",
       "\n",
       "  Get updates on DM Content    City I agree to pay the amount through cheque  \\\n",
       "0                        no     NaN                                       no   \n",
       "1                        no     NaN                                       no   \n",
       "2                        no  mumbai                                       no   \n",
       "3                        no  mumbai                                       no   \n",
       "4                        no  mumbai                                       no   \n",
       "\n",
       "  A free copy of Mastering The Interview  \n",
       "0                                     no  \n",
       "1                                     no  \n",
       "2                                    yes  \n",
       "3                                     no  \n",
       "4                                     no  \n",
       "\n",
       "[5 rows x 26 columns]"
      ]
     },
     "execution_count": 195,
     "metadata": {},
     "output_type": "execute_result"
    }
   ],
   "source": [
    "# Dropping the Sales Team generated columns not system generated columns, \n",
    "# as these columns shall not available in model building  \n",
    "lead_df = lead_df.drop('Tags',axis=1)\n",
    "lead_df.head()"
   ]
  },
  {
   "cell_type": "code",
   "execution_count": 196,
   "metadata": {},
   "outputs": [
    {
     "data": {
      "text/plain": [
       "Lead Number                                       0.00\n",
       "Lead Origin                                       0.00\n",
       "Lead Source                                       0.39\n",
       "Do Not Email                                      0.00\n",
       "Do Not Call                                       0.00\n",
       "Converted                                         0.00\n",
       "TotalVisits                                       1.48\n",
       "Total Time Spent on Website                       0.00\n",
       "Page Views Per Visit                              1.48\n",
       "Country                                          26.63\n",
       "Specialization                                   36.58\n",
       "What is your current occupation                  29.11\n",
       "What matters most to you in choosing a course    29.32\n",
       "Search                                            0.00\n",
       "Magazine                                          0.00\n",
       "Newspaper Article                                 0.00\n",
       "X Education Forums                                0.00\n",
       "Newspaper                                         0.00\n",
       "Digital Advertisement                             0.00\n",
       "Through Recommendations                           0.00\n",
       "Receive More Updates About Our Courses            0.00\n",
       "Update me on Supply Chain Content                 0.00\n",
       "Get updates on DM Content                         0.00\n",
       "City                                             39.71\n",
       "I agree to pay the amount through cheque          0.00\n",
       "A free copy of Mastering The Interview            0.00\n",
       "dtype: float64"
      ]
     },
     "execution_count": 196,
     "metadata": {},
     "output_type": "execute_result"
    }
   ],
   "source": [
    "# missing values\n",
    "round(100*(lead_df.isnull().sum())/len(lead_df), 2)"
   ]
  },
  {
   "cell_type": "code",
   "execution_count": 197,
   "metadata": {},
   "outputs": [
    {
     "name": "stdout",
     "output_type": "stream",
     "text": [
      "<class 'pandas.core.frame.DataFrame'>\n",
      "RangeIndex: 9240 entries, 0 to 9239\n",
      "Data columns (total 26 columns):\n",
      " #   Column                                         Non-Null Count  Dtype  \n",
      "---  ------                                         --------------  -----  \n",
      " 0   Lead Number                                    9240 non-null   int64  \n",
      " 1   Lead Origin                                    9240 non-null   object \n",
      " 2   Lead Source                                    9204 non-null   object \n",
      " 3   Do Not Email                                   9240 non-null   object \n",
      " 4   Do Not Call                                    9240 non-null   object \n",
      " 5   Converted                                      9240 non-null   int64  \n",
      " 6   TotalVisits                                    9103 non-null   float64\n",
      " 7   Total Time Spent on Website                    9240 non-null   int64  \n",
      " 8   Page Views Per Visit                           9103 non-null   float64\n",
      " 9   Country                                        9240 non-null   object \n",
      " 10  Specialization                                 9240 non-null   object \n",
      " 11  What is your current occupation                9240 non-null   object \n",
      " 12  What matters most to you in choosing a course  9240 non-null   object \n",
      " 13  Search                                         9240 non-null   object \n",
      " 14  Magazine                                       9240 non-null   object \n",
      " 15  Newspaper Article                              9240 non-null   object \n",
      " 16  X Education Forums                             9240 non-null   object \n",
      " 17  Newspaper                                      9240 non-null   object \n",
      " 18  Digital Advertisement                          9240 non-null   object \n",
      " 19  Through Recommendations                        9240 non-null   object \n",
      " 20  Receive More Updates About Our Courses         9240 non-null   object \n",
      " 21  Update me on Supply Chain Content              9240 non-null   object \n",
      " 22  Get updates on DM Content                      9240 non-null   object \n",
      " 23  City                                           9240 non-null   object \n",
      " 24  I agree to pay the amount through cheque       9240 non-null   object \n",
      " 25  A free copy of Mastering The Interview         9240 non-null   object \n",
      "dtypes: float64(2), int64(3), object(21)\n",
      "memory usage: 1.8+ MB\n"
     ]
    }
   ],
   "source": [
    "# Instead of deleting columns with null value percentage(between 15 to 40), which results in loss of data, \n",
    "# this strategy adds more information into the dataset and results in the change of variance.\n",
    "lead_df['Specialization'] = lead_df['Specialization'].fillna('not provided') \n",
    "lead_df['What matters most to you in choosing a course'] = lead_df['What matters most to you in choosing a course'].fillna('not provided')\n",
    "lead_df['Country'] = lead_df['Country'].fillna('not provided')\n",
    "lead_df['What is your current occupation'] = lead_df['What is your current occupation'].fillna('not provided')\n",
    "lead_df['City'] = lead_df['City'].fillna('not provided')\n",
    "lead_df.info()"
   ]
  },
  {
   "cell_type": "markdown",
   "metadata": {},
   "source": [
    "#### Missing Values Treatment "
   ]
  },
  {
   "cell_type": "code",
   "execution_count": 198,
   "metadata": {},
   "outputs": [
    {
     "data": {
      "text/plain": [
       "Lead Number                                      0.00\n",
       "Lead Origin                                      0.00\n",
       "Lead Source                                      0.39\n",
       "Do Not Email                                     0.00\n",
       "Do Not Call                                      0.00\n",
       "Converted                                        0.00\n",
       "TotalVisits                                      1.48\n",
       "Total Time Spent on Website                      0.00\n",
       "Page Views Per Visit                             1.48\n",
       "Country                                          0.00\n",
       "Specialization                                   0.00\n",
       "What is your current occupation                  0.00\n",
       "What matters most to you in choosing a course    0.00\n",
       "Search                                           0.00\n",
       "Magazine                                         0.00\n",
       "Newspaper Article                                0.00\n",
       "X Education Forums                               0.00\n",
       "Newspaper                                        0.00\n",
       "Digital Advertisement                            0.00\n",
       "Through Recommendations                          0.00\n",
       "Receive More Updates About Our Courses           0.00\n",
       "Update me on Supply Chain Content                0.00\n",
       "Get updates on DM Content                        0.00\n",
       "City                                             0.00\n",
       "I agree to pay the amount through cheque         0.00\n",
       "A free copy of Mastering The Interview           0.00\n",
       "dtype: float64"
      ]
     },
     "execution_count": 198,
     "metadata": {},
     "output_type": "execute_result"
    }
   ],
   "source": [
    "# missing values\n",
    "round(100*(lead_df.isnull().sum())/len(lead_df), 2)"
   ]
  },
  {
   "cell_type": "code",
   "execution_count": 199,
   "metadata": {},
   "outputs": [
    {
     "data": {
      "text/plain": [
       "google               2873\n",
       "direct traffic       2543\n",
       "olark chat           1755\n",
       "organic search       1154\n",
       "reference             534\n",
       "welingak website      142\n",
       "referral sites        125\n",
       "facebook               55\n",
       "bing                    6\n",
       "click2call              4\n",
       "social media            2\n",
       "press_release           2\n",
       "live chat               2\n",
       "testone                 1\n",
       "youtubechannel          1\n",
       "welearn                 1\n",
       "welearnblog_home        1\n",
       "blog                    1\n",
       "pay per click ads       1\n",
       "nc_edm                  1\n",
       "Name: Lead Source, dtype: int64"
      ]
     },
     "execution_count": 199,
     "metadata": {},
     "output_type": "execute_result"
    }
   ],
   "source": [
    "lead_df['Lead Source'].value_counts()"
   ]
  },
  {
   "cell_type": "code",
   "execution_count": 200,
   "metadata": {},
   "outputs": [],
   "source": [
    "#replacing Nan Values with mode i.e. google and combining low frequency values\n",
    "lead_df['Lead Source'] = lead_df['Lead Source'].replace(['facebook','live chat'],'social media')\n",
    "lead_df['Lead Source'] = lead_df['Lead Source'].replace(['bing','click2call','press_release',\n",
    "                                                     'youtubechannel','welearnblog_home',\n",
    "                                                     'welearn','blog','pay per click ads',\n",
    "                                                    'testone','nc_edm'] ,'others')\n",
    "\n",
    "lead_df['Lead Source'] = lead_df['Lead Source'].replace(np.nan,'google')"
   ]
  },
  {
   "cell_type": "code",
   "execution_count": 201,
   "metadata": {},
   "outputs": [
    {
     "data": {
      "text/plain": [
       "0.0      2189\n",
       "2.0      1680\n",
       "3.0      1306\n",
       "4.0      1120\n",
       "5.0       783\n",
       "6.0       466\n",
       "1.0       395\n",
       "7.0       309\n",
       "8.0       224\n",
       "9.0       164\n",
       "10.0      114\n",
       "11.0       86\n",
       "13.0       48\n",
       "12.0       45\n",
       "14.0       36\n",
       "16.0       21\n",
       "15.0       18\n",
       "17.0       16\n",
       "18.0       15\n",
       "20.0       12\n",
       "19.0        9\n",
       "23.0        6\n",
       "21.0        6\n",
       "27.0        5\n",
       "24.0        5\n",
       "25.0        5\n",
       "22.0        3\n",
       "28.0        2\n",
       "29.0        2\n",
       "26.0        2\n",
       "251.0       1\n",
       "74.0        1\n",
       "30.0        1\n",
       "141.0       1\n",
       "54.0        1\n",
       "41.0        1\n",
       "115.0       1\n",
       "43.0        1\n",
       "42.0        1\n",
       "32.0        1\n",
       "55.0        1\n",
       "Name: TotalVisits, dtype: int64"
      ]
     },
     "execution_count": 201,
     "metadata": {},
     "output_type": "execute_result"
    }
   ],
   "source": [
    "lead_df.TotalVisits.value_counts()"
   ]
  },
  {
   "cell_type": "code",
   "execution_count": 202,
   "metadata": {},
   "outputs": [
    {
     "data": {
      "text/plain": [
       "0.00    2189\n",
       "2.00    1795\n",
       "3.00    1196\n",
       "4.00     896\n",
       "1.00     651\n",
       "        ... \n",
       "1.27       1\n",
       "8.21       1\n",
       "2.14       1\n",
       "2.63       1\n",
       "2.45       1\n",
       "Name: Page Views Per Visit, Length: 114, dtype: int64"
      ]
     },
     "execution_count": 202,
     "metadata": {},
     "output_type": "execute_result"
    }
   ],
   "source": [
    "lead_df['Page Views Per Visit'].value_counts()"
   ]
  },
  {
   "cell_type": "code",
   "execution_count": 203,
   "metadata": {},
   "outputs": [],
   "source": [
    "#Drop all rows for 'Page Views Per Visit' & 'TotalVisits' which have Nan Values. Since the number of Dropped rows is less than 2%, it will not affect the model\n",
    "lead_df_new = lead_df.dropna()"
   ]
  },
  {
   "cell_type": "code",
   "execution_count": 204,
   "metadata": {},
   "outputs": [
    {
     "data": {
      "text/plain": [
       "Lead Number                                      0.0\n",
       "Lead Origin                                      0.0\n",
       "Lead Source                                      0.0\n",
       "Do Not Email                                     0.0\n",
       "Do Not Call                                      0.0\n",
       "Converted                                        0.0\n",
       "TotalVisits                                      0.0\n",
       "Total Time Spent on Website                      0.0\n",
       "Page Views Per Visit                             0.0\n",
       "Country                                          0.0\n",
       "Specialization                                   0.0\n",
       "What is your current occupation                  0.0\n",
       "What matters most to you in choosing a course    0.0\n",
       "Search                                           0.0\n",
       "Magazine                                         0.0\n",
       "Newspaper Article                                0.0\n",
       "X Education Forums                               0.0\n",
       "Newspaper                                        0.0\n",
       "Digital Advertisement                            0.0\n",
       "Through Recommendations                          0.0\n",
       "Receive More Updates About Our Courses           0.0\n",
       "Update me on Supply Chain Content                0.0\n",
       "Get updates on DM Content                        0.0\n",
       "City                                             0.0\n",
       "I agree to pay the amount through cheque         0.0\n",
       "A free copy of Mastering The Interview           0.0\n",
       "dtype: float64"
      ]
     },
     "execution_count": 204,
     "metadata": {},
     "output_type": "execute_result"
    }
   ],
   "source": [
    "# missing values\n",
    "round(100*(lead_df_new.isnull().sum())/len(lead_df_new), 2)"
   ]
  },
  {
   "cell_type": "code",
   "execution_count": 205,
   "metadata": {},
   "outputs": [
    {
     "data": {
      "text/plain": [
       "india                   6492\n",
       "not provided            2324\n",
       "united states             69\n",
       "united arab emirates      53\n",
       "singapore                 24\n",
       "saudi arabia              21\n",
       "united kingdom            15\n",
       "australia                 13\n",
       "qatar                     10\n",
       "bahrain                    7\n",
       "hong kong                  7\n",
       "oman                       6\n",
       "france                     6\n",
       "unknown                    5\n",
       "canada                     4\n",
       "nigeria                    4\n",
       "kuwait                     4\n",
       "south africa               4\n",
       "germany                    4\n",
       "sweden                     3\n",
       "china                      2\n",
       "asia/pacific region        2\n",
       "belgium                    2\n",
       "philippines                2\n",
       "bangladesh                 2\n",
       "ghana                      2\n",
       "italy                      2\n",
       "netherlands                2\n",
       "uganda                     2\n",
       "switzerland                1\n",
       "liberia                    1\n",
       "vietnam                    1\n",
       "malaysia                   1\n",
       "russia                     1\n",
       "sri lanka                  1\n",
       "kenya                      1\n",
       "denmark                    1\n",
       "tanzania                   1\n",
       "indonesia                  1\n",
       "Name: Country, dtype: int64"
      ]
     },
     "execution_count": 205,
     "metadata": {},
     "output_type": "execute_result"
    }
   ],
   "source": [
    "lead_df_new[\"Country\"].value_counts()"
   ]
  },
  {
   "cell_type": "code",
   "execution_count": 206,
   "metadata": {},
   "outputs": [],
   "source": [
    "# combining low frequency values in Country column\n",
    "lead_df_new[\"Country\"] = lead_df_new[\"Country\"].apply(lambda x : 'india' if x=='india' else ('not provided' if x=='not provided' else 'other'))"
   ]
  },
  {
   "cell_type": "code",
   "execution_count": 207,
   "metadata": {},
   "outputs": [
    {
     "data": {
      "text/plain": [
       "not provided                   3600\n",
       "mumbai                         3179\n",
       "thane & outskirts               746\n",
       "other cities                    680\n",
       "other cities of maharashtra     447\n",
       "other metro cities              377\n",
       "tier ii cities                   74\n",
       "Name: City, dtype: int64"
      ]
     },
     "execution_count": 207,
     "metadata": {},
     "output_type": "execute_result"
    }
   ],
   "source": [
    "lead_df_new[\"City\"].value_counts()"
   ]
  },
  {
   "cell_type": "code",
   "execution_count": 208,
   "metadata": {},
   "outputs": [],
   "source": [
    "# combining low frequency values in City column\n",
    "lead_df_new[\"City\"] = lead_df_new[\"City\"].apply(lambda x : 'mumbai' if x=='mumbai' else ('not provided' if x=='not provided' else 'other'))"
   ]
  },
  {
   "cell_type": "code",
   "execution_count": 209,
   "metadata": {},
   "outputs": [
    {
     "data": {
      "text/plain": [
       "Lead Number                                      9103\n",
       "Lead Origin                                         4\n",
       "Lead Source                                         9\n",
       "Do Not Email                                        2\n",
       "Do Not Call                                         2\n",
       "Converted                                           2\n",
       "TotalVisits                                        41\n",
       "Total Time Spent on Website                      1717\n",
       "Page Views Per Visit                              114\n",
       "Country                                             3\n",
       "Specialization                                     19\n",
       "What is your current occupation                     7\n",
       "What matters most to you in choosing a course       4\n",
       "Search                                              2\n",
       "Magazine                                            1\n",
       "Newspaper Article                                   2\n",
       "X Education Forums                                  2\n",
       "Newspaper                                           2\n",
       "Digital Advertisement                               2\n",
       "Through Recommendations                             2\n",
       "Receive More Updates About Our Courses              1\n",
       "Update me on Supply Chain Content                   1\n",
       "Get updates on DM Content                           1\n",
       "City                                                3\n",
       "I agree to pay the amount through cheque            1\n",
       "A free copy of Mastering The Interview              2\n",
       "dtype: int64"
      ]
     },
     "execution_count": 209,
     "metadata": {},
     "output_type": "execute_result"
    }
   ],
   "source": [
    "# Checking if there are columns with one unique value since it won't affect our analysis\n",
    "lead_df_new.nunique()"
   ]
  },
  {
   "cell_type": "code",
   "execution_count": 210,
   "metadata": {},
   "outputs": [],
   "source": [
    "# Dropping unique valued columns\n",
    "lead_df_new= lead_df_new.drop(['Magazine','Receive More Updates About Our Courses','I agree to pay the amount through cheque',\n",
    "              'Get updates on DM Content','Update me on Supply Chain Content'],axis=1)"
   ]
  },
  {
   "cell_type": "code",
   "execution_count": 211,
   "metadata": {},
   "outputs": [
    {
     "data": {
      "text/plain": [
       "Lead Number                                      0.0\n",
       "Lead Origin                                      0.0\n",
       "Lead Source                                      0.0\n",
       "Do Not Email                                     0.0\n",
       "Do Not Call                                      0.0\n",
       "Converted                                        0.0\n",
       "TotalVisits                                      0.0\n",
       "Total Time Spent on Website                      0.0\n",
       "Page Views Per Visit                             0.0\n",
       "Country                                          0.0\n",
       "Specialization                                   0.0\n",
       "What is your current occupation                  0.0\n",
       "What matters most to you in choosing a course    0.0\n",
       "Search                                           0.0\n",
       "Newspaper Article                                0.0\n",
       "X Education Forums                               0.0\n",
       "Newspaper                                        0.0\n",
       "Digital Advertisement                            0.0\n",
       "Through Recommendations                          0.0\n",
       "City                                             0.0\n",
       "A free copy of Mastering The Interview           0.0\n",
       "dtype: float64"
      ]
     },
     "execution_count": 211,
     "metadata": {},
     "output_type": "execute_result"
    }
   ],
   "source": [
    "# missing values\n",
    "round(100*(lead_df_new.isnull().sum())/len(lead_df_new), 2)"
   ]
  },
  {
   "cell_type": "code",
   "execution_count": 212,
   "metadata": {},
   "outputs": [
    {
     "data": {
      "text/plain": [
       "98.52"
      ]
     },
     "execution_count": 212,
     "metadata": {},
     "output_type": "execute_result"
    }
   ],
   "source": [
    "# Code for checking number of rows retained in percent after null treatment\n",
    "round(100*(lead_df_new.shape[0])/(lead_df.shape[0]),2)"
   ]
  },
  {
   "cell_type": "code",
   "execution_count": 213,
   "metadata": {},
   "outputs": [
    {
     "data": {
      "text/plain": [
       "(9103, 21)"
      ]
     },
     "execution_count": 213,
     "metadata": {},
     "output_type": "execute_result"
    }
   ],
   "source": [
    "lead_df_new.shape"
   ]
  },
  {
   "cell_type": "markdown",
   "metadata": {},
   "source": [
    "## EDA"
   ]
  },
  {
   "cell_type": "code",
   "execution_count": 214,
   "metadata": {},
   "outputs": [
    {
     "name": "stdout",
     "output_type": "stream",
     "text": [
      "<class 'pandas.core.frame.DataFrame'>\n",
      "Int64Index: 9103 entries, 0 to 9239\n",
      "Data columns (total 21 columns):\n",
      " #   Column                                         Non-Null Count  Dtype  \n",
      "---  ------                                         --------------  -----  \n",
      " 0   Lead Number                                    9103 non-null   int64  \n",
      " 1   Lead Origin                                    9103 non-null   object \n",
      " 2   Lead Source                                    9103 non-null   object \n",
      " 3   Do Not Email                                   9103 non-null   object \n",
      " 4   Do Not Call                                    9103 non-null   object \n",
      " 5   Converted                                      9103 non-null   int64  \n",
      " 6   TotalVisits                                    9103 non-null   float64\n",
      " 7   Total Time Spent on Website                    9103 non-null   int64  \n",
      " 8   Page Views Per Visit                           9103 non-null   float64\n",
      " 9   Country                                        9103 non-null   object \n",
      " 10  Specialization                                 9103 non-null   object \n",
      " 11  What is your current occupation                9103 non-null   object \n",
      " 12  What matters most to you in choosing a course  9103 non-null   object \n",
      " 13  Search                                         9103 non-null   object \n",
      " 14  Newspaper Article                              9103 non-null   object \n",
      " 15  X Education Forums                             9103 non-null   object \n",
      " 16  Newspaper                                      9103 non-null   object \n",
      " 17  Digital Advertisement                          9103 non-null   object \n",
      " 18  Through Recommendations                        9103 non-null   object \n",
      " 19  City                                           9103 non-null   object \n",
      " 20  A free copy of Mastering The Interview         9103 non-null   object \n",
      "dtypes: float64(2), int64(3), object(16)\n",
      "memory usage: 1.5+ MB\n"
     ]
    }
   ],
   "source": [
    "lead_df_new.info()"
   ]
  },
  {
   "cell_type": "markdown",
   "metadata": {},
   "source": [
    "### Categorical Variables"
   ]
  },
  {
   "cell_type": "code",
   "execution_count": 215,
   "metadata": {},
   "outputs": [
    {
     "data": {
      "image/png": "[encoded data removed]",
      "text/plain": [
       "<Figure size 1728x2016 with 12 Axes>"
      ]
     },
     "metadata": {},
     "output_type": "display_data"
    }
   ],
   "source": [
    "plt.figure(figsize = (24,28))\n",
    "\n",
    "plt.subplot(4,3,1)\n",
    "sns.countplot(lead_df_new['Lead Origin'], hue = lead_df_new.Converted)\n",
    "plt.title('Lead Origin')\n",
    "\n",
    "plt.subplot(4,3,2)\n",
    "sns.countplot(lead_df_new['Do Not Email'], hue = lead_df_new.Converted)\n",
    "plt.title('Do Not Email')\n",
    "\n",
    "plt.subplot(4,3,3)\n",
    "sns.countplot(lead_df_new['Do Not Call'], hue = lead_df_new.Converted)\n",
    "plt.title('Do Not Call')\n",
    "\n",
    "plt.subplot(4,3,4)\n",
    "sns.countplot(lead_df_new['Country'], hue = lead_df_new.Converted)\n",
    "plt.title('Country')\n",
    "\n",
    "plt.subplot(4,3,5)\n",
    "sns.countplot(lead_df_new['Search'], hue = lead_df_new.Converted)\n",
    "plt.title('Search')\n",
    "\n",
    "plt.subplot(4,3,6)\n",
    "sns.countplot(lead_df_new['Newspaper Article'], hue = lead_df_new.Converted)\n",
    "plt.title('Newspaper Article')\n",
    "\n",
    "plt.subplot(4,3,7)\n",
    "sns.countplot(lead_df_new['X Education Forums'], hue = lead_df_new.Converted)\n",
    "plt.title('X Education Forums')\n",
    "\n",
    "plt.subplot(4,3,8)\n",
    "sns.countplot(lead_df_new['Newspaper'], hue = lead_df_new.Converted)\n",
    "plt.title('Newspaper')\n",
    "\n",
    "plt.subplot(4,3,9)\n",
    "sns.countplot(lead_df_new['Digital Advertisement'], hue = lead_df_new.Converted)\n",
    "plt.title('Digital Advertisement')\n",
    "\n",
    "plt.subplot(4,3,10)\n",
    "sns.countplot(lead_df_new['Through Recommendations'], hue = lead_df_new.Converted)\n",
    "plt.title('Through Recommendations')\n",
    "\n",
    "plt.subplot(4,3,11)\n",
    "sns.countplot(lead_df_new['A free copy of Mastering The Interview'], hue = lead_df_new.Converted)\n",
    "plt.title('A free copy of Mastering The Interview')\n",
    "\n",
    "plt.subplot(4,3,12)\n",
    "sns.countplot(lead_df_new['City'], hue = lead_df_new.Converted).tick_params(axis='x', rotation = 90)\n",
    "plt.title('City')\n",
    "\n",
    "\n",
    "plt.show()"
   ]
  },
  {
   "cell_type": "markdown",
   "metadata": {},
   "source": [
    "#### Inferences Lead Origin\n",
    "API and Landing Page Submission bring higher number of leads as well as conversion.                                \n",
    "Lead Add Form has a very high conversion rate but count of leads are not very high.                                 \n",
    "Lead Import and Quick Add Form get very few leads.                                                   \n",
    "In order to improve overall lead conversion rate, we have to improve lead converion of API and Landing Page Submission origin and generate more leads from Lead Add Form."
   ]
  },
  {
   "cell_type": "code",
   "execution_count": 216,
   "metadata": {},
   "outputs": [],
   "source": [
    "# Clearly we can see there are some skewed columns \n",
    "# where the percentage of particular category in a column is much higher than the other\n",
    "# Hence removing those columns\n",
    "lead_df_new = lead_df_new.drop('Do Not Call',axis=1)\n",
    "lead_df_new = lead_df_new.drop('Search',axis=1)\n",
    "lead_df_new = lead_df_new.drop('Newspaper Article',axis=1)\n",
    "lead_df_new = lead_df_new.drop('X Education Forums',axis=1)\n",
    "lead_df_new = lead_df_new.drop('Newspaper',axis=1)\n",
    "lead_df_new = lead_df_new.drop('Digital Advertisement',axis=1)\n",
    "lead_df_new = lead_df_new.drop('Through Recommendations',axis=1)\n",
    "lead_df_new = lead_df_new.drop('Country',axis=1)"
   ]
  },
  {
   "cell_type": "code",
   "execution_count": 217,
   "metadata": {},
   "outputs": [
    {
     "name": "stdout",
     "output_type": "stream",
     "text": [
      "<class 'pandas.core.frame.DataFrame'>\n",
      "Int64Index: 9103 entries, 0 to 9239\n",
      "Data columns (total 13 columns):\n",
      " #   Column                                         Non-Null Count  Dtype  \n",
      "---  ------                                         --------------  -----  \n",
      " 0   Lead Number                                    9103 non-null   int64  \n",
      " 1   Lead Origin                                    9103 non-null   object \n",
      " 2   Lead Source                                    9103 non-null   object \n",
      " 3   Do Not Email                                   9103 non-null   object \n",
      " 4   Converted                                      9103 non-null   int64  \n",
      " 5   TotalVisits                                    9103 non-null   float64\n",
      " 6   Total Time Spent on Website                    9103 non-null   int64  \n",
      " 7   Page Views Per Visit                           9103 non-null   float64\n",
      " 8   Specialization                                 9103 non-null   object \n",
      " 9   What is your current occupation                9103 non-null   object \n",
      " 10  What matters most to you in choosing a course  9103 non-null   object \n",
      " 11  City                                           9103 non-null   object \n",
      " 12  A free copy of Mastering The Interview         9103 non-null   object \n",
      "dtypes: float64(2), int64(3), object(8)\n",
      "memory usage: 1.3+ MB\n"
     ]
    }
   ],
   "source": [
    "lead_df_new.info()"
   ]
  },
  {
   "cell_type": "code",
   "execution_count": 218,
   "metadata": {},
   "outputs": [
    {
     "data": {
      "image/png": "[encoded data removed]",
      "text/plain": [
       "<Figure size 1440x1728 with 4 Axes>"
      ]
     },
     "metadata": {},
     "output_type": "display_data"
    }
   ],
   "source": [
    "plt.figure(figsize = (20,24))\n",
    "plt.subplot(2,2,1)\n",
    "sns.countplot(lead_df_new['Lead Source'], hue = lead_df_new.Converted).tick_params(axis='x', rotation = 90)\n",
    "plt.title('Lead Source')\n",
    "\n",
    "plt.subplot(2,2,2)\n",
    "sns.countplot(lead_df_new['Specialization'], hue = lead_df_new.Converted).tick_params(axis='x', rotation = 90)\n",
    "plt.title('Specialization')\n",
    "\n",
    "plt.subplot(2,2,3)\n",
    "sns.countplot(lead_df_new['What is your current occupation'], hue = lead_df_new.Converted).tick_params(axis='x', rotation = 90)\n",
    "plt.title('Current Occupation')\n",
    "\n",
    "plt.subplot(2,2,4)\n",
    "sns.countplot(lead_df_new['What matters most to you in choosing a course'],hue = lead_df_new.Converted).tick_params(axis='x', rotation = 90)\n",
    "plt.title('What matters most to you in choosing a course')\n",
    "\n",
    "plt.show()"
   ]
  },
  {
   "cell_type": "markdown",
   "metadata": {},
   "source": [
    "#### Inference from Specialization\n",
    "We see that specialization with **Management** in them have higher number of leads as well as leads converted. So this is definitely a significant variable"
   ]
  },
  {
   "cell_type": "code",
   "execution_count": 219,
   "metadata": {},
   "outputs": [],
   "source": [
    "#combining Management Specializations because they show similar trends\n",
    "\n",
    "lead_df_new['Specialization'] = lead_df_new['Specialization'].replace(['finance management','human resource management',\n",
    "                                                           'marketing management','operations management',\n",
    "                                                           'it projects management','supply chain management',\n",
    "                                                    'healthcare management','hospitality management',\n",
    "                                                           'retail management'] ,'management_specializations')"
   ]
  },
  {
   "cell_type": "markdown",
   "metadata": {},
   "source": [
    "#### Inference from What is your current occupation                               \n",
    "**Working Professionals** going for the course have high chances of joining it.\n",
    "**Unemployed** leads are the most in terms of Absolute numbers."
   ]
  },
  {
   "cell_type": "markdown",
   "metadata": {},
   "source": [
    "#### Inference from **Lead Source**                                                                \n",
    "Maximum number of leads are generated by **Google** and **Direct traffic**.\n",
    "Conversion Rate of **reference** leads and leads through **welingak website** is high.\n",
    "To improve overall lead conversion rate, focus should be on improving lead converion of **olark chat**, **organic search**, **direct traffic**, and **google leads** and generate more leads from **reference** and **welingak website**."
   ]
  },
  {
   "cell_type": "markdown",
   "metadata": {},
   "source": [
    "### Numerical Variables"
   ]
  },
  {
   "cell_type": "code",
   "execution_count": 220,
   "metadata": {},
   "outputs": [
    {
     "data": {
      "image/png": "[encoded data removed]",
      "text/plain": [
       "<Figure size 720x576 with 2 Axes>"
      ]
     },
     "metadata": {},
     "output_type": "display_data"
    }
   ],
   "source": [
    "#Checking correlations of numeric values\n",
    "plt.figure(figsize=(10,8))\n",
    "sns.heatmap(lead_df_new.corr(), cmap=\"YlGnBu\", annot=True)\n",
    "plt.show()"
   ]
  },
  {
   "cell_type": "markdown",
   "metadata": {},
   "source": [
    "### Outlier Analysis"
   ]
  },
  {
   "cell_type": "code",
   "execution_count": 221,
   "metadata": {},
   "outputs": [
    {
     "data": {
      "image/png": "[encoded data removed]",
      "text/plain": [
       "<Figure size 2160x1008 with 3 Axes>"
      ]
     },
     "metadata": {},
     "output_type": "display_data"
    }
   ],
   "source": [
    "numeric_variables = ['TotalVisits','Total Time Spent on Website','Page Views Per Visit']\n",
    "\n",
    "#Function to plot the distribution plot of the numeric variable list\n",
    "def boxplot(var_list):\n",
    "    plt.figure(figsize=(30,14))\n",
    "    for var in var_list:\n",
    "        plt.subplot(2,5,var_list.index(var)+1)\n",
    "        #plt.boxplot(country[var])\n",
    "        sns.boxplot(y=var,palette='cubehelix', data=lead_df_new)\n",
    "    # Automatically adjust subplot params so that the subplotS fits in to the figure area.\n",
    "  #  plt.tight_layout()\n",
    "    # display the plot\n",
    "    plt.show()\n",
    "    \n",
    "boxplot(numeric_variables)\n"
   ]
  },
  {
   "cell_type": "markdown",
   "metadata": {},
   "source": [
    "Outlier can be observed in some Numerical columns"
   ]
  },
  {
   "cell_type": "markdown",
   "metadata": {},
   "source": [
    "#### Outlier Treatment"
   ]
  },
  {
   "cell_type": "code",
   "execution_count": 222,
   "metadata": {},
   "outputs": [],
   "source": [
    "# Performing the upper capping on TotalVisits & Page Views Per Visit columns\n",
    "q1 = lead_df_new['TotalVisits'].quantile(0.02)\n",
    "q2 = lead_df_new['TotalVisits'].quantile(0.98)\n",
    "lead_df_new['TotalVisits'][lead_df_new['TotalVisits']>=q2]= q2\n",
    "\n",
    "q1 = lead_df_new['Page Views Per Visit'].quantile(0.02)\n",
    "q2 = lead_df_new['Page Views Per Visit'].quantile(0.98)\n",
    "lead_df_new['Page Views Per Visit'][lead_df_new['Page Views Per Visit']>=q2]= q2"
   ]
  },
  {
   "cell_type": "code",
   "execution_count": 223,
   "metadata": {},
   "outputs": [
    {
     "data": {
      "image/png": "[encoded data removed]",
      "text/plain": [
       "<Figure size 2160x1008 with 3 Axes>"
      ]
     },
     "metadata": {},
     "output_type": "display_data"
    }
   ],
   "source": [
    "#Function to plot the distribution plot of the numeric variable list again\n",
    "def boxplot(var_list):\n",
    "    plt.figure(figsize=(30,14))\n",
    "    for var in var_list:\n",
    "        plt.subplot(2,5,var_list.index(var)+1)\n",
    "        #plt.boxplot(country[var])\n",
    "        sns.boxplot(y=var,palette='cubehelix', data=lead_df_new)\n",
    "    # Automatically adjust subplot params so that the subplotS fits in to the figure area.\n",
    "  #  plt.tight_layout()\n",
    "    # display the plot\n",
    "    plt.show()\n",
    "    \n",
    "boxplot(numeric_variables)"
   ]
  },
  {
   "cell_type": "code",
   "execution_count": 224,
   "metadata": {},
   "outputs": [
    {
     "data": {
      "text/plain": [
       "98.52"
      ]
     },
     "execution_count": 224,
     "metadata": {},
     "output_type": "execute_result"
    }
   ],
   "source": [
    "# Code for checking agin number of rows retained in percent after null treatment\n",
    "round(100*(lead_df_new.shape[0])/(lead_df.shape[0]),2)"
   ]
  },
  {
   "cell_type": "code",
   "execution_count": 225,
   "metadata": {},
   "outputs": [],
   "source": [
    "# List of variables to map\n",
    "\n",
    "varlist =  ['A free copy of Mastering The Interview','Do Not Email']\n",
    "\n",
    "# Defining the map function\n",
    "def binary_map(x):\n",
    "    return x.map({'yes': \"1\" ,\"no\": \"0\"})\n",
    "\n",
    "# Applying the function to the housing list\n",
    "lead_df_new[varlist] = lead_df_new[varlist].apply(binary_map)"
   ]
  },
  {
   "cell_type": "code",
   "execution_count": 226,
   "metadata": {},
   "outputs": [
    {
     "data": {
      "text/html": [
       "<div>\n",
       "<style scoped>\n",
       "    .dataframe tbody tr th:only-of-type {\n",
       "        vertical-align: middle;\n",
       "    }\n",
       "\n",
       "    .dataframe tbody tr th {\n",
       "        vertical-align: top;\n",
       "    }\n",
       "\n",
       "    .dataframe thead th {\n",
       "        text-align: right;\n",
       "    }\n",
       "</style>\n",
       "<table border=\"1\" class=\"dataframe\">\n",
       "  <thead>\n",
       "    <tr style=\"text-align: right;\">\n",
       "      <th></th>\n",
       "      <th>Lead Number</th>\n",
       "      <th>Lead Origin</th>\n",
       "      <th>Lead Source</th>\n",
       "      <th>Do Not Email</th>\n",
       "      <th>Converted</th>\n",
       "      <th>TotalVisits</th>\n",
       "      <th>Total Time Spent on Website</th>\n",
       "      <th>Page Views Per Visit</th>\n",
       "      <th>Specialization</th>\n",
       "      <th>What is your current occupation</th>\n",
       "      <th>What matters most to you in choosing a course</th>\n",
       "      <th>City</th>\n",
       "      <th>A free copy of Mastering The Interview</th>\n",
       "    </tr>\n",
       "  </thead>\n",
       "  <tbody>\n",
       "    <tr>\n",
       "      <th>0</th>\n",
       "      <td>660737</td>\n",
       "      <td>api</td>\n",
       "      <td>olark chat</td>\n",
       "      <td>0</td>\n",
       "      <td>0</td>\n",
       "      <td>0.0</td>\n",
       "      <td>0</td>\n",
       "      <td>0.0</td>\n",
       "      <td>not provided</td>\n",
       "      <td>unemployed</td>\n",
       "      <td>better career prospects</td>\n",
       "      <td>not provided</td>\n",
       "      <td>0</td>\n",
       "    </tr>\n",
       "    <tr>\n",
       "      <th>1</th>\n",
       "      <td>660728</td>\n",
       "      <td>api</td>\n",
       "      <td>organic search</td>\n",
       "      <td>0</td>\n",
       "      <td>0</td>\n",
       "      <td>5.0</td>\n",
       "      <td>674</td>\n",
       "      <td>2.5</td>\n",
       "      <td>not provided</td>\n",
       "      <td>unemployed</td>\n",
       "      <td>better career prospects</td>\n",
       "      <td>not provided</td>\n",
       "      <td>0</td>\n",
       "    </tr>\n",
       "    <tr>\n",
       "      <th>2</th>\n",
       "      <td>660727</td>\n",
       "      <td>landing page submission</td>\n",
       "      <td>direct traffic</td>\n",
       "      <td>0</td>\n",
       "      <td>1</td>\n",
       "      <td>2.0</td>\n",
       "      <td>1532</td>\n",
       "      <td>2.0</td>\n",
       "      <td>business administration</td>\n",
       "      <td>student</td>\n",
       "      <td>better career prospects</td>\n",
       "      <td>mumbai</td>\n",
       "      <td>1</td>\n",
       "    </tr>\n",
       "    <tr>\n",
       "      <th>3</th>\n",
       "      <td>660719</td>\n",
       "      <td>landing page submission</td>\n",
       "      <td>direct traffic</td>\n",
       "      <td>0</td>\n",
       "      <td>0</td>\n",
       "      <td>1.0</td>\n",
       "      <td>305</td>\n",
       "      <td>1.0</td>\n",
       "      <td>media and advertising</td>\n",
       "      <td>unemployed</td>\n",
       "      <td>better career prospects</td>\n",
       "      <td>mumbai</td>\n",
       "      <td>0</td>\n",
       "    </tr>\n",
       "    <tr>\n",
       "      <th>4</th>\n",
       "      <td>660681</td>\n",
       "      <td>landing page submission</td>\n",
       "      <td>google</td>\n",
       "      <td>0</td>\n",
       "      <td>1</td>\n",
       "      <td>2.0</td>\n",
       "      <td>1428</td>\n",
       "      <td>1.0</td>\n",
       "      <td>not provided</td>\n",
       "      <td>unemployed</td>\n",
       "      <td>better career prospects</td>\n",
       "      <td>mumbai</td>\n",
       "      <td>0</td>\n",
       "    </tr>\n",
       "  </tbody>\n",
       "</table>\n",
       "</div>"
      ],
      "text/plain": [
       "   Lead Number              Lead Origin     Lead Source Do Not Email  \\\n",
       "0       660737                      api      olark chat            0   \n",
       "1       660728                      api  organic search            0   \n",
       "2       660727  landing page submission  direct traffic            0   \n",
       "3       660719  landing page submission  direct traffic            0   \n",
       "4       660681  landing page submission          google            0   \n",
       "\n",
       "   Converted  TotalVisits  Total Time Spent on Website  Page Views Per Visit  \\\n",
       "0          0          0.0                            0                   0.0   \n",
       "1          0          5.0                          674                   2.5   \n",
       "2          1          2.0                         1532                   2.0   \n",
       "3          0          1.0                          305                   1.0   \n",
       "4          1          2.0                         1428                   1.0   \n",
       "\n",
       "            Specialization What is your current occupation  \\\n",
       "0             not provided                      unemployed   \n",
       "1             not provided                      unemployed   \n",
       "2  business administration                         student   \n",
       "3    media and advertising                      unemployed   \n",
       "4             not provided                      unemployed   \n",
       "\n",
       "  What matters most to you in choosing a course          City  \\\n",
       "0                       better career prospects  not provided   \n",
       "1                       better career prospects  not provided   \n",
       "2                       better career prospects        mumbai   \n",
       "3                       better career prospects        mumbai   \n",
       "4                       better career prospects        mumbai   \n",
       "\n",
       "  A free copy of Mastering The Interview  \n",
       "0                                      0  \n",
       "1                                      0  \n",
       "2                                      1  \n",
       "3                                      0  \n",
       "4                                      0  "
      ]
     },
     "execution_count": 226,
     "metadata": {},
     "output_type": "execute_result"
    }
   ],
   "source": [
    "lead_df_new.head()"
   ]
  },
  {
   "cell_type": "code",
   "execution_count": 227,
   "metadata": {},
   "outputs": [],
   "source": [
    "# Create dummy variables using the 'get_dummies'\n",
    "dummy = pd.get_dummies(lead_df_new[['Lead Origin','Lead Source', 'Do Not Email','Specialization', \n",
    "                                    'What is your current occupation',\n",
    "                                  'What matters most to you in choosing a course', \n",
    "                                    'City','A free copy of Mastering The Interview']], drop_first=False)"
   ]
  },
  {
   "cell_type": "code",
   "execution_count": 228,
   "metadata": {},
   "outputs": [
    {
     "data": {
      "text/html": [
       "<div>\n",
       "<style scoped>\n",
       "    .dataframe tbody tr th:only-of-type {\n",
       "        vertical-align: middle;\n",
       "    }\n",
       "\n",
       "    .dataframe tbody tr th {\n",
       "        vertical-align: top;\n",
       "    }\n",
       "\n",
       "    .dataframe thead th {\n",
       "        text-align: right;\n",
       "    }\n",
       "</style>\n",
       "<table border=\"1\" class=\"dataframe\">\n",
       "  <thead>\n",
       "    <tr style=\"text-align: right;\">\n",
       "      <th></th>\n",
       "      <th>Lead Number</th>\n",
       "      <th>Lead Origin</th>\n",
       "      <th>Lead Source</th>\n",
       "      <th>Do Not Email</th>\n",
       "      <th>Converted</th>\n",
       "      <th>TotalVisits</th>\n",
       "      <th>Total Time Spent on Website</th>\n",
       "      <th>Page Views Per Visit</th>\n",
       "      <th>Specialization</th>\n",
       "      <th>What is your current occupation</th>\n",
       "      <th>...</th>\n",
       "      <th>What is your current occupation_working professional</th>\n",
       "      <th>What matters most to you in choosing a course_better career prospects</th>\n",
       "      <th>What matters most to you in choosing a course_flexibility &amp; convenience</th>\n",
       "      <th>What matters most to you in choosing a course_not provided</th>\n",
       "      <th>What matters most to you in choosing a course_other</th>\n",
       "      <th>City_mumbai</th>\n",
       "      <th>City_not provided</th>\n",
       "      <th>City_other</th>\n",
       "      <th>A free copy of Mastering The Interview_0</th>\n",
       "      <th>A free copy of Mastering The Interview_1</th>\n",
       "    </tr>\n",
       "  </thead>\n",
       "  <tbody>\n",
       "    <tr>\n",
       "      <th>0</th>\n",
       "      <td>660737</td>\n",
       "      <td>api</td>\n",
       "      <td>olark chat</td>\n",
       "      <td>0</td>\n",
       "      <td>0</td>\n",
       "      <td>0.0</td>\n",
       "      <td>0</td>\n",
       "      <td>0.0</td>\n",
       "      <td>not provided</td>\n",
       "      <td>unemployed</td>\n",
       "      <td>...</td>\n",
       "      <td>0</td>\n",
       "      <td>1</td>\n",
       "      <td>0</td>\n",
       "      <td>0</td>\n",
       "      <td>0</td>\n",
       "      <td>0</td>\n",
       "      <td>1</td>\n",
       "      <td>0</td>\n",
       "      <td>1</td>\n",
       "      <td>0</td>\n",
       "    </tr>\n",
       "    <tr>\n",
       "      <th>1</th>\n",
       "      <td>660728</td>\n",
       "      <td>api</td>\n",
       "      <td>organic search</td>\n",
       "      <td>0</td>\n",
       "      <td>0</td>\n",
       "      <td>5.0</td>\n",
       "      <td>674</td>\n",
       "      <td>2.5</td>\n",
       "      <td>not provided</td>\n",
       "      <td>unemployed</td>\n",
       "      <td>...</td>\n",
       "      <td>0</td>\n",
       "      <td>1</td>\n",
       "      <td>0</td>\n",
       "      <td>0</td>\n",
       "      <td>0</td>\n",
       "      <td>0</td>\n",
       "      <td>1</td>\n",
       "      <td>0</td>\n",
       "      <td>1</td>\n",
       "      <td>0</td>\n",
       "    </tr>\n",
       "    <tr>\n",
       "      <th>2</th>\n",
       "      <td>660727</td>\n",
       "      <td>landing page submission</td>\n",
       "      <td>direct traffic</td>\n",
       "      <td>0</td>\n",
       "      <td>1</td>\n",
       "      <td>2.0</td>\n",
       "      <td>1532</td>\n",
       "      <td>2.0</td>\n",
       "      <td>business administration</td>\n",
       "      <td>student</td>\n",
       "      <td>...</td>\n",
       "      <td>0</td>\n",
       "      <td>1</td>\n",
       "      <td>0</td>\n",
       "      <td>0</td>\n",
       "      <td>0</td>\n",
       "      <td>1</td>\n",
       "      <td>0</td>\n",
       "      <td>0</td>\n",
       "      <td>0</td>\n",
       "      <td>1</td>\n",
       "    </tr>\n",
       "    <tr>\n",
       "      <th>3</th>\n",
       "      <td>660719</td>\n",
       "      <td>landing page submission</td>\n",
       "      <td>direct traffic</td>\n",
       "      <td>0</td>\n",
       "      <td>0</td>\n",
       "      <td>1.0</td>\n",
       "      <td>305</td>\n",
       "      <td>1.0</td>\n",
       "      <td>media and advertising</td>\n",
       "      <td>unemployed</td>\n",
       "      <td>...</td>\n",
       "      <td>0</td>\n",
       "      <td>1</td>\n",
       "      <td>0</td>\n",
       "      <td>0</td>\n",
       "      <td>0</td>\n",
       "      <td>1</td>\n",
       "      <td>0</td>\n",
       "      <td>0</td>\n",
       "      <td>1</td>\n",
       "      <td>0</td>\n",
       "    </tr>\n",
       "    <tr>\n",
       "      <th>4</th>\n",
       "      <td>660681</td>\n",
       "      <td>landing page submission</td>\n",
       "      <td>google</td>\n",
       "      <td>0</td>\n",
       "      <td>1</td>\n",
       "      <td>2.0</td>\n",
       "      <td>1428</td>\n",
       "      <td>1.0</td>\n",
       "      <td>not provided</td>\n",
       "      <td>unemployed</td>\n",
       "      <td>...</td>\n",
       "      <td>0</td>\n",
       "      <td>1</td>\n",
       "      <td>0</td>\n",
       "      <td>0</td>\n",
       "      <td>0</td>\n",
       "      <td>1</td>\n",
       "      <td>0</td>\n",
       "      <td>0</td>\n",
       "      <td>1</td>\n",
       "      <td>0</td>\n",
       "    </tr>\n",
       "  </tbody>\n",
       "</table>\n",
       "<p>5 rows × 55 columns</p>\n",
       "</div>"
      ],
      "text/plain": [
       "   Lead Number              Lead Origin     Lead Source Do Not Email  \\\n",
       "0       660737                      api      olark chat            0   \n",
       "1       660728                      api  organic search            0   \n",
       "2       660727  landing page submission  direct traffic            0   \n",
       "3       660719  landing page submission  direct traffic            0   \n",
       "4       660681  landing page submission          google            0   \n",
       "\n",
       "   Converted  TotalVisits  Total Time Spent on Website  Page Views Per Visit  \\\n",
       "0          0          0.0                            0                   0.0   \n",
       "1          0          5.0                          674                   2.5   \n",
       "2          1          2.0                         1532                   2.0   \n",
       "3          0          1.0                          305                   1.0   \n",
       "4          1          2.0                         1428                   1.0   \n",
       "\n",
       "            Specialization What is your current occupation  ...  \\\n",
       "0             not provided                      unemployed  ...   \n",
       "1             not provided                      unemployed  ...   \n",
       "2  business administration                         student  ...   \n",
       "3    media and advertising                      unemployed  ...   \n",
       "4             not provided                      unemployed  ...   \n",
       "\n",
       "  What is your current occupation_working professional  \\\n",
       "0                                                  0     \n",
       "1                                                  0     \n",
       "2                                                  0     \n",
       "3                                                  0     \n",
       "4                                                  0     \n",
       "\n",
       "  What matters most to you in choosing a course_better career prospects  \\\n",
       "0                                                  1                      \n",
       "1                                                  1                      \n",
       "2                                                  1                      \n",
       "3                                                  1                      \n",
       "4                                                  1                      \n",
       "\n",
       "  What matters most to you in choosing a course_flexibility & convenience  \\\n",
       "0                                                  0                        \n",
       "1                                                  0                        \n",
       "2                                                  0                        \n",
       "3                                                  0                        \n",
       "4                                                  0                        \n",
       "\n",
       "   What matters most to you in choosing a course_not provided  \\\n",
       "0                                                  0            \n",
       "1                                                  0            \n",
       "2                                                  0            \n",
       "3                                                  0            \n",
       "4                                                  0            \n",
       "\n",
       "   What matters most to you in choosing a course_other  City_mumbai  \\\n",
       "0                                                  0              0   \n",
       "1                                                  0              0   \n",
       "2                                                  0              1   \n",
       "3                                                  0              1   \n",
       "4                                                  0              1   \n",
       "\n",
       "   City_not provided  City_other  A free copy of Mastering The Interview_0  \\\n",
       "0                  1           0                                         1   \n",
       "1                  1           0                                         1   \n",
       "2                  0           0                                         0   \n",
       "3                  0           0                                         1   \n",
       "4                  0           0                                         1   \n",
       "\n",
       "   A free copy of Mastering The Interview_1  \n",
       "0                                         0  \n",
       "1                                         0  \n",
       "2                                         1  \n",
       "3                                         0  \n",
       "4                                         0  \n",
       "\n",
       "[5 rows x 55 columns]"
      ]
     },
     "execution_count": 228,
     "metadata": {},
     "output_type": "execute_result"
    }
   ],
   "source": [
    "# Add the results to the master dataframe\n",
    "lead_df_new_dum = pd.concat([lead_df_new, dummy], axis=1)\n",
    "lead_df_new_dum.head()"
   ]
  },
  {
   "cell_type": "code",
   "execution_count": 229,
   "metadata": {},
   "outputs": [
    {
     "data": {
      "text/plain": [
       "(9103, 55)"
      ]
     },
     "execution_count": 229,
     "metadata": {},
     "output_type": "execute_result"
    }
   ],
   "source": [
    "lead_df_new_dum.shape"
   ]
  },
  {
   "cell_type": "code",
   "execution_count": 230,
   "metadata": {},
   "outputs": [
    {
     "data": {
      "text/html": [
       "<div>\n",
       "<style scoped>\n",
       "    .dataframe tbody tr th:only-of-type {\n",
       "        vertical-align: middle;\n",
       "    }\n",
       "\n",
       "    .dataframe tbody tr th {\n",
       "        vertical-align: top;\n",
       "    }\n",
       "\n",
       "    .dataframe thead th {\n",
       "        text-align: right;\n",
       "    }\n",
       "</style>\n",
       "<table border=\"1\" class=\"dataframe\">\n",
       "  <thead>\n",
       "    <tr style=\"text-align: right;\">\n",
       "      <th></th>\n",
       "      <th>Lead Number</th>\n",
       "      <th>Converted</th>\n",
       "      <th>TotalVisits</th>\n",
       "      <th>Total Time Spent on Website</th>\n",
       "      <th>Page Views Per Visit</th>\n",
       "      <th>Lead Origin_api</th>\n",
       "      <th>Lead Origin_landing page submission</th>\n",
       "      <th>Lead Origin_lead add form</th>\n",
       "      <th>Lead Source_direct traffic</th>\n",
       "      <th>Lead Source_google</th>\n",
       "      <th>...</th>\n",
       "      <th>What is your current occupation_other</th>\n",
       "      <th>What is your current occupation_student</th>\n",
       "      <th>What is your current occupation_unemployed</th>\n",
       "      <th>What is your current occupation_working professional</th>\n",
       "      <th>What matters most to you in choosing a course_better career prospects</th>\n",
       "      <th>What matters most to you in choosing a course_flexibility &amp; convenience</th>\n",
       "      <th>What matters most to you in choosing a course_other</th>\n",
       "      <th>City_mumbai</th>\n",
       "      <th>City_other</th>\n",
       "      <th>A free copy of Mastering The Interview_1</th>\n",
       "    </tr>\n",
       "  </thead>\n",
       "  <tbody>\n",
       "    <tr>\n",
       "      <th>0</th>\n",
       "      <td>660737</td>\n",
       "      <td>0</td>\n",
       "      <td>0.0</td>\n",
       "      <td>0</td>\n",
       "      <td>0.0</td>\n",
       "      <td>1</td>\n",
       "      <td>0</td>\n",
       "      <td>0</td>\n",
       "      <td>0</td>\n",
       "      <td>0</td>\n",
       "      <td>...</td>\n",
       "      <td>0</td>\n",
       "      <td>0</td>\n",
       "      <td>1</td>\n",
       "      <td>0</td>\n",
       "      <td>1</td>\n",
       "      <td>0</td>\n",
       "      <td>0</td>\n",
       "      <td>0</td>\n",
       "      <td>0</td>\n",
       "      <td>0</td>\n",
       "    </tr>\n",
       "    <tr>\n",
       "      <th>1</th>\n",
       "      <td>660728</td>\n",
       "      <td>0</td>\n",
       "      <td>5.0</td>\n",
       "      <td>674</td>\n",
       "      <td>2.5</td>\n",
       "      <td>1</td>\n",
       "      <td>0</td>\n",
       "      <td>0</td>\n",
       "      <td>0</td>\n",
       "      <td>0</td>\n",
       "      <td>...</td>\n",
       "      <td>0</td>\n",
       "      <td>0</td>\n",
       "      <td>1</td>\n",
       "      <td>0</td>\n",
       "      <td>1</td>\n",
       "      <td>0</td>\n",
       "      <td>0</td>\n",
       "      <td>0</td>\n",
       "      <td>0</td>\n",
       "      <td>0</td>\n",
       "    </tr>\n",
       "    <tr>\n",
       "      <th>2</th>\n",
       "      <td>660727</td>\n",
       "      <td>1</td>\n",
       "      <td>2.0</td>\n",
       "      <td>1532</td>\n",
       "      <td>2.0</td>\n",
       "      <td>0</td>\n",
       "      <td>1</td>\n",
       "      <td>0</td>\n",
       "      <td>1</td>\n",
       "      <td>0</td>\n",
       "      <td>...</td>\n",
       "      <td>0</td>\n",
       "      <td>1</td>\n",
       "      <td>0</td>\n",
       "      <td>0</td>\n",
       "      <td>1</td>\n",
       "      <td>0</td>\n",
       "      <td>0</td>\n",
       "      <td>1</td>\n",
       "      <td>0</td>\n",
       "      <td>1</td>\n",
       "    </tr>\n",
       "    <tr>\n",
       "      <th>3</th>\n",
       "      <td>660719</td>\n",
       "      <td>0</td>\n",
       "      <td>1.0</td>\n",
       "      <td>305</td>\n",
       "      <td>1.0</td>\n",
       "      <td>0</td>\n",
       "      <td>1</td>\n",
       "      <td>0</td>\n",
       "      <td>1</td>\n",
       "      <td>0</td>\n",
       "      <td>...</td>\n",
       "      <td>0</td>\n",
       "      <td>0</td>\n",
       "      <td>1</td>\n",
       "      <td>0</td>\n",
       "      <td>1</td>\n",
       "      <td>0</td>\n",
       "      <td>0</td>\n",
       "      <td>1</td>\n",
       "      <td>0</td>\n",
       "      <td>0</td>\n",
       "    </tr>\n",
       "    <tr>\n",
       "      <th>4</th>\n",
       "      <td>660681</td>\n",
       "      <td>1</td>\n",
       "      <td>2.0</td>\n",
       "      <td>1428</td>\n",
       "      <td>1.0</td>\n",
       "      <td>0</td>\n",
       "      <td>1</td>\n",
       "      <td>0</td>\n",
       "      <td>0</td>\n",
       "      <td>1</td>\n",
       "      <td>...</td>\n",
       "      <td>0</td>\n",
       "      <td>0</td>\n",
       "      <td>1</td>\n",
       "      <td>0</td>\n",
       "      <td>1</td>\n",
       "      <td>0</td>\n",
       "      <td>0</td>\n",
       "      <td>1</td>\n",
       "      <td>0</td>\n",
       "      <td>0</td>\n",
       "    </tr>\n",
       "  </tbody>\n",
       "</table>\n",
       "<p>5 rows × 39 columns</p>\n",
       "</div>"
      ],
      "text/plain": [
       "   Lead Number  Converted  TotalVisits  Total Time Spent on Website  \\\n",
       "0       660737          0          0.0                            0   \n",
       "1       660728          0          5.0                          674   \n",
       "2       660727          1          2.0                         1532   \n",
       "3       660719          0          1.0                          305   \n",
       "4       660681          1          2.0                         1428   \n",
       "\n",
       "   Page Views Per Visit  Lead Origin_api  Lead Origin_landing page submission  \\\n",
       "0                   0.0                1                                    0   \n",
       "1                   2.5                1                                    0   \n",
       "2                   2.0                0                                    1   \n",
       "3                   1.0                0                                    1   \n",
       "4                   1.0                0                                    1   \n",
       "\n",
       "   Lead Origin_lead add form  Lead Source_direct traffic  Lead Source_google  \\\n",
       "0                          0                           0                   0   \n",
       "1                          0                           0                   0   \n",
       "2                          0                           1                   0   \n",
       "3                          0                           1                   0   \n",
       "4                          0                           0                   1   \n",
       "\n",
       "   ...  What is your current occupation_other  \\\n",
       "0  ...                                      0   \n",
       "1  ...                                      0   \n",
       "2  ...                                      0   \n",
       "3  ...                                      0   \n",
       "4  ...                                      0   \n",
       "\n",
       "   What is your current occupation_student  \\\n",
       "0                                        0   \n",
       "1                                        0   \n",
       "2                                        1   \n",
       "3                                        0   \n",
       "4                                        0   \n",
       "\n",
       "   What is your current occupation_unemployed  \\\n",
       "0                                           1   \n",
       "1                                           1   \n",
       "2                                           0   \n",
       "3                                           1   \n",
       "4                                           1   \n",
       "\n",
       "   What is your current occupation_working professional  \\\n",
       "0                                                  0      \n",
       "1                                                  0      \n",
       "2                                                  0      \n",
       "3                                                  0      \n",
       "4                                                  0      \n",
       "\n",
       "   What matters most to you in choosing a course_better career prospects  \\\n",
       "0                                                  1                       \n",
       "1                                                  1                       \n",
       "2                                                  1                       \n",
       "3                                                  1                       \n",
       "4                                                  1                       \n",
       "\n",
       "   What matters most to you in choosing a course_flexibility & convenience  \\\n",
       "0                                                  0                         \n",
       "1                                                  0                         \n",
       "2                                                  0                         \n",
       "3                                                  0                         \n",
       "4                                                  0                         \n",
       "\n",
       "   What matters most to you in choosing a course_other  City_mumbai  \\\n",
       "0                                                  0              0   \n",
       "1                                                  0              0   \n",
       "2                                                  0              1   \n",
       "3                                                  0              1   \n",
       "4                                                  0              1   \n",
       "\n",
       "   City_other  A free copy of Mastering The Interview_1  \n",
       "0           0                                         0  \n",
       "1           0                                         0  \n",
       "2           0                                         1  \n",
       "3           0                                         0  \n",
       "4           0                                         0  \n",
       "\n",
       "[5 rows x 39 columns]"
      ]
     },
     "execution_count": 230,
     "metadata": {},
     "output_type": "execute_result"
    }
   ],
   "source": [
    "lead_df_new_dum = lead_df_new_dum.drop(['Lead Origin','Lead Origin_lead import', 'Lead Source','Lead Source_others', 'Do Not Email','Do Not Email_0', 'Specialization', \n",
    "                                        'Specialization_not provided','What is your current occupation',\n",
    "                                        'What is your current occupation_not provided','What matters most to you in choosing a course', \n",
    "                                  'What matters most to you in choosing a course_not provided','City','City_not provided',\n",
    "                                        'A free copy of Mastering The Interview','A free copy of Mastering The Interview_0'], axis=1)\n",
    "lead_df_new_dum.head()"
   ]
  },
  {
   "cell_type": "code",
   "execution_count": 231,
   "metadata": {},
   "outputs": [],
   "source": [
    "original_leads = lead_df_new_dum.copy()\n",
    "# Dropping Lead Number column as it is not useful for analysis\n",
    "lead_df_new_dum = lead_df_new_dum.drop('Lead Number',axis=1)"
   ]
  },
  {
   "cell_type": "code",
   "execution_count": 232,
   "metadata": {},
   "outputs": [
    {
     "name": "stdout",
     "output_type": "stream",
     "text": [
      "<class 'pandas.core.frame.DataFrame'>\n",
      "Int64Index: 9103 entries, 0 to 9239\n",
      "Data columns (total 38 columns):\n",
      " #   Column                                                                   Non-Null Count  Dtype  \n",
      "---  ------                                                                   --------------  -----  \n",
      " 0   Converted                                                                9103 non-null   int64  \n",
      " 1   TotalVisits                                                              9103 non-null   float64\n",
      " 2   Total Time Spent on Website                                              9103 non-null   int64  \n",
      " 3   Page Views Per Visit                                                     9103 non-null   float64\n",
      " 4   Lead Origin_api                                                          9103 non-null   uint8  \n",
      " 5   Lead Origin_landing page submission                                      9103 non-null   uint8  \n",
      " 6   Lead Origin_lead add form                                                9103 non-null   uint8  \n",
      " 7   Lead Source_direct traffic                                               9103 non-null   uint8  \n",
      " 8   Lead Source_google                                                       9103 non-null   uint8  \n",
      " 9   Lead Source_olark chat                                                   9103 non-null   uint8  \n",
      " 10  Lead Source_organic search                                               9103 non-null   uint8  \n",
      " 11  Lead Source_reference                                                    9103 non-null   uint8  \n",
      " 12  Lead Source_referral sites                                               9103 non-null   uint8  \n",
      " 13  Lead Source_social media                                                 9103 non-null   uint8  \n",
      " 14  Lead Source_welingak website                                             9103 non-null   uint8  \n",
      " 15  Do Not Email_1                                                           9103 non-null   uint8  \n",
      " 16  Specialization_banking, investment and insurance                         9103 non-null   uint8  \n",
      " 17  Specialization_business administration                                   9103 non-null   uint8  \n",
      " 18  Specialization_e-business                                                9103 non-null   uint8  \n",
      " 19  Specialization_e-commerce                                                9103 non-null   uint8  \n",
      " 20  Specialization_international business                                    9103 non-null   uint8  \n",
      " 21  Specialization_management_specializations                                9103 non-null   uint8  \n",
      " 22  Specialization_media and advertising                                     9103 non-null   uint8  \n",
      " 23  Specialization_rural and agribusiness                                    9103 non-null   uint8  \n",
      " 24  Specialization_services excellence                                       9103 non-null   uint8  \n",
      " 25  Specialization_travel and tourism                                        9103 non-null   uint8  \n",
      " 26  What is your current occupation_businessman                              9103 non-null   uint8  \n",
      " 27  What is your current occupation_housewife                                9103 non-null   uint8  \n",
      " 28  What is your current occupation_other                                    9103 non-null   uint8  \n",
      " 29  What is your current occupation_student                                  9103 non-null   uint8  \n",
      " 30  What is your current occupation_unemployed                               9103 non-null   uint8  \n",
      " 31  What is your current occupation_working professional                     9103 non-null   uint8  \n",
      " 32  What matters most to you in choosing a course_better career prospects    9103 non-null   uint8  \n",
      " 33  What matters most to you in choosing a course_flexibility & convenience  9103 non-null   uint8  \n",
      " 34  What matters most to you in choosing a course_other                      9103 non-null   uint8  \n",
      " 35  City_mumbai                                                              9103 non-null   uint8  \n",
      " 36  City_other                                                               9103 non-null   uint8  \n",
      " 37  A free copy of Mastering The Interview_1                                 9103 non-null   uint8  \n",
      "dtypes: float64(2), int64(2), uint8(34)\n",
      "memory usage: 977.8 KB\n"
     ]
    }
   ],
   "source": [
    "lead_df_new_dum.info()"
   ]
  },
  {
   "cell_type": "code",
   "execution_count": 233,
   "metadata": {},
   "outputs": [],
   "source": [
    "# cat_cols= lead_df_new.select_dtypes(include=['object']).columns\n",
    "# cat_cols"
   ]
  },
  {
   "cell_type": "markdown",
   "metadata": {},
   "source": [
    "## Train and Test split"
   ]
  },
  {
   "cell_type": "code",
   "execution_count": 234,
   "metadata": {},
   "outputs": [
    {
     "data": {
      "text/html": [
       "<div>\n",
       "<style scoped>\n",
       "    .dataframe tbody tr th:only-of-type {\n",
       "        vertical-align: middle;\n",
       "    }\n",
       "\n",
       "    .dataframe tbody tr th {\n",
       "        vertical-align: top;\n",
       "    }\n",
       "\n",
       "    .dataframe thead th {\n",
       "        text-align: right;\n",
       "    }\n",
       "</style>\n",
       "<table border=\"1\" class=\"dataframe\">\n",
       "  <thead>\n",
       "    <tr style=\"text-align: right;\">\n",
       "      <th></th>\n",
       "      <th>TotalVisits</th>\n",
       "      <th>Total Time Spent on Website</th>\n",
       "      <th>Page Views Per Visit</th>\n",
       "      <th>Lead Origin_api</th>\n",
       "      <th>Lead Origin_landing page submission</th>\n",
       "      <th>Lead Origin_lead add form</th>\n",
       "      <th>Lead Source_direct traffic</th>\n",
       "      <th>Lead Source_google</th>\n",
       "      <th>Lead Source_olark chat</th>\n",
       "      <th>Lead Source_organic search</th>\n",
       "      <th>...</th>\n",
       "      <th>What is your current occupation_other</th>\n",
       "      <th>What is your current occupation_student</th>\n",
       "      <th>What is your current occupation_unemployed</th>\n",
       "      <th>What is your current occupation_working professional</th>\n",
       "      <th>What matters most to you in choosing a course_better career prospects</th>\n",
       "      <th>What matters most to you in choosing a course_flexibility &amp; convenience</th>\n",
       "      <th>What matters most to you in choosing a course_other</th>\n",
       "      <th>City_mumbai</th>\n",
       "      <th>City_other</th>\n",
       "      <th>A free copy of Mastering The Interview_1</th>\n",
       "    </tr>\n",
       "  </thead>\n",
       "  <tbody>\n",
       "    <tr>\n",
       "      <th>0</th>\n",
       "      <td>0.0</td>\n",
       "      <td>0</td>\n",
       "      <td>0.0</td>\n",
       "      <td>1</td>\n",
       "      <td>0</td>\n",
       "      <td>0</td>\n",
       "      <td>0</td>\n",
       "      <td>0</td>\n",
       "      <td>1</td>\n",
       "      <td>0</td>\n",
       "      <td>...</td>\n",
       "      <td>0</td>\n",
       "      <td>0</td>\n",
       "      <td>1</td>\n",
       "      <td>0</td>\n",
       "      <td>1</td>\n",
       "      <td>0</td>\n",
       "      <td>0</td>\n",
       "      <td>0</td>\n",
       "      <td>0</td>\n",
       "      <td>0</td>\n",
       "    </tr>\n",
       "    <tr>\n",
       "      <th>1</th>\n",
       "      <td>5.0</td>\n",
       "      <td>674</td>\n",
       "      <td>2.5</td>\n",
       "      <td>1</td>\n",
       "      <td>0</td>\n",
       "      <td>0</td>\n",
       "      <td>0</td>\n",
       "      <td>0</td>\n",
       "      <td>0</td>\n",
       "      <td>1</td>\n",
       "      <td>...</td>\n",
       "      <td>0</td>\n",
       "      <td>0</td>\n",
       "      <td>1</td>\n",
       "      <td>0</td>\n",
       "      <td>1</td>\n",
       "      <td>0</td>\n",
       "      <td>0</td>\n",
       "      <td>0</td>\n",
       "      <td>0</td>\n",
       "      <td>0</td>\n",
       "    </tr>\n",
       "    <tr>\n",
       "      <th>2</th>\n",
       "      <td>2.0</td>\n",
       "      <td>1532</td>\n",
       "      <td>2.0</td>\n",
       "      <td>0</td>\n",
       "      <td>1</td>\n",
       "      <td>0</td>\n",
       "      <td>1</td>\n",
       "      <td>0</td>\n",
       "      <td>0</td>\n",
       "      <td>0</td>\n",
       "      <td>...</td>\n",
       "      <td>0</td>\n",
       "      <td>1</td>\n",
       "      <td>0</td>\n",
       "      <td>0</td>\n",
       "      <td>1</td>\n",
       "      <td>0</td>\n",
       "      <td>0</td>\n",
       "      <td>1</td>\n",
       "      <td>0</td>\n",
       "      <td>1</td>\n",
       "    </tr>\n",
       "    <tr>\n",
       "      <th>3</th>\n",
       "      <td>1.0</td>\n",
       "      <td>305</td>\n",
       "      <td>1.0</td>\n",
       "      <td>0</td>\n",
       "      <td>1</td>\n",
       "      <td>0</td>\n",
       "      <td>1</td>\n",
       "      <td>0</td>\n",
       "      <td>0</td>\n",
       "      <td>0</td>\n",
       "      <td>...</td>\n",
       "      <td>0</td>\n",
       "      <td>0</td>\n",
       "      <td>1</td>\n",
       "      <td>0</td>\n",
       "      <td>1</td>\n",
       "      <td>0</td>\n",
       "      <td>0</td>\n",
       "      <td>1</td>\n",
       "      <td>0</td>\n",
       "      <td>0</td>\n",
       "    </tr>\n",
       "    <tr>\n",
       "      <th>4</th>\n",
       "      <td>2.0</td>\n",
       "      <td>1428</td>\n",
       "      <td>1.0</td>\n",
       "      <td>0</td>\n",
       "      <td>1</td>\n",
       "      <td>0</td>\n",
       "      <td>0</td>\n",
       "      <td>1</td>\n",
       "      <td>0</td>\n",
       "      <td>0</td>\n",
       "      <td>...</td>\n",
       "      <td>0</td>\n",
       "      <td>0</td>\n",
       "      <td>1</td>\n",
       "      <td>0</td>\n",
       "      <td>1</td>\n",
       "      <td>0</td>\n",
       "      <td>0</td>\n",
       "      <td>1</td>\n",
       "      <td>0</td>\n",
       "      <td>0</td>\n",
       "    </tr>\n",
       "  </tbody>\n",
       "</table>\n",
       "<p>5 rows × 37 columns</p>\n",
       "</div>"
      ],
      "text/plain": [
       "   TotalVisits  Total Time Spent on Website  Page Views Per Visit  \\\n",
       "0          0.0                            0                   0.0   \n",
       "1          5.0                          674                   2.5   \n",
       "2          2.0                         1532                   2.0   \n",
       "3          1.0                          305                   1.0   \n",
       "4          2.0                         1428                   1.0   \n",
       "\n",
       "   Lead Origin_api  Lead Origin_landing page submission  \\\n",
       "0                1                                    0   \n",
       "1                1                                    0   \n",
       "2                0                                    1   \n",
       "3                0                                    1   \n",
       "4                0                                    1   \n",
       "\n",
       "   Lead Origin_lead add form  Lead Source_direct traffic  Lead Source_google  \\\n",
       "0                          0                           0                   0   \n",
       "1                          0                           0                   0   \n",
       "2                          0                           1                   0   \n",
       "3                          0                           1                   0   \n",
       "4                          0                           0                   1   \n",
       "\n",
       "   Lead Source_olark chat  Lead Source_organic search  ...  \\\n",
       "0                       1                           0  ...   \n",
       "1                       0                           1  ...   \n",
       "2                       0                           0  ...   \n",
       "3                       0                           0  ...   \n",
       "4                       0                           0  ...   \n",
       "\n",
       "   What is your current occupation_other  \\\n",
       "0                                      0   \n",
       "1                                      0   \n",
       "2                                      0   \n",
       "3                                      0   \n",
       "4                                      0   \n",
       "\n",
       "   What is your current occupation_student  \\\n",
       "0                                        0   \n",
       "1                                        0   \n",
       "2                                        1   \n",
       "3                                        0   \n",
       "4                                        0   \n",
       "\n",
       "   What is your current occupation_unemployed  \\\n",
       "0                                           1   \n",
       "1                                           1   \n",
       "2                                           0   \n",
       "3                                           1   \n",
       "4                                           1   \n",
       "\n",
       "   What is your current occupation_working professional  \\\n",
       "0                                                  0      \n",
       "1                                                  0      \n",
       "2                                                  0      \n",
       "3                                                  0      \n",
       "4                                                  0      \n",
       "\n",
       "   What matters most to you in choosing a course_better career prospects  \\\n",
       "0                                                  1                       \n",
       "1                                                  1                       \n",
       "2                                                  1                       \n",
       "3                                                  1                       \n",
       "4                                                  1                       \n",
       "\n",
       "   What matters most to you in choosing a course_flexibility & convenience  \\\n",
       "0                                                  0                         \n",
       "1                                                  0                         \n",
       "2                                                  0                         \n",
       "3                                                  0                         \n",
       "4                                                  0                         \n",
       "\n",
       "   What matters most to you in choosing a course_other  City_mumbai  \\\n",
       "0                                                  0              0   \n",
       "1                                                  0              0   \n",
       "2                                                  0              1   \n",
       "3                                                  0              1   \n",
       "4                                                  0              1   \n",
       "\n",
       "   City_other  A free copy of Mastering The Interview_1  \n",
       "0           0                                         0  \n",
       "1           0                                         0  \n",
       "2           0                                         1  \n",
       "3           0                                         0  \n",
       "4           0                                         0  \n",
       "\n",
       "[5 rows x 37 columns]"
      ]
     },
     "execution_count": 234,
     "metadata": {},
     "output_type": "execute_result"
    }
   ],
   "source": [
    "# Putting feature variable to X\n",
    "X = lead_df_new_dum.drop(['Converted'], axis=1)\n",
    "\n",
    "X.head()"
   ]
  },
  {
   "cell_type": "code",
   "execution_count": 235,
   "metadata": {},
   "outputs": [
    {
     "data": {
      "text/plain": [
       "0    0\n",
       "1    0\n",
       "2    1\n",
       "3    0\n",
       "4    1\n",
       "Name: Converted, dtype: int64"
      ]
     },
     "execution_count": 235,
     "metadata": {},
     "output_type": "execute_result"
    }
   ],
   "source": [
    "# Putting response variable to y\n",
    "y = lead_df_new_dum['Converted']\n",
    "\n",
    "y.head()"
   ]
  },
  {
   "cell_type": "code",
   "execution_count": 236,
   "metadata": {},
   "outputs": [],
   "source": [
    "# Splitting the data into train and test\n",
    "X_train, X_test, y_train, y_test = train_test_split(X, y, train_size=0.7, test_size=0.3, random_state=100)"
   ]
  },
  {
   "cell_type": "markdown",
   "metadata": {},
   "source": [
    "### Feature Scaling"
   ]
  },
  {
   "cell_type": "code",
   "execution_count": 237,
   "metadata": {},
   "outputs": [
    {
     "data": {
      "text/html": [
       "<div>\n",
       "<style scoped>\n",
       "    .dataframe tbody tr th:only-of-type {\n",
       "        vertical-align: middle;\n",
       "    }\n",
       "\n",
       "    .dataframe tbody tr th {\n",
       "        vertical-align: top;\n",
       "    }\n",
       "\n",
       "    .dataframe thead th {\n",
       "        text-align: right;\n",
       "    }\n",
       "</style>\n",
       "<table border=\"1\" class=\"dataframe\">\n",
       "  <thead>\n",
       "    <tr style=\"text-align: right;\">\n",
       "      <th></th>\n",
       "      <th>TotalVisits</th>\n",
       "      <th>Total Time Spent on Website</th>\n",
       "      <th>Page Views Per Visit</th>\n",
       "      <th>Lead Origin_api</th>\n",
       "      <th>Lead Origin_landing page submission</th>\n",
       "      <th>Lead Origin_lead add form</th>\n",
       "      <th>Lead Source_direct traffic</th>\n",
       "      <th>Lead Source_google</th>\n",
       "      <th>Lead Source_olark chat</th>\n",
       "      <th>Lead Source_organic search</th>\n",
       "      <th>...</th>\n",
       "      <th>What is your current occupation_other</th>\n",
       "      <th>What is your current occupation_student</th>\n",
       "      <th>What is your current occupation_unemployed</th>\n",
       "      <th>What is your current occupation_working professional</th>\n",
       "      <th>What matters most to you in choosing a course_better career prospects</th>\n",
       "      <th>What matters most to you in choosing a course_flexibility &amp; convenience</th>\n",
       "      <th>What matters most to you in choosing a course_other</th>\n",
       "      <th>City_mumbai</th>\n",
       "      <th>City_other</th>\n",
       "      <th>A free copy of Mastering The Interview_1</th>\n",
       "    </tr>\n",
       "  </thead>\n",
       "  <tbody>\n",
       "    <tr>\n",
       "      <th>7962</th>\n",
       "      <td>-0.093595</td>\n",
       "      <td>1.476324</td>\n",
       "      <td>-0.422237</td>\n",
       "      <td>0</td>\n",
       "      <td>1</td>\n",
       "      <td>0</td>\n",
       "      <td>0</td>\n",
       "      <td>1</td>\n",
       "      <td>0</td>\n",
       "      <td>0</td>\n",
       "      <td>...</td>\n",
       "      <td>0</td>\n",
       "      <td>0</td>\n",
       "      <td>1</td>\n",
       "      <td>0</td>\n",
       "      <td>1</td>\n",
       "      <td>0</td>\n",
       "      <td>0</td>\n",
       "      <td>1</td>\n",
       "      <td>0</td>\n",
       "      <td>0</td>\n",
       "    </tr>\n",
       "    <tr>\n",
       "      <th>5520</th>\n",
       "      <td>1.213557</td>\n",
       "      <td>-0.771066</td>\n",
       "      <td>2.411143</td>\n",
       "      <td>0</td>\n",
       "      <td>1</td>\n",
       "      <td>0</td>\n",
       "      <td>1</td>\n",
       "      <td>0</td>\n",
       "      <td>0</td>\n",
       "      <td>0</td>\n",
       "      <td>...</td>\n",
       "      <td>0</td>\n",
       "      <td>0</td>\n",
       "      <td>1</td>\n",
       "      <td>0</td>\n",
       "      <td>1</td>\n",
       "      <td>0</td>\n",
       "      <td>0</td>\n",
       "      <td>0</td>\n",
       "      <td>0</td>\n",
       "      <td>0</td>\n",
       "    </tr>\n",
       "    <tr>\n",
       "      <th>1962</th>\n",
       "      <td>0.559981</td>\n",
       "      <td>-0.571257</td>\n",
       "      <td>0.092923</td>\n",
       "      <td>0</td>\n",
       "      <td>1</td>\n",
       "      <td>0</td>\n",
       "      <td>0</td>\n",
       "      <td>1</td>\n",
       "      <td>0</td>\n",
       "      <td>0</td>\n",
       "      <td>...</td>\n",
       "      <td>0</td>\n",
       "      <td>0</td>\n",
       "      <td>1</td>\n",
       "      <td>0</td>\n",
       "      <td>1</td>\n",
       "      <td>0</td>\n",
       "      <td>0</td>\n",
       "      <td>1</td>\n",
       "      <td>0</td>\n",
       "      <td>0</td>\n",
       "    </tr>\n",
       "    <tr>\n",
       "      <th>1566</th>\n",
       "      <td>3.174284</td>\n",
       "      <td>1.393834</td>\n",
       "      <td>0.608083</td>\n",
       "      <td>0</td>\n",
       "      <td>1</td>\n",
       "      <td>0</td>\n",
       "      <td>0</td>\n",
       "      <td>1</td>\n",
       "      <td>0</td>\n",
       "      <td>0</td>\n",
       "      <td>...</td>\n",
       "      <td>0</td>\n",
       "      <td>0</td>\n",
       "      <td>0</td>\n",
       "      <td>1</td>\n",
       "      <td>1</td>\n",
       "      <td>0</td>\n",
       "      <td>0</td>\n",
       "      <td>1</td>\n",
       "      <td>0</td>\n",
       "      <td>0</td>\n",
       "    </tr>\n",
       "    <tr>\n",
       "      <th>9170</th>\n",
       "      <td>-1.073959</td>\n",
       "      <td>-0.881052</td>\n",
       "      <td>-1.194977</td>\n",
       "      <td>1</td>\n",
       "      <td>0</td>\n",
       "      <td>0</td>\n",
       "      <td>0</td>\n",
       "      <td>0</td>\n",
       "      <td>1</td>\n",
       "      <td>0</td>\n",
       "      <td>...</td>\n",
       "      <td>0</td>\n",
       "      <td>0</td>\n",
       "      <td>1</td>\n",
       "      <td>0</td>\n",
       "      <td>1</td>\n",
       "      <td>0</td>\n",
       "      <td>0</td>\n",
       "      <td>0</td>\n",
       "      <td>0</td>\n",
       "      <td>0</td>\n",
       "    </tr>\n",
       "  </tbody>\n",
       "</table>\n",
       "<p>5 rows × 37 columns</p>\n",
       "</div>"
      ],
      "text/plain": [
       "      TotalVisits  Total Time Spent on Website  Page Views Per Visit  \\\n",
       "7962    -0.093595                     1.476324             -0.422237   \n",
       "5520     1.213557                    -0.771066              2.411143   \n",
       "1962     0.559981                    -0.571257              0.092923   \n",
       "1566     3.174284                     1.393834              0.608083   \n",
       "9170    -1.073959                    -0.881052             -1.194977   \n",
       "\n",
       "      Lead Origin_api  Lead Origin_landing page submission  \\\n",
       "7962                0                                    1   \n",
       "5520                0                                    1   \n",
       "1962                0                                    1   \n",
       "1566                0                                    1   \n",
       "9170                1                                    0   \n",
       "\n",
       "      Lead Origin_lead add form  Lead Source_direct traffic  \\\n",
       "7962                          0                           0   \n",
       "5520                          0                           1   \n",
       "1962                          0                           0   \n",
       "1566                          0                           0   \n",
       "9170                          0                           0   \n",
       "\n",
       "      Lead Source_google  Lead Source_olark chat  Lead Source_organic search  \\\n",
       "7962                   1                       0                           0   \n",
       "5520                   0                       0                           0   \n",
       "1962                   1                       0                           0   \n",
       "1566                   1                       0                           0   \n",
       "9170                   0                       1                           0   \n",
       "\n",
       "      ...  What is your current occupation_other  \\\n",
       "7962  ...                                      0   \n",
       "5520  ...                                      0   \n",
       "1962  ...                                      0   \n",
       "1566  ...                                      0   \n",
       "9170  ...                                      0   \n",
       "\n",
       "      What is your current occupation_student  \\\n",
       "7962                                        0   \n",
       "5520                                        0   \n",
       "1962                                        0   \n",
       "1566                                        0   \n",
       "9170                                        0   \n",
       "\n",
       "      What is your current occupation_unemployed  \\\n",
       "7962                                           1   \n",
       "5520                                           1   \n",
       "1962                                           1   \n",
       "1566                                           0   \n",
       "9170                                           1   \n",
       "\n",
       "      What is your current occupation_working professional  \\\n",
       "7962                                                  0      \n",
       "5520                                                  0      \n",
       "1962                                                  0      \n",
       "1566                                                  1      \n",
       "9170                                                  0      \n",
       "\n",
       "      What matters most to you in choosing a course_better career prospects  \\\n",
       "7962                                                  1                       \n",
       "5520                                                  1                       \n",
       "1962                                                  1                       \n",
       "1566                                                  1                       \n",
       "9170                                                  1                       \n",
       "\n",
       "      What matters most to you in choosing a course_flexibility & convenience  \\\n",
       "7962                                                  0                         \n",
       "5520                                                  0                         \n",
       "1962                                                  0                         \n",
       "1566                                                  0                         \n",
       "9170                                                  0                         \n",
       "\n",
       "      What matters most to you in choosing a course_other  City_mumbai  \\\n",
       "7962                                                  0              1   \n",
       "5520                                                  0              0   \n",
       "1962                                                  0              1   \n",
       "1566                                                  0              1   \n",
       "9170                                                  0              0   \n",
       "\n",
       "      City_other  A free copy of Mastering The Interview_1  \n",
       "7962           0                                         0  \n",
       "5520           0                                         0  \n",
       "1962           0                                         0  \n",
       "1566           0                                         0  \n",
       "9170           0                                         0  \n",
       "\n",
       "[5 rows x 37 columns]"
      ]
     },
     "execution_count": 237,
     "metadata": {},
     "output_type": "execute_result"
    }
   ],
   "source": [
    "scaler = StandardScaler()\n",
    "\n",
    "X_train[['TotalVisits','Total Time Spent on Website','Page Views Per Visit']] = scaler.fit_transform(X_train[['TotalVisits','Total Time Spent on Website','Page Views Per Visit']])\n",
    "\n",
    "X_train.head()"
   ]
  },
  {
   "cell_type": "code",
   "execution_count": 238,
   "metadata": {},
   "outputs": [
    {
     "data": {
      "text/plain": [
       "38.02043282434362"
      ]
     },
     "execution_count": 238,
     "metadata": {},
     "output_type": "execute_result"
    }
   ],
   "source": [
    "### Checking the Conversion Rate\n",
    "Converted = (sum(lead_df_new['Converted'])/len(lead_df_new['Converted'].index))*100\n",
    "Converted"
   ]
  },
  {
   "cell_type": "markdown",
   "metadata": {},
   "source": [
    "## Model Building"
   ]
  },
  {
   "cell_type": "markdown",
   "metadata": {},
   "source": [
    "### Running our first model"
   ]
  },
  {
   "cell_type": "code",
   "execution_count": 239,
   "metadata": {},
   "outputs": [
    {
     "data": {
      "text/html": [
       "<table class=\"simpletable\">\n",
       "<caption>Generalized Linear Model Regression Results</caption>\n",
       "<tr>\n",
       "  <th>Dep. Variable:</th>       <td>Converted</td>    <th>  No. Observations:  </th>  <td>  6372</td> \n",
       "</tr>\n",
       "<tr>\n",
       "  <th>Model:</th>                  <td>GLM</td>       <th>  Df Residuals:      </th>  <td>  6334</td> \n",
       "</tr>\n",
       "<tr>\n",
       "  <th>Model Family:</th>        <td>Binomial</td>     <th>  Df Model:          </th>  <td>    37</td> \n",
       "</tr>\n",
       "<tr>\n",
       "  <th>Link Function:</th>         <td>logit</td>      <th>  Scale:             </th> <td>  1.0000</td>\n",
       "</tr>\n",
       "<tr>\n",
       "  <th>Method:</th>                <td>IRLS</td>       <th>  Log-Likelihood:    </th> <td> -2811.5</td>\n",
       "</tr>\n",
       "<tr>\n",
       "  <th>Date:</th>            <td>Mon, 07 Dec 2020</td> <th>  Deviance:          </th> <td>  5622.9</td>\n",
       "</tr>\n",
       "<tr>\n",
       "  <th>Time:</th>                <td>19:10:13</td>     <th>  Pearson chi2:      </th> <td>6.53e+03</td>\n",
       "</tr>\n",
       "<tr>\n",
       "  <th>No. Iterations:</th>         <td>22</td>        <th>                     </th>     <td> </td>   \n",
       "</tr>\n",
       "<tr>\n",
       "  <th>Covariance Type:</th>     <td>nonrobust</td>    <th>                     </th>     <td> </td>   \n",
       "</tr>\n",
       "</table>\n",
       "<table class=\"simpletable\">\n",
       "<tr>\n",
       "                                     <td></td>                                        <th>coef</th>     <th>std err</th>      <th>z</th>      <th>P>|z|</th>  <th>[0.025</th>    <th>0.975]</th>  \n",
       "</tr>\n",
       "<tr>\n",
       "  <th>const</th>                                                                   <td>   -2.9519</td> <td>    1.547</td> <td>   -1.908</td> <td> 0.056</td> <td>   -5.985</td> <td>    0.081</td>\n",
       "</tr>\n",
       "<tr>\n",
       "  <th>TotalVisits</th>                                                             <td>    0.2493</td> <td>    0.048</td> <td>    5.185</td> <td> 0.000</td> <td>    0.155</td> <td>    0.344</td>\n",
       "</tr>\n",
       "<tr>\n",
       "  <th>Total Time Spent on Website</th>                                             <td>    1.0762</td> <td>    0.039</td> <td>   27.610</td> <td> 0.000</td> <td>    1.000</td> <td>    1.153</td>\n",
       "</tr>\n",
       "<tr>\n",
       "  <th>Page Views Per Visit</th>                                                    <td>   -0.1370</td> <td>    0.055</td> <td>   -2.499</td> <td> 0.012</td> <td>   -0.244</td> <td>   -0.030</td>\n",
       "</tr>\n",
       "<tr>\n",
       "  <th>Lead Origin_api</th>                                                         <td>   -0.1093</td> <td>    1.202</td> <td>   -0.091</td> <td> 0.928</td> <td>   -2.466</td> <td>    2.247</td>\n",
       "</tr>\n",
       "<tr>\n",
       "  <th>Lead Origin_landing page submission</th>                                     <td>   -0.7337</td> <td>    1.200</td> <td>   -0.611</td> <td> 0.541</td> <td>   -3.086</td> <td>    1.618</td>\n",
       "</tr>\n",
       "<tr>\n",
       "  <th>Lead Origin_lead add form</th>                                               <td>    4.3826</td> <td>    1.382</td> <td>    3.170</td> <td> 0.002</td> <td>    1.673</td> <td>    7.092</td>\n",
       "</tr>\n",
       "<tr>\n",
       "  <th>Lead Source_direct traffic</th>                                              <td>    0.8048</td> <td>    0.984</td> <td>    0.818</td> <td> 0.413</td> <td>   -1.124</td> <td>    2.733</td>\n",
       "</tr>\n",
       "<tr>\n",
       "  <th>Lead Source_google</th>                                                      <td>    0.9395</td> <td>    0.981</td> <td>    0.958</td> <td> 0.338</td> <td>   -0.983</td> <td>    2.862</td>\n",
       "</tr>\n",
       "<tr>\n",
       "  <th>Lead Source_olark chat</th>                                                  <td>    1.9044</td> <td>    0.987</td> <td>    1.929</td> <td> 0.054</td> <td>   -0.030</td> <td>    3.839</td>\n",
       "</tr>\n",
       "<tr>\n",
       "  <th>Lead Source_organic search</th>                                              <td>    0.8980</td> <td>    0.986</td> <td>    0.910</td> <td> 0.363</td> <td>   -1.035</td> <td>    2.831</td>\n",
       "</tr>\n",
       "<tr>\n",
       "  <th>Lead Source_reference</th>                                                   <td>   -0.0414</td> <td>    1.198</td> <td>   -0.035</td> <td> 0.972</td> <td>   -2.389</td> <td>    2.306</td>\n",
       "</tr>\n",
       "<tr>\n",
       "  <th>Lead Source_referral sites</th>                                              <td>    0.4326</td> <td>    1.035</td> <td>    0.418</td> <td> 0.676</td> <td>   -1.597</td> <td>    2.462</td>\n",
       "</tr>\n",
       "<tr>\n",
       "  <th>Lead Source_social media</th>                                                <td>    1.3951</td> <td>    1.494</td> <td>    0.934</td> <td> 0.350</td> <td>   -1.532</td> <td>    4.322</td>\n",
       "</tr>\n",
       "<tr>\n",
       "  <th>Lead Source_welingak website</th>                                            <td>    2.3921</td> <td>    1.378</td> <td>    1.736</td> <td> 0.083</td> <td>   -0.309</td> <td>    5.093</td>\n",
       "</tr>\n",
       "<tr>\n",
       "  <th>Do Not Email_1</th>                                                          <td>   -1.2714</td> <td>    0.162</td> <td>   -7.861</td> <td> 0.000</td> <td>   -1.588</td> <td>   -0.954</td>\n",
       "</tr>\n",
       "<tr>\n",
       "  <th>Specialization_banking, investment and insurance</th>                        <td>    0.8435</td> <td>    0.220</td> <td>    3.826</td> <td> 0.000</td> <td>    0.411</td> <td>    1.276</td>\n",
       "</tr>\n",
       "<tr>\n",
       "  <th>Specialization_business administration</th>                                  <td>    0.5850</td> <td>    0.218</td> <td>    2.685</td> <td> 0.007</td> <td>    0.158</td> <td>    1.012</td>\n",
       "</tr>\n",
       "<tr>\n",
       "  <th>Specialization_e-business</th>                                               <td>    1.1192</td> <td>    0.414</td> <td>    2.703</td> <td> 0.007</td> <td>    0.308</td> <td>    1.931</td>\n",
       "</tr>\n",
       "<tr>\n",
       "  <th>Specialization_e-commerce</th>                                               <td>    0.5317</td> <td>    0.346</td> <td>    1.537</td> <td> 0.124</td> <td>   -0.146</td> <td>    1.210</td>\n",
       "</tr>\n",
       "<tr>\n",
       "  <th>Specialization_international business</th>                                   <td>    0.4972</td> <td>    0.288</td> <td>    1.726</td> <td> 0.084</td> <td>   -0.067</td> <td>    1.062</td>\n",
       "</tr>\n",
       "<tr>\n",
       "  <th>Specialization_management_specializations</th>                               <td>    0.5619</td> <td>    0.151</td> <td>    3.726</td> <td> 0.000</td> <td>    0.266</td> <td>    0.858</td>\n",
       "</tr>\n",
       "<tr>\n",
       "  <th>Specialization_media and advertising</th>                                    <td>    0.5022</td> <td>    0.261</td> <td>    1.921</td> <td> 0.055</td> <td>   -0.010</td> <td>    1.015</td>\n",
       "</tr>\n",
       "<tr>\n",
       "  <th>Specialization_rural and agribusiness</th>                                   <td>    0.5958</td> <td>    0.366</td> <td>    1.628</td> <td> 0.103</td> <td>   -0.121</td> <td>    1.313</td>\n",
       "</tr>\n",
       "<tr>\n",
       "  <th>Specialization_services excellence</th>                                      <td>    1.2635</td> <td>    0.581</td> <td>    2.173</td> <td> 0.030</td> <td>    0.124</td> <td>    2.403</td>\n",
       "</tr>\n",
       "<tr>\n",
       "  <th>Specialization_travel and tourism</th>                                       <td>    0.5164</td> <td>    0.277</td> <td>    1.866</td> <td> 0.062</td> <td>   -0.026</td> <td>    1.059</td>\n",
       "</tr>\n",
       "<tr>\n",
       "  <th>What is your current occupation_businessman</th>                             <td>  -21.2254</td> <td> 1.92e+04</td> <td>   -0.001</td> <td> 0.999</td> <td>-3.76e+04</td> <td> 3.76e+04</td>\n",
       "</tr>\n",
       "<tr>\n",
       "  <th>What is your current occupation_housewife</th>                               <td>    2.3604</td> <td>  3.2e+04</td> <td> 7.38e-05</td> <td> 1.000</td> <td>-6.27e+04</td> <td> 6.27e+04</td>\n",
       "</tr>\n",
       "<tr>\n",
       "  <th>What is your current occupation_other</th>                                   <td>  -21.4872</td> <td> 1.92e+04</td> <td>   -0.001</td> <td> 0.999</td> <td>-3.76e+04</td> <td> 3.76e+04</td>\n",
       "</tr>\n",
       "<tr>\n",
       "  <th>What is your current occupation_student</th>                                 <td>  -21.3113</td> <td> 1.92e+04</td> <td>   -0.001</td> <td> 0.999</td> <td>-3.76e+04</td> <td> 3.76e+04</td>\n",
       "</tr>\n",
       "<tr>\n",
       "  <th>What is your current occupation_unemployed</th>                              <td>  -21.2476</td> <td> 1.92e+04</td> <td>   -0.001</td> <td> 0.999</td> <td>-3.76e+04</td> <td> 3.76e+04</td>\n",
       "</tr>\n",
       "<tr>\n",
       "  <th>What is your current occupation_working professional</th>                    <td>  -18.7407</td> <td> 1.92e+04</td> <td>   -0.001</td> <td> 0.999</td> <td>-3.76e+04</td> <td> 3.76e+04</td>\n",
       "</tr>\n",
       "<tr>\n",
       "  <th>What matters most to you in choosing a course_better career prospects</th>   <td>   22.4977</td> <td> 1.92e+04</td> <td>    0.001</td> <td> 0.999</td> <td>-3.76e+04</td> <td> 3.76e+04</td>\n",
       "</tr>\n",
       "<tr>\n",
       "  <th>What matters most to you in choosing a course_flexibility & convenience</th> <td>   46.1393</td> <td> 8.17e+04</td> <td>    0.001</td> <td> 1.000</td> <td> -1.6e+05</td> <td>  1.6e+05</td>\n",
       "</tr>\n",
       "<tr>\n",
       "  <th>What matters most to you in choosing a course_other</th>                     <td>   -0.1440</td> <td> 8.17e+04</td> <td>-1.76e-06</td> <td> 1.000</td> <td> -1.6e+05</td> <td>  1.6e+05</td>\n",
       "</tr>\n",
       "<tr>\n",
       "  <th>City_mumbai</th>                                                             <td>    0.3216</td> <td>    0.168</td> <td>    1.914</td> <td> 0.056</td> <td>   -0.008</td> <td>    0.651</td>\n",
       "</tr>\n",
       "<tr>\n",
       "  <th>City_other</th>                                                              <td>    0.2971</td> <td>    0.169</td> <td>    1.762</td> <td> 0.078</td> <td>   -0.033</td> <td>    0.628</td>\n",
       "</tr>\n",
       "<tr>\n",
       "  <th>A free copy of Mastering The Interview_1</th>                                <td>   -0.1879</td> <td>    0.104</td> <td>   -1.801</td> <td> 0.072</td> <td>   -0.392</td> <td>    0.017</td>\n",
       "</tr>\n",
       "</table>"
      ],
      "text/plain": [
       "<class 'statsmodels.iolib.summary.Summary'>\n",
       "\"\"\"\n",
       "                 Generalized Linear Model Regression Results                  \n",
       "==============================================================================\n",
       "Dep. Variable:              Converted   No. Observations:                 6372\n",
       "Model:                            GLM   Df Residuals:                     6334\n",
       "Model Family:                Binomial   Df Model:                           37\n",
       "Link Function:                  logit   Scale:                          1.0000\n",
       "Method:                          IRLS   Log-Likelihood:                -2811.5\n",
       "Date:                Mon, 07 Dec 2020   Deviance:                       5622.9\n",
       "Time:                        19:10:13   Pearson chi2:                 6.53e+03\n",
       "No. Iterations:                    22                                         \n",
       "Covariance Type:            nonrobust                                         \n",
       "===========================================================================================================================================\n",
       "                                                                              coef    std err          z      P>|z|      [0.025      0.975]\n",
       "-------------------------------------------------------------------------------------------------------------------------------------------\n",
       "const                                                                      -2.9519      1.547     -1.908      0.056      -5.985       0.081\n",
       "TotalVisits                                                                 0.2493      0.048      5.185      0.000       0.155       0.344\n",
       "Total Time Spent on Website                                                 1.0762      0.039     27.610      0.000       1.000       1.153\n",
       "Page Views Per Visit                                                       -0.1370      0.055     -2.499      0.012      -0.244      -0.030\n",
       "Lead Origin_api                                                            -0.1093      1.202     -0.091      0.928      -2.466       2.247\n",
       "Lead Origin_landing page submission                                        -0.7337      1.200     -0.611      0.541      -3.086       1.618\n",
       "Lead Origin_lead add form                                                   4.3826      1.382      3.170      0.002       1.673       7.092\n",
       "Lead Source_direct traffic                                                  0.8048      0.984      0.818      0.413      -1.124       2.733\n",
       "Lead Source_google                                                          0.9395      0.981      0.958      0.338      -0.983       2.862\n",
       "Lead Source_olark chat                                                      1.9044      0.987      1.929      0.054      -0.030       3.839\n",
       "Lead Source_organic search                                                  0.8980      0.986      0.910      0.363      -1.035       2.831\n",
       "Lead Source_reference                                                      -0.0414      1.198     -0.035      0.972      -2.389       2.306\n",
       "Lead Source_referral sites                                                  0.4326      1.035      0.418      0.676      -1.597       2.462\n",
       "Lead Source_social media                                                    1.3951      1.494      0.934      0.350      -1.532       4.322\n",
       "Lead Source_welingak website                                                2.3921      1.378      1.736      0.083      -0.309       5.093\n",
       "Do Not Email_1                                                             -1.2714      0.162     -7.861      0.000      -1.588      -0.954\n",
       "Specialization_banking, investment and insurance                            0.8435      0.220      3.826      0.000       0.411       1.276\n",
       "Specialization_business administration                                      0.5850      0.218      2.685      0.007       0.158       1.012\n",
       "Specialization_e-business                                                   1.1192      0.414      2.703      0.007       0.308       1.931\n",
       "Specialization_e-commerce                                                   0.5317      0.346      1.537      0.124      -0.146       1.210\n",
       "Specialization_international business                                       0.4972      0.288      1.726      0.084      -0.067       1.062\n",
       "Specialization_management_specializations                                   0.5619      0.151      3.726      0.000       0.266       0.858\n",
       "Specialization_media and advertising                                        0.5022      0.261      1.921      0.055      -0.010       1.015\n",
       "Specialization_rural and agribusiness                                       0.5958      0.366      1.628      0.103      -0.121       1.313\n",
       "Specialization_services excellence                                          1.2635      0.581      2.173      0.030       0.124       2.403\n",
       "Specialization_travel and tourism                                           0.5164      0.277      1.866      0.062      -0.026       1.059\n",
       "What is your current occupation_businessman                               -21.2254   1.92e+04     -0.001      0.999   -3.76e+04    3.76e+04\n",
       "What is your current occupation_housewife                                   2.3604    3.2e+04   7.38e-05      1.000   -6.27e+04    6.27e+04\n",
       "What is your current occupation_other                                     -21.4872   1.92e+04     -0.001      0.999   -3.76e+04    3.76e+04\n",
       "What is your current occupation_student                                   -21.3113   1.92e+04     -0.001      0.999   -3.76e+04    3.76e+04\n",
       "What is your current occupation_unemployed                                -21.2476   1.92e+04     -0.001      0.999   -3.76e+04    3.76e+04\n",
       "What is your current occupation_working professional                      -18.7407   1.92e+04     -0.001      0.999   -3.76e+04    3.76e+04\n",
       "What matters most to you in choosing a course_better career prospects      22.4977   1.92e+04      0.001      0.999   -3.76e+04    3.76e+04\n",
       "What matters most to you in choosing a course_flexibility & convenience    46.1393   8.17e+04      0.001      1.000    -1.6e+05     1.6e+05\n",
       "What matters most to you in choosing a course_other                        -0.1440   8.17e+04  -1.76e-06      1.000    -1.6e+05     1.6e+05\n",
       "City_mumbai                                                                 0.3216      0.168      1.914      0.056      -0.008       0.651\n",
       "City_other                                                                  0.2971      0.169      1.762      0.078      -0.033       0.628\n",
       "A free copy of Mastering The Interview_1                                   -0.1879      0.104     -1.801      0.072      -0.392       0.017\n",
       "===========================================================================================================================================\n",
       "\"\"\""
      ]
     },
     "execution_count": 239,
     "metadata": {},
     "output_type": "execute_result"
    }
   ],
   "source": [
    "# Logistic regression model\n",
    "logm1 = sm.GLM(y_train,(sm.add_constant(X_train)), family = sm.families.Binomial())\n",
    "logm1.fit().summary()"
   ]
  },
  {
   "cell_type": "markdown",
   "metadata": {},
   "source": [
    "### Feature Selection using RFE"
   ]
  },
  {
   "cell_type": "code",
   "execution_count": 240,
   "metadata": {},
   "outputs": [],
   "source": [
    "# Import 'LogisticRegression'\n",
    "from sklearn.linear_model import LogisticRegression\n",
    "logreg = LogisticRegression()"
   ]
  },
  {
   "cell_type": "code",
   "execution_count": 241,
   "metadata": {},
   "outputs": [],
   "source": [
    "# Running RFE with 15 variables as output\n",
    "rfe = RFE(logreg, 20)\n",
    "rfe = rfe.fit(X_train, y_train)"
   ]
  },
  {
   "cell_type": "code",
   "execution_count": 242,
   "metadata": {},
   "outputs": [
    {
     "data": {
      "text/plain": [
       "[('TotalVisits', False, 11),\n",
       " ('Total Time Spent on Website', True, 1),\n",
       " ('Page Views Per Visit', False, 13),\n",
       " ('Lead Origin_api', True, 1),\n",
       " ('Lead Origin_landing page submission', True, 1),\n",
       " ('Lead Origin_lead add form', True, 1),\n",
       " ('Lead Source_direct traffic', False, 14),\n",
       " ('Lead Source_google', False, 18),\n",
       " ('Lead Source_olark chat', True, 1),\n",
       " ('Lead Source_organic search', False, 17),\n",
       " ('Lead Source_reference', False, 12),\n",
       " ('Lead Source_referral sites', True, 1),\n",
       " ('Lead Source_social media', False, 15),\n",
       " ('Lead Source_welingak website', True, 1),\n",
       " ('Do Not Email_1', True, 1),\n",
       " ('Specialization_banking, investment and insurance', True, 1),\n",
       " ('Specialization_business administration', False, 2),\n",
       " ('Specialization_e-business', True, 1),\n",
       " ('Specialization_e-commerce', False, 8),\n",
       " ('Specialization_international business', False, 6),\n",
       " ('Specialization_management_specializations', False, 4),\n",
       " ('Specialization_media and advertising', False, 5),\n",
       " ('Specialization_rural and agribusiness', False, 3),\n",
       " ('Specialization_services excellence', True, 1),\n",
       " ('Specialization_travel and tourism', False, 7),\n",
       " ('What is your current occupation_businessman', False, 10),\n",
       " ('What is your current occupation_housewife', True, 1),\n",
       " ('What is your current occupation_other', True, 1),\n",
       " ('What is your current occupation_student', True, 1),\n",
       " ('What is your current occupation_unemployed', True, 1),\n",
       " ('What is your current occupation_working professional', True, 1),\n",
       " ('What matters most to you in choosing a course_better career prospects',\n",
       "  True,\n",
       "  1),\n",
       " ('What matters most to you in choosing a course_flexibility & convenience',\n",
       "  True,\n",
       "  1),\n",
       " ('What matters most to you in choosing a course_other', False, 16),\n",
       " ('City_mumbai', True, 1),\n",
       " ('City_other', True, 1),\n",
       " ('A free copy of Mastering The Interview_1', False, 9)]"
      ]
     },
     "execution_count": 242,
     "metadata": {},
     "output_type": "execute_result"
    }
   ],
   "source": [
    "# Features that have been selected by RFE\n",
    "list(zip(X_train.columns, rfe.support_, rfe.ranking_))"
   ]
  },
  {
   "cell_type": "code",
   "execution_count": 243,
   "metadata": {},
   "outputs": [],
   "source": [
    "# Put all the columns selected by RFE in the variable 'col'\n",
    "col = X_train.columns[rfe.support_]"
   ]
  },
  {
   "cell_type": "code",
   "execution_count": 244,
   "metadata": {},
   "outputs": [],
   "source": [
    "# # Selecting columns selected by RFE\n",
    "# X_train = X_train[col]"
   ]
  },
  {
   "cell_type": "code",
   "execution_count": 245,
   "metadata": {},
   "outputs": [
    {
     "data": {
      "text/plain": [
       "Index(['TotalVisits', 'Page Views Per Visit', 'Lead Source_direct traffic',\n",
       "       'Lead Source_google', 'Lead Source_organic search',\n",
       "       'Lead Source_reference', 'Lead Source_social media',\n",
       "       'Specialization_business administration', 'Specialization_e-commerce',\n",
       "       'Specialization_international business',\n",
       "       'Specialization_management_specializations',\n",
       "       'Specialization_media and advertising',\n",
       "       'Specialization_rural and agribusiness',\n",
       "       'Specialization_travel and tourism',\n",
       "       'What is your current occupation_businessman',\n",
       "       'What matters most to you in choosing a course_other',\n",
       "       'A free copy of Mastering The Interview_1'],\n",
       "      dtype='object')"
      ]
     },
     "execution_count": 245,
     "metadata": {},
     "output_type": "execute_result"
    }
   ],
   "source": [
    "X_train.columns[~rfe.support_]"
   ]
  },
  {
   "cell_type": "markdown",
   "metadata": {},
   "source": [
    "##### Assessing the model with StatsModels"
   ]
  },
  {
   "cell_type": "code",
   "execution_count": 246,
   "metadata": {},
   "outputs": [
    {
     "data": {
      "text/html": [
       "<table class=\"simpletable\">\n",
       "<caption>Generalized Linear Model Regression Results</caption>\n",
       "<tr>\n",
       "  <th>Dep. Variable:</th>       <td>Converted</td>    <th>  No. Observations:  </th>  <td>  6372</td> \n",
       "</tr>\n",
       "<tr>\n",
       "  <th>Model:</th>                  <td>GLM</td>       <th>  Df Residuals:      </th>  <td>  6351</td> \n",
       "</tr>\n",
       "<tr>\n",
       "  <th>Model Family:</th>        <td>Binomial</td>     <th>  Df Model:          </th>  <td>    20</td> \n",
       "</tr>\n",
       "<tr>\n",
       "  <th>Link Function:</th>         <td>logit</td>      <th>  Scale:             </th> <td>  1.0000</td>\n",
       "</tr>\n",
       "<tr>\n",
       "  <th>Method:</th>                <td>IRLS</td>       <th>  Log-Likelihood:    </th> <td> -2838.9</td>\n",
       "</tr>\n",
       "<tr>\n",
       "  <th>Date:</th>            <td>Mon, 07 Dec 2020</td> <th>  Deviance:          </th> <td>  5677.8</td>\n",
       "</tr>\n",
       "<tr>\n",
       "  <th>Time:</th>                <td>19:10:15</td>     <th>  Pearson chi2:      </th> <td>6.52e+03</td>\n",
       "</tr>\n",
       "<tr>\n",
       "  <th>No. Iterations:</th>         <td>21</td>        <th>                     </th>     <td> </td>   \n",
       "</tr>\n",
       "<tr>\n",
       "  <th>Covariance Type:</th>     <td>nonrobust</td>    <th>                     </th>     <td> </td>   \n",
       "</tr>\n",
       "</table>\n",
       "<table class=\"simpletable\">\n",
       "<tr>\n",
       "                                     <td></td>                                        <th>coef</th>     <th>std err</th>      <th>z</th>      <th>P>|z|</th>  <th>[0.025</th>    <th>0.975]</th>  \n",
       "</tr>\n",
       "<tr>\n",
       "  <th>const</th>                                                                   <td>   -1.7219</td> <td>    0.461</td> <td>   -3.734</td> <td> 0.000</td> <td>   -2.626</td> <td>   -0.818</td>\n",
       "</tr>\n",
       "<tr>\n",
       "  <th>Total Time Spent on Website</th>                                             <td>    1.0943</td> <td>    0.039</td> <td>   28.239</td> <td> 0.000</td> <td>    1.018</td> <td>    1.170</td>\n",
       "</tr>\n",
       "<tr>\n",
       "  <th>Lead Origin_api</th>                                                         <td>   -0.3647</td> <td>    0.458</td> <td>   -0.797</td> <td> 0.426</td> <td>   -1.262</td> <td>    0.532</td>\n",
       "</tr>\n",
       "<tr>\n",
       "  <th>Lead Origin_landing page submission</th>                                     <td>   -1.0126</td> <td>    0.444</td> <td>   -2.283</td> <td> 0.022</td> <td>   -1.882</td> <td>   -0.143</td>\n",
       "</tr>\n",
       "<tr>\n",
       "  <th>Lead Origin_lead add form</th>                                               <td>    3.2359</td> <td>    0.495</td> <td>    6.542</td> <td> 0.000</td> <td>    2.266</td> <td>    4.205</td>\n",
       "</tr>\n",
       "<tr>\n",
       "  <th>Lead Source_olark chat</th>                                                  <td>    0.8853</td> <td>    0.115</td> <td>    7.682</td> <td> 0.000</td> <td>    0.659</td> <td>    1.111</td>\n",
       "</tr>\n",
       "<tr>\n",
       "  <th>Lead Source_referral sites</th>                                              <td>   -0.4426</td> <td>    0.331</td> <td>   -1.337</td> <td> 0.181</td> <td>   -1.091</td> <td>    0.206</td>\n",
       "</tr>\n",
       "<tr>\n",
       "  <th>Lead Source_welingak website</th>                                            <td>    2.2005</td> <td>    0.750</td> <td>    2.933</td> <td> 0.003</td> <td>    0.730</td> <td>    3.671</td>\n",
       "</tr>\n",
       "<tr>\n",
       "  <th>Do Not Email_1</th>                                                          <td>   -1.2833</td> <td>    0.159</td> <td>   -8.093</td> <td> 0.000</td> <td>   -1.594</td> <td>   -0.972</td>\n",
       "</tr>\n",
       "<tr>\n",
       "  <th>Specialization_banking, investment and insurance</th>                        <td>    0.3433</td> <td>    0.169</td> <td>    2.026</td> <td> 0.043</td> <td>    0.011</td> <td>    0.675</td>\n",
       "</tr>\n",
       "<tr>\n",
       "  <th>Specialization_e-business</th>                                               <td>    0.5520</td> <td>    0.388</td> <td>    1.422</td> <td> 0.155</td> <td>   -0.209</td> <td>    1.313</td>\n",
       "</tr>\n",
       "<tr>\n",
       "  <th>Specialization_services excellence</th>                                      <td>    0.6659</td> <td>    0.554</td> <td>    1.201</td> <td> 0.230</td> <td>   -0.421</td> <td>    1.753</td>\n",
       "</tr>\n",
       "<tr>\n",
       "  <th>What is your current occupation_housewife</th>                               <td>   21.2173</td> <td> 1.57e+04</td> <td>    0.001</td> <td> 0.999</td> <td>-3.07e+04</td> <td> 3.07e+04</td>\n",
       "</tr>\n",
       "<tr>\n",
       "  <th>What is your current occupation_other</th>                                   <td>   -1.4091</td> <td>    1.070</td> <td>   -1.316</td> <td> 0.188</td> <td>   -3.507</td> <td>    0.689</td>\n",
       "</tr>\n",
       "<tr>\n",
       "  <th>What is your current occupation_student</th>                                 <td>   -1.4435</td> <td>    0.882</td> <td>   -1.636</td> <td> 0.102</td> <td>   -3.172</td> <td>    0.285</td>\n",
       "</tr>\n",
       "<tr>\n",
       "  <th>What is your current occupation_unemployed</th>                              <td>   -1.3537</td> <td>    0.862</td> <td>   -1.570</td> <td> 0.116</td> <td>   -3.044</td> <td>    0.336</td>\n",
       "</tr>\n",
       "<tr>\n",
       "  <th>What is your current occupation_working professional</th>                    <td>    1.2155</td> <td>    0.869</td> <td>    1.399</td> <td> 0.162</td> <td>   -0.487</td> <td>    2.918</td>\n",
       "</tr>\n",
       "<tr>\n",
       "  <th>What matters most to you in choosing a course_better career prospects</th>   <td>    2.6223</td> <td>    0.862</td> <td>    3.043</td> <td> 0.002</td> <td>    0.933</td> <td>    4.311</td>\n",
       "</tr>\n",
       "<tr>\n",
       "  <th>What matters most to you in choosing a course_flexibility & convenience</th> <td>   25.3725</td> <td> 4.82e+04</td> <td>    0.001</td> <td> 1.000</td> <td>-9.44e+04</td> <td> 9.45e+04</td>\n",
       "</tr>\n",
       "<tr>\n",
       "  <th>City_mumbai</th>                                                             <td>    0.7127</td> <td>    0.132</td> <td>    5.414</td> <td> 0.000</td> <td>    0.455</td> <td>    0.971</td>\n",
       "</tr>\n",
       "<tr>\n",
       "  <th>City_other</th>                                                              <td>    0.6576</td> <td>    0.134</td> <td>    4.925</td> <td> 0.000</td> <td>    0.396</td> <td>    0.919</td>\n",
       "</tr>\n",
       "</table>"
      ],
      "text/plain": [
       "<class 'statsmodels.iolib.summary.Summary'>\n",
       "\"\"\"\n",
       "                 Generalized Linear Model Regression Results                  \n",
       "==============================================================================\n",
       "Dep. Variable:              Converted   No. Observations:                 6372\n",
       "Model:                            GLM   Df Residuals:                     6351\n",
       "Model Family:                Binomial   Df Model:                           20\n",
       "Link Function:                  logit   Scale:                          1.0000\n",
       "Method:                          IRLS   Log-Likelihood:                -2838.9\n",
       "Date:                Mon, 07 Dec 2020   Deviance:                       5677.8\n",
       "Time:                        19:10:15   Pearson chi2:                 6.52e+03\n",
       "No. Iterations:                    21                                         \n",
       "Covariance Type:            nonrobust                                         \n",
       "===========================================================================================================================================\n",
       "                                                                              coef    std err          z      P>|z|      [0.025      0.975]\n",
       "-------------------------------------------------------------------------------------------------------------------------------------------\n",
       "const                                                                      -1.7219      0.461     -3.734      0.000      -2.626      -0.818\n",
       "Total Time Spent on Website                                                 1.0943      0.039     28.239      0.000       1.018       1.170\n",
       "Lead Origin_api                                                            -0.3647      0.458     -0.797      0.426      -1.262       0.532\n",
       "Lead Origin_landing page submission                                        -1.0126      0.444     -2.283      0.022      -1.882      -0.143\n",
       "Lead Origin_lead add form                                                   3.2359      0.495      6.542      0.000       2.266       4.205\n",
       "Lead Source_olark chat                                                      0.8853      0.115      7.682      0.000       0.659       1.111\n",
       "Lead Source_referral sites                                                 -0.4426      0.331     -1.337      0.181      -1.091       0.206\n",
       "Lead Source_welingak website                                                2.2005      0.750      2.933      0.003       0.730       3.671\n",
       "Do Not Email_1                                                             -1.2833      0.159     -8.093      0.000      -1.594      -0.972\n",
       "Specialization_banking, investment and insurance                            0.3433      0.169      2.026      0.043       0.011       0.675\n",
       "Specialization_e-business                                                   0.5520      0.388      1.422      0.155      -0.209       1.313\n",
       "Specialization_services excellence                                          0.6659      0.554      1.201      0.230      -0.421       1.753\n",
       "What is your current occupation_housewife                                  21.2173   1.57e+04      0.001      0.999   -3.07e+04    3.07e+04\n",
       "What is your current occupation_other                                      -1.4091      1.070     -1.316      0.188      -3.507       0.689\n",
       "What is your current occupation_student                                    -1.4435      0.882     -1.636      0.102      -3.172       0.285\n",
       "What is your current occupation_unemployed                                 -1.3537      0.862     -1.570      0.116      -3.044       0.336\n",
       "What is your current occupation_working professional                        1.2155      0.869      1.399      0.162      -0.487       2.918\n",
       "What matters most to you in choosing a course_better career prospects       2.6223      0.862      3.043      0.002       0.933       4.311\n",
       "What matters most to you in choosing a course_flexibility & convenience    25.3725   4.82e+04      0.001      1.000   -9.44e+04    9.45e+04\n",
       "City_mumbai                                                                 0.7127      0.132      5.414      0.000       0.455       0.971\n",
       "City_other                                                                  0.6576      0.134      4.925      0.000       0.396       0.919\n",
       "===========================================================================================================================================\n",
       "\"\"\""
      ]
     },
     "execution_count": 246,
     "metadata": {},
     "output_type": "execute_result"
    }
   ],
   "source": [
    "X_train_sm = sm.add_constant(X_train[col])\n",
    "logm2 = sm.GLM(y_train,X_train_sm, family = sm.families.Binomial())\n",
    "res = logm2.fit()\n",
    "res.summary()"
   ]
  },
  {
   "cell_type": "code",
   "execution_count": 247,
   "metadata": {},
   "outputs": [
    {
     "data": {
      "text/plain": [
       "7962    0.703176\n",
       "5520    0.090325\n",
       "1962    0.201285\n",
       "1566    0.965824\n",
       "9170    0.289708\n",
       "5097    0.102901\n",
       "8954    0.280706\n",
       "309     0.233310\n",
       "5519    0.102901\n",
       "1050    0.601613\n",
       "dtype: float64"
      ]
     },
     "execution_count": 247,
     "metadata": {},
     "output_type": "execute_result"
    }
   ],
   "source": [
    "# Getting the predicted values on the train set\n",
    "y_train_pred = res.predict(X_train_sm)\n",
    "y_train_pred[:10]"
   ]
  },
  {
   "cell_type": "code",
   "execution_count": 248,
   "metadata": {},
   "outputs": [
    {
     "data": {
      "text/plain": [
       "array([0.70317567, 0.09032528, 0.20128539, 0.96582373, 0.28970843,\n",
       "       0.10290054, 0.2807058 , 0.23331041, 0.10290054, 0.60161337])"
      ]
     },
     "execution_count": 248,
     "metadata": {},
     "output_type": "execute_result"
    }
   ],
   "source": [
    "# reshaping the numpy array containing predicted values\n",
    "y_train_pred = y_train_pred.values.reshape(-1)\n",
    "y_train_pred[:10]"
   ]
  },
  {
   "cell_type": "markdown",
   "metadata": {},
   "source": [
    "##### Creating a dataframe with the actual Conversion flag and the predicted probabilities"
   ]
  },
  {
   "cell_type": "code",
   "execution_count": 249,
   "metadata": {},
   "outputs": [
    {
     "data": {
      "text/html": [
       "<div>\n",
       "<style scoped>\n",
       "    .dataframe tbody tr th:only-of-type {\n",
       "        vertical-align: middle;\n",
       "    }\n",
       "\n",
       "    .dataframe tbody tr th {\n",
       "        vertical-align: top;\n",
       "    }\n",
       "\n",
       "    .dataframe thead th {\n",
       "        text-align: right;\n",
       "    }\n",
       "</style>\n",
       "<table border=\"1\" class=\"dataframe\">\n",
       "  <thead>\n",
       "    <tr style=\"text-align: right;\">\n",
       "      <th></th>\n",
       "      <th>Converted</th>\n",
       "      <th>Conversion_Prob</th>\n",
       "      <th>LeadID</th>\n",
       "    </tr>\n",
       "  </thead>\n",
       "  <tbody>\n",
       "    <tr>\n",
       "      <th>0</th>\n",
       "      <td>0</td>\n",
       "      <td>0.703176</td>\n",
       "      <td>7962</td>\n",
       "    </tr>\n",
       "    <tr>\n",
       "      <th>1</th>\n",
       "      <td>0</td>\n",
       "      <td>0.090325</td>\n",
       "      <td>5520</td>\n",
       "    </tr>\n",
       "    <tr>\n",
       "      <th>2</th>\n",
       "      <td>0</td>\n",
       "      <td>0.201285</td>\n",
       "      <td>1962</td>\n",
       "    </tr>\n",
       "    <tr>\n",
       "      <th>3</th>\n",
       "      <td>1</td>\n",
       "      <td>0.965824</td>\n",
       "      <td>1566</td>\n",
       "    </tr>\n",
       "    <tr>\n",
       "      <th>4</th>\n",
       "      <td>0</td>\n",
       "      <td>0.289708</td>\n",
       "      <td>9170</td>\n",
       "    </tr>\n",
       "  </tbody>\n",
       "</table>\n",
       "</div>"
      ],
      "text/plain": [
       "   Converted  Conversion_Prob  LeadID\n",
       "0          0         0.703176    7962\n",
       "1          0         0.090325    5520\n",
       "2          0         0.201285    1962\n",
       "3          1         0.965824    1566\n",
       "4          0         0.289708    9170"
      ]
     },
     "execution_count": 249,
     "metadata": {},
     "output_type": "execute_result"
    }
   ],
   "source": [
    "y_train_pred_final = pd.DataFrame({'Converted':y_train.values, 'Conversion_Prob':y_train_pred})\n",
    "y_train_pred_final['LeadID'] = y_train.index\n",
    "y_train_pred_final.head()"
   ]
  },
  {
   "cell_type": "markdown",
   "metadata": {},
   "source": [
    "##### Creating new column 'predicted' with 1 if Conversion_Prob > 0.5 else 0"
   ]
  },
  {
   "cell_type": "code",
   "execution_count": 250,
   "metadata": {},
   "outputs": [
    {
     "data": {
      "text/html": [
       "<div>\n",
       "<style scoped>\n",
       "    .dataframe tbody tr th:only-of-type {\n",
       "        vertical-align: middle;\n",
       "    }\n",
       "\n",
       "    .dataframe tbody tr th {\n",
       "        vertical-align: top;\n",
       "    }\n",
       "\n",
       "    .dataframe thead th {\n",
       "        text-align: right;\n",
       "    }\n",
       "</style>\n",
       "<table border=\"1\" class=\"dataframe\">\n",
       "  <thead>\n",
       "    <tr style=\"text-align: right;\">\n",
       "      <th></th>\n",
       "      <th>Converted</th>\n",
       "      <th>Conversion_Prob</th>\n",
       "      <th>LeadID</th>\n",
       "      <th>predicted</th>\n",
       "    </tr>\n",
       "  </thead>\n",
       "  <tbody>\n",
       "    <tr>\n",
       "      <th>0</th>\n",
       "      <td>0</td>\n",
       "      <td>0.703176</td>\n",
       "      <td>7962</td>\n",
       "      <td>1</td>\n",
       "    </tr>\n",
       "    <tr>\n",
       "      <th>1</th>\n",
       "      <td>0</td>\n",
       "      <td>0.090325</td>\n",
       "      <td>5520</td>\n",
       "      <td>0</td>\n",
       "    </tr>\n",
       "    <tr>\n",
       "      <th>2</th>\n",
       "      <td>0</td>\n",
       "      <td>0.201285</td>\n",
       "      <td>1962</td>\n",
       "      <td>0</td>\n",
       "    </tr>\n",
       "    <tr>\n",
       "      <th>3</th>\n",
       "      <td>1</td>\n",
       "      <td>0.965824</td>\n",
       "      <td>1566</td>\n",
       "      <td>1</td>\n",
       "    </tr>\n",
       "    <tr>\n",
       "      <th>4</th>\n",
       "      <td>0</td>\n",
       "      <td>0.289708</td>\n",
       "      <td>9170</td>\n",
       "      <td>0</td>\n",
       "    </tr>\n",
       "  </tbody>\n",
       "</table>\n",
       "</div>"
      ],
      "text/plain": [
       "   Converted  Conversion_Prob  LeadID  predicted\n",
       "0          0         0.703176    7962          1\n",
       "1          0         0.090325    5520          0\n",
       "2          0         0.201285    1962          0\n",
       "3          1         0.965824    1566          1\n",
       "4          0         0.289708    9170          0"
      ]
     },
     "execution_count": 250,
     "metadata": {},
     "output_type": "execute_result"
    }
   ],
   "source": [
    "y_train_pred_final['predicted'] = y_train_pred_final.Conversion_Prob.map(lambda x: 1 if x > 0.5 else 0)\n",
    "\n",
    "# Let's see the head\n",
    "y_train_pred_final.head()"
   ]
  },
  {
   "cell_type": "code",
   "execution_count": 251,
   "metadata": {},
   "outputs": [],
   "source": [
    "from sklearn import metrics"
   ]
  },
  {
   "cell_type": "markdown",
   "metadata": {},
   "source": [
    "#### Creating Confusion Metrics"
   ]
  },
  {
   "cell_type": "code",
   "execution_count": 252,
   "metadata": {},
   "outputs": [
    {
     "name": "stdout",
     "output_type": "stream",
     "text": [
      "[[3536  417]\n",
      " [ 848 1571]]\n"
     ]
    }
   ],
   "source": [
    "# Confusion matrix \n",
    "confusion = metrics.confusion_matrix(y_train_pred_final.Converted, y_train_pred_final.predicted )\n",
    "print(confusion)"
   ]
  },
  {
   "cell_type": "code",
   "execution_count": 253,
   "metadata": {},
   "outputs": [
    {
     "name": "stdout",
     "output_type": "stream",
     "text": [
      "0.8014752040175769\n"
     ]
    }
   ],
   "source": [
    "# Let's check the overall accuracy.\n",
    "print(metrics.accuracy_score(y_train_pred_final.Converted, y_train_pred_final.predicted))"
   ]
  },
  {
   "cell_type": "markdown",
   "metadata": {},
   "source": [
    "### Checking VIF's"
   ]
  },
  {
   "cell_type": "code",
   "execution_count": 254,
   "metadata": {},
   "outputs": [],
   "source": [
    "# Check for the VIF values of the feature variables. \n",
    "from statsmodels.stats.outliers_influence import variance_inflation_factor"
   ]
  },
  {
   "cell_type": "code",
   "execution_count": 255,
   "metadata": {},
   "outputs": [
    {
     "data": {
      "text/html": [
       "<div>\n",
       "<style scoped>\n",
       "    .dataframe tbody tr th:only-of-type {\n",
       "        vertical-align: middle;\n",
       "    }\n",
       "\n",
       "    .dataframe tbody tr th {\n",
       "        vertical-align: top;\n",
       "    }\n",
       "\n",
       "    .dataframe thead th {\n",
       "        text-align: right;\n",
       "    }\n",
       "</style>\n",
       "<table border=\"1\" class=\"dataframe\">\n",
       "  <thead>\n",
       "    <tr style=\"text-align: right;\">\n",
       "      <th></th>\n",
       "      <th>Features</th>\n",
       "      <th>VIF</th>\n",
       "    </tr>\n",
       "  </thead>\n",
       "  <tbody>\n",
       "    <tr>\n",
       "      <th>16</th>\n",
       "      <td>What matters most to you in choosing a course_...</td>\n",
       "      <td>258.70</td>\n",
       "    </tr>\n",
       "    <tr>\n",
       "      <th>14</th>\n",
       "      <td>What is your current occupation_unemployed</td>\n",
       "      <td>225.03</td>\n",
       "    </tr>\n",
       "    <tr>\n",
       "      <th>15</th>\n",
       "      <td>What is your current occupation_working profes...</td>\n",
       "      <td>27.73</td>\n",
       "    </tr>\n",
       "    <tr>\n",
       "      <th>2</th>\n",
       "      <td>Lead Origin_landing page submission</td>\n",
       "      <td>8.66</td>\n",
       "    </tr>\n",
       "    <tr>\n",
       "      <th>13</th>\n",
       "      <td>What is your current occupation_student</td>\n",
       "      <td>7.78</td>\n",
       "    </tr>\n",
       "    <tr>\n",
       "      <th>18</th>\n",
       "      <td>City_mumbai</td>\n",
       "      <td>5.21</td>\n",
       "    </tr>\n",
       "    <tr>\n",
       "      <th>19</th>\n",
       "      <td>City_other</td>\n",
       "      <td>3.92</td>\n",
       "    </tr>\n",
       "    <tr>\n",
       "      <th>1</th>\n",
       "      <td>Lead Origin_api</td>\n",
       "      <td>3.13</td>\n",
       "    </tr>\n",
       "    <tr>\n",
       "      <th>4</th>\n",
       "      <td>Lead Source_olark chat</td>\n",
       "      <td>2.27</td>\n",
       "    </tr>\n",
       "    <tr>\n",
       "      <th>3</th>\n",
       "      <td>Lead Origin_lead add form</td>\n",
       "      <td>1.90</td>\n",
       "    </tr>\n",
       "    <tr>\n",
       "      <th>12</th>\n",
       "      <td>What is your current occupation_other</td>\n",
       "      <td>1.69</td>\n",
       "    </tr>\n",
       "    <tr>\n",
       "      <th>11</th>\n",
       "      <td>What is your current occupation_housewife</td>\n",
       "      <td>1.41</td>\n",
       "    </tr>\n",
       "    <tr>\n",
       "      <th>6</th>\n",
       "      <td>Lead Source_welingak website</td>\n",
       "      <td>1.33</td>\n",
       "    </tr>\n",
       "    <tr>\n",
       "      <th>0</th>\n",
       "      <td>Total Time Spent on Website</td>\n",
       "      <td>1.30</td>\n",
       "    </tr>\n",
       "    <tr>\n",
       "      <th>7</th>\n",
       "      <td>Do Not Email_1</td>\n",
       "      <td>1.12</td>\n",
       "    </tr>\n",
       "    <tr>\n",
       "      <th>8</th>\n",
       "      <td>Specialization_banking, investment and insurance</td>\n",
       "      <td>1.06</td>\n",
       "    </tr>\n",
       "    <tr>\n",
       "      <th>17</th>\n",
       "      <td>What matters most to you in choosing a course_...</td>\n",
       "      <td>1.06</td>\n",
       "    </tr>\n",
       "    <tr>\n",
       "      <th>5</th>\n",
       "      <td>Lead Source_referral sites</td>\n",
       "      <td>1.05</td>\n",
       "    </tr>\n",
       "    <tr>\n",
       "      <th>9</th>\n",
       "      <td>Specialization_e-business</td>\n",
       "      <td>1.01</td>\n",
       "    </tr>\n",
       "    <tr>\n",
       "      <th>10</th>\n",
       "      <td>Specialization_services excellence</td>\n",
       "      <td>1.01</td>\n",
       "    </tr>\n",
       "  </tbody>\n",
       "</table>\n",
       "</div>"
      ],
      "text/plain": [
       "                                             Features     VIF\n",
       "16  What matters most to you in choosing a course_...  258.70\n",
       "14         What is your current occupation_unemployed  225.03\n",
       "15  What is your current occupation_working profes...   27.73\n",
       "2                 Lead Origin_landing page submission    8.66\n",
       "13            What is your current occupation_student    7.78\n",
       "18                                        City_mumbai    5.21\n",
       "19                                         City_other    3.92\n",
       "1                                     Lead Origin_api    3.13\n",
       "4                              Lead Source_olark chat    2.27\n",
       "3                           Lead Origin_lead add form    1.90\n",
       "12              What is your current occupation_other    1.69\n",
       "11          What is your current occupation_housewife    1.41\n",
       "6                        Lead Source_welingak website    1.33\n",
       "0                         Total Time Spent on Website    1.30\n",
       "7                                      Do Not Email_1    1.12\n",
       "8    Specialization_banking, investment and insurance    1.06\n",
       "17  What matters most to you in choosing a course_...    1.06\n",
       "5                          Lead Source_referral sites    1.05\n",
       "9                           Specialization_e-business    1.01\n",
       "10                 Specialization_services excellence    1.01"
      ]
     },
     "execution_count": 255,
     "metadata": {},
     "output_type": "execute_result"
    }
   ],
   "source": [
    "# Create a dataframe that will contain the names of all the feature variables and their respective VIFs\n",
    "vif = pd.DataFrame()\n",
    "vif['Features'] = X_train[col].columns\n",
    "vif['VIF'] = [variance_inflation_factor(X_train[col].values, i) for i in range(X_train[col].shape[1])]\n",
    "vif['VIF'] = round(vif['VIF'], 2)\n",
    "vif = vif.sort_values(by = \"VIF\", ascending = False)\n",
    "vif"
   ]
  },
  {
   "cell_type": "code",
   "execution_count": 256,
   "metadata": {},
   "outputs": [
    {
     "data": {
      "text/plain": [
       "Index(['Total Time Spent on Website', 'Lead Origin_api',\n",
       "       'Lead Origin_landing page submission', 'Lead Origin_lead add form',\n",
       "       'Lead Source_olark chat', 'Lead Source_referral sites',\n",
       "       'Lead Source_welingak website', 'Do Not Email_1',\n",
       "       'Specialization_banking, investment and insurance',\n",
       "       'Specialization_e-business', 'Specialization_services excellence',\n",
       "       'What is your current occupation_housewife',\n",
       "       'What is your current occupation_other',\n",
       "       'What is your current occupation_student',\n",
       "       'What is your current occupation_unemployed',\n",
       "       'What is your current occupation_working professional',\n",
       "       'What matters most to you in choosing a course_flexibility & convenience',\n",
       "       'City_mumbai', 'City_other'],\n",
       "      dtype='object')"
      ]
     },
     "execution_count": 256,
     "metadata": {},
     "output_type": "execute_result"
    }
   ],
   "source": [
    "# Dropping columns with high VIF and high p-value\n",
    "col = col.drop('What matters most to you in choosing a course_better career prospects', 1)\n",
    "col"
   ]
  },
  {
   "cell_type": "code",
   "execution_count": 257,
   "metadata": {},
   "outputs": [
    {
     "data": {
      "text/html": [
       "<table class=\"simpletable\">\n",
       "<caption>Generalized Linear Model Regression Results</caption>\n",
       "<tr>\n",
       "  <th>Dep. Variable:</th>       <td>Converted</td>    <th>  No. Observations:  </th>  <td>  6372</td> \n",
       "</tr>\n",
       "<tr>\n",
       "  <th>Model:</th>                  <td>GLM</td>       <th>  Df Residuals:      </th>  <td>  6352</td> \n",
       "</tr>\n",
       "<tr>\n",
       "  <th>Model Family:</th>        <td>Binomial</td>     <th>  Df Model:          </th>  <td>    19</td> \n",
       "</tr>\n",
       "<tr>\n",
       "  <th>Link Function:</th>         <td>logit</td>      <th>  Scale:             </th> <td>  1.0000</td>\n",
       "</tr>\n",
       "<tr>\n",
       "  <th>Method:</th>                <td>IRLS</td>       <th>  Log-Likelihood:    </th> <td> -2845.4</td>\n",
       "</tr>\n",
       "<tr>\n",
       "  <th>Date:</th>            <td>Mon, 07 Dec 2020</td> <th>  Deviance:          </th> <td>  5690.8</td>\n",
       "</tr>\n",
       "<tr>\n",
       "  <th>Time:</th>                <td>19:10:15</td>     <th>  Pearson chi2:      </th> <td>6.52e+03</td>\n",
       "</tr>\n",
       "<tr>\n",
       "  <th>No. Iterations:</th>         <td>21</td>        <th>                     </th>     <td> </td>   \n",
       "</tr>\n",
       "<tr>\n",
       "  <th>Covariance Type:</th>     <td>nonrobust</td>    <th>                     </th>     <td> </td>   \n",
       "</tr>\n",
       "</table>\n",
       "<table class=\"simpletable\">\n",
       "<tr>\n",
       "                                     <td></td>                                        <th>coef</th>     <th>std err</th>      <th>z</th>      <th>P>|z|</th>  <th>[0.025</th>    <th>0.975]</th>  \n",
       "</tr>\n",
       "<tr>\n",
       "  <th>const</th>                                                                   <td>   -1.7169</td> <td>    0.460</td> <td>   -3.728</td> <td> 0.000</td> <td>   -2.619</td> <td>   -0.814</td>\n",
       "</tr>\n",
       "<tr>\n",
       "  <th>Total Time Spent on Website</th>                                             <td>    1.0949</td> <td>    0.039</td> <td>   28.288</td> <td> 0.000</td> <td>    1.019</td> <td>    1.171</td>\n",
       "</tr>\n",
       "<tr>\n",
       "  <th>Lead Origin_api</th>                                                         <td>   -0.3521</td> <td>    0.457</td> <td>   -0.770</td> <td> 0.441</td> <td>   -1.248</td> <td>    0.544</td>\n",
       "</tr>\n",
       "<tr>\n",
       "  <th>Lead Origin_landing page submission</th>                                     <td>   -1.0182</td> <td>    0.443</td> <td>   -2.299</td> <td> 0.021</td> <td>   -1.886</td> <td>   -0.150</td>\n",
       "</tr>\n",
       "<tr>\n",
       "  <th>Lead Origin_lead add form</th>                                               <td>    3.2641</td> <td>    0.494</td> <td>    6.603</td> <td> 0.000</td> <td>    2.295</td> <td>    4.233</td>\n",
       "</tr>\n",
       "<tr>\n",
       "  <th>Lead Source_olark chat</th>                                                  <td>    0.8825</td> <td>    0.115</td> <td>    7.664</td> <td> 0.000</td> <td>    0.657</td> <td>    1.108</td>\n",
       "</tr>\n",
       "<tr>\n",
       "  <th>Lead Source_referral sites</th>                                              <td>   -0.4529</td> <td>    0.330</td> <td>   -1.372</td> <td> 0.170</td> <td>   -1.100</td> <td>    0.194</td>\n",
       "</tr>\n",
       "<tr>\n",
       "  <th>Lead Source_welingak website</th>                                            <td>    2.1917</td> <td>    0.751</td> <td>    2.920</td> <td> 0.004</td> <td>    0.720</td> <td>    3.663</td>\n",
       "</tr>\n",
       "<tr>\n",
       "  <th>Do Not Email_1</th>                                                          <td>   -1.3224</td> <td>    0.158</td> <td>   -8.347</td> <td> 0.000</td> <td>   -1.633</td> <td>   -1.012</td>\n",
       "</tr>\n",
       "<tr>\n",
       "  <th>Specialization_banking, investment and insurance</th>                        <td>    0.3482</td> <td>    0.169</td> <td>    2.056</td> <td> 0.040</td> <td>    0.016</td> <td>    0.680</td>\n",
       "</tr>\n",
       "<tr>\n",
       "  <th>Specialization_e-business</th>                                               <td>    0.5557</td> <td>    0.388</td> <td>    1.431</td> <td> 0.152</td> <td>   -0.205</td> <td>    1.317</td>\n",
       "</tr>\n",
       "<tr>\n",
       "  <th>Specialization_services excellence</th>                                      <td>    0.6768</td> <td>    0.556</td> <td>    1.218</td> <td> 0.223</td> <td>   -0.412</td> <td>    1.766</td>\n",
       "</tr>\n",
       "<tr>\n",
       "  <th>What is your current occupation_housewife</th>                               <td>   23.8298</td> <td> 1.57e+04</td> <td>    0.002</td> <td> 0.999</td> <td>-3.07e+04</td> <td> 3.07e+04</td>\n",
       "</tr>\n",
       "<tr>\n",
       "  <th>What is your current occupation_other</th>                                   <td>    1.2044</td> <td>    0.640</td> <td>    1.883</td> <td> 0.060</td> <td>   -0.049</td> <td>    2.458</td>\n",
       "</tr>\n",
       "<tr>\n",
       "  <th>What is your current occupation_student</th>                                 <td>    1.1098</td> <td>    0.228</td> <td>    4.878</td> <td> 0.000</td> <td>    0.664</td> <td>    1.556</td>\n",
       "</tr>\n",
       "<tr>\n",
       "  <th>What is your current occupation_unemployed</th>                              <td>    1.2571</td> <td>    0.084</td> <td>   14.974</td> <td> 0.000</td> <td>    1.093</td> <td>    1.422</td>\n",
       "</tr>\n",
       "<tr>\n",
       "  <th>What is your current occupation_working professional</th>                    <td>    3.7664</td> <td>    0.190</td> <td>   19.854</td> <td> 0.000</td> <td>    3.395</td> <td>    4.138</td>\n",
       "</tr>\n",
       "<tr>\n",
       "  <th>What matters most to you in choosing a course_flexibility & convenience</th> <td>   22.7420</td> <td> 4.82e+04</td> <td>    0.000</td> <td> 1.000</td> <td>-9.44e+04</td> <td> 9.45e+04</td>\n",
       "</tr>\n",
       "<tr>\n",
       "  <th>City_mumbai</th>                                                             <td>    0.7182</td> <td>    0.132</td> <td>    5.451</td> <td> 0.000</td> <td>    0.460</td> <td>    0.976</td>\n",
       "</tr>\n",
       "<tr>\n",
       "  <th>City_other</th>                                                              <td>    0.6709</td> <td>    0.134</td> <td>    5.019</td> <td> 0.000</td> <td>    0.409</td> <td>    0.933</td>\n",
       "</tr>\n",
       "</table>"
      ],
      "text/plain": [
       "<class 'statsmodels.iolib.summary.Summary'>\n",
       "\"\"\"\n",
       "                 Generalized Linear Model Regression Results                  \n",
       "==============================================================================\n",
       "Dep. Variable:              Converted   No. Observations:                 6372\n",
       "Model:                            GLM   Df Residuals:                     6352\n",
       "Model Family:                Binomial   Df Model:                           19\n",
       "Link Function:                  logit   Scale:                          1.0000\n",
       "Method:                          IRLS   Log-Likelihood:                -2845.4\n",
       "Date:                Mon, 07 Dec 2020   Deviance:                       5690.8\n",
       "Time:                        19:10:15   Pearson chi2:                 6.52e+03\n",
       "No. Iterations:                    21                                         \n",
       "Covariance Type:            nonrobust                                         \n",
       "===========================================================================================================================================\n",
       "                                                                              coef    std err          z      P>|z|      [0.025      0.975]\n",
       "-------------------------------------------------------------------------------------------------------------------------------------------\n",
       "const                                                                      -1.7169      0.460     -3.728      0.000      -2.619      -0.814\n",
       "Total Time Spent on Website                                                 1.0949      0.039     28.288      0.000       1.019       1.171\n",
       "Lead Origin_api                                                            -0.3521      0.457     -0.770      0.441      -1.248       0.544\n",
       "Lead Origin_landing page submission                                        -1.0182      0.443     -2.299      0.021      -1.886      -0.150\n",
       "Lead Origin_lead add form                                                   3.2641      0.494      6.603      0.000       2.295       4.233\n",
       "Lead Source_olark chat                                                      0.8825      0.115      7.664      0.000       0.657       1.108\n",
       "Lead Source_referral sites                                                 -0.4529      0.330     -1.372      0.170      -1.100       0.194\n",
       "Lead Source_welingak website                                                2.1917      0.751      2.920      0.004       0.720       3.663\n",
       "Do Not Email_1                                                             -1.3224      0.158     -8.347      0.000      -1.633      -1.012\n",
       "Specialization_banking, investment and insurance                            0.3482      0.169      2.056      0.040       0.016       0.680\n",
       "Specialization_e-business                                                   0.5557      0.388      1.431      0.152      -0.205       1.317\n",
       "Specialization_services excellence                                          0.6768      0.556      1.218      0.223      -0.412       1.766\n",
       "What is your current occupation_housewife                                  23.8298   1.57e+04      0.002      0.999   -3.07e+04    3.07e+04\n",
       "What is your current occupation_other                                       1.2044      0.640      1.883      0.060      -0.049       2.458\n",
       "What is your current occupation_student                                     1.1098      0.228      4.878      0.000       0.664       1.556\n",
       "What is your current occupation_unemployed                                  1.2571      0.084     14.974      0.000       1.093       1.422\n",
       "What is your current occupation_working professional                        3.7664      0.190     19.854      0.000       3.395       4.138\n",
       "What matters most to you in choosing a course_flexibility & convenience    22.7420   4.82e+04      0.000      1.000   -9.44e+04    9.45e+04\n",
       "City_mumbai                                                                 0.7182      0.132      5.451      0.000       0.460       0.976\n",
       "City_other                                                                  0.6709      0.134      5.019      0.000       0.409       0.933\n",
       "===========================================================================================================================================\n",
       "\"\"\""
      ]
     },
     "execution_count": 257,
     "metadata": {},
     "output_type": "execute_result"
    }
   ],
   "source": [
    "X_train_sm = sm.add_constant(X_train[col])\n",
    "logm3 = sm.GLM(y_train,X_train_sm, family = sm.families.Binomial())\n",
    "res = logm3.fit()\n",
    "res.summary()"
   ]
  },
  {
   "cell_type": "code",
   "execution_count": 258,
   "metadata": {},
   "outputs": [
    {
     "data": {
      "text/plain": [
       "7962    0.701970\n",
       "5520    0.089301\n",
       "1962    0.200168\n",
       "1566    0.963585\n",
       "9170    0.290268\n",
       "5097    0.104217\n",
       "8954    0.279349\n",
       "309     0.232085\n",
       "5519    0.104217\n",
       "1050    0.602040\n",
       "dtype: float64"
      ]
     },
     "execution_count": 258,
     "metadata": {},
     "output_type": "execute_result"
    }
   ],
   "source": [
    "# Getting the predicted values on the train set\n",
    "y_train_pred = res.predict(X_train_sm)\n",
    "y_train_pred[:10]"
   ]
  },
  {
   "cell_type": "code",
   "execution_count": 259,
   "metadata": {},
   "outputs": [
    {
     "data": {
      "text/plain": [
       "array([0.70197038, 0.08930074, 0.20016781, 0.96358463, 0.29026823,\n",
       "       0.10421713, 0.27934853, 0.23208465, 0.10421713, 0.60203987])"
      ]
     },
     "execution_count": 259,
     "metadata": {},
     "output_type": "execute_result"
    }
   ],
   "source": [
    "y_train_pred = y_train_pred.values.reshape(-1)\n",
    "y_train_pred[:10]"
   ]
  },
  {
   "cell_type": "code",
   "execution_count": 260,
   "metadata": {},
   "outputs": [
    {
     "data": {
      "text/html": [
       "<div>\n",
       "<style scoped>\n",
       "    .dataframe tbody tr th:only-of-type {\n",
       "        vertical-align: middle;\n",
       "    }\n",
       "\n",
       "    .dataframe tbody tr th {\n",
       "        vertical-align: top;\n",
       "    }\n",
       "\n",
       "    .dataframe thead th {\n",
       "        text-align: right;\n",
       "    }\n",
       "</style>\n",
       "<table border=\"1\" class=\"dataframe\">\n",
       "  <thead>\n",
       "    <tr style=\"text-align: right;\">\n",
       "      <th></th>\n",
       "      <th>Converted</th>\n",
       "      <th>Conversion_Prob</th>\n",
       "      <th>LeadID</th>\n",
       "    </tr>\n",
       "  </thead>\n",
       "  <tbody>\n",
       "    <tr>\n",
       "      <th>0</th>\n",
       "      <td>0</td>\n",
       "      <td>0.701970</td>\n",
       "      <td>7962</td>\n",
       "    </tr>\n",
       "    <tr>\n",
       "      <th>1</th>\n",
       "      <td>0</td>\n",
       "      <td>0.089301</td>\n",
       "      <td>5520</td>\n",
       "    </tr>\n",
       "    <tr>\n",
       "      <th>2</th>\n",
       "      <td>0</td>\n",
       "      <td>0.200168</td>\n",
       "      <td>1962</td>\n",
       "    </tr>\n",
       "    <tr>\n",
       "      <th>3</th>\n",
       "      <td>1</td>\n",
       "      <td>0.963585</td>\n",
       "      <td>1566</td>\n",
       "    </tr>\n",
       "    <tr>\n",
       "      <th>4</th>\n",
       "      <td>0</td>\n",
       "      <td>0.290268</td>\n",
       "      <td>9170</td>\n",
       "    </tr>\n",
       "  </tbody>\n",
       "</table>\n",
       "</div>"
      ],
      "text/plain": [
       "   Converted  Conversion_Prob  LeadID\n",
       "0          0         0.701970    7962\n",
       "1          0         0.089301    5520\n",
       "2          0         0.200168    1962\n",
       "3          1         0.963585    1566\n",
       "4          0         0.290268    9170"
      ]
     },
     "execution_count": 260,
     "metadata": {},
     "output_type": "execute_result"
    }
   ],
   "source": [
    "y_train_pred_final = pd.DataFrame({'Converted':y_train.values, 'Conversion_Prob':y_train_pred})\n",
    "y_train_pred_final['LeadID'] = y_train.index\n",
    "y_train_pred_final.head()"
   ]
  },
  {
   "cell_type": "code",
   "execution_count": 261,
   "metadata": {},
   "outputs": [
    {
     "data": {
      "text/html": [
       "<div>\n",
       "<style scoped>\n",
       "    .dataframe tbody tr th:only-of-type {\n",
       "        vertical-align: middle;\n",
       "    }\n",
       "\n",
       "    .dataframe tbody tr th {\n",
       "        vertical-align: top;\n",
       "    }\n",
       "\n",
       "    .dataframe thead th {\n",
       "        text-align: right;\n",
       "    }\n",
       "</style>\n",
       "<table border=\"1\" class=\"dataframe\">\n",
       "  <thead>\n",
       "    <tr style=\"text-align: right;\">\n",
       "      <th></th>\n",
       "      <th>Converted</th>\n",
       "      <th>Conversion_Prob</th>\n",
       "      <th>LeadID</th>\n",
       "      <th>predicted</th>\n",
       "    </tr>\n",
       "  </thead>\n",
       "  <tbody>\n",
       "    <tr>\n",
       "      <th>0</th>\n",
       "      <td>0</td>\n",
       "      <td>0.701970</td>\n",
       "      <td>7962</td>\n",
       "      <td>1</td>\n",
       "    </tr>\n",
       "    <tr>\n",
       "      <th>1</th>\n",
       "      <td>0</td>\n",
       "      <td>0.089301</td>\n",
       "      <td>5520</td>\n",
       "      <td>0</td>\n",
       "    </tr>\n",
       "    <tr>\n",
       "      <th>2</th>\n",
       "      <td>0</td>\n",
       "      <td>0.200168</td>\n",
       "      <td>1962</td>\n",
       "      <td>0</td>\n",
       "    </tr>\n",
       "    <tr>\n",
       "      <th>3</th>\n",
       "      <td>1</td>\n",
       "      <td>0.963585</td>\n",
       "      <td>1566</td>\n",
       "      <td>1</td>\n",
       "    </tr>\n",
       "    <tr>\n",
       "      <th>4</th>\n",
       "      <td>0</td>\n",
       "      <td>0.290268</td>\n",
       "      <td>9170</td>\n",
       "      <td>0</td>\n",
       "    </tr>\n",
       "  </tbody>\n",
       "</table>\n",
       "</div>"
      ],
      "text/plain": [
       "   Converted  Conversion_Prob  LeadID  predicted\n",
       "0          0         0.701970    7962          1\n",
       "1          0         0.089301    5520          0\n",
       "2          0         0.200168    1962          0\n",
       "3          1         0.963585    1566          1\n",
       "4          0         0.290268    9170          0"
      ]
     },
     "execution_count": 261,
     "metadata": {},
     "output_type": "execute_result"
    }
   ],
   "source": [
    "y_train_pred_final['predicted'] = y_train_pred_final.Conversion_Prob.map(lambda x: 1 if x > 0.5 else 0)\n",
    "\n",
    "# Let's see the head\n",
    "y_train_pred_final.head()"
   ]
  },
  {
   "cell_type": "code",
   "execution_count": 262,
   "metadata": {},
   "outputs": [],
   "source": [
    "from sklearn import metrics"
   ]
  },
  {
   "cell_type": "code",
   "execution_count": 263,
   "metadata": {},
   "outputs": [
    {
     "name": "stdout",
     "output_type": "stream",
     "text": [
      "[[3533  420]\n",
      " [ 852 1567]]\n"
     ]
    }
   ],
   "source": [
    "# Confusion matrix \n",
    "confusion = metrics.confusion_matrix(y_train_pred_final.Converted, y_train_pred_final.predicted )\n",
    "print(confusion)"
   ]
  },
  {
   "cell_type": "code",
   "execution_count": 264,
   "metadata": {},
   "outputs": [
    {
     "name": "stdout",
     "output_type": "stream",
     "text": [
      "0.800376647834275\n"
     ]
    }
   ],
   "source": [
    "# Let's check the overall accuracy.\n",
    "print(metrics.accuracy_score(y_train_pred_final.Converted, y_train_pred_final.predicted))"
   ]
  },
  {
   "cell_type": "code",
   "execution_count": 265,
   "metadata": {},
   "outputs": [
    {
     "data": {
      "text/html": [
       "<div>\n",
       "<style scoped>\n",
       "    .dataframe tbody tr th:only-of-type {\n",
       "        vertical-align: middle;\n",
       "    }\n",
       "\n",
       "    .dataframe tbody tr th {\n",
       "        vertical-align: top;\n",
       "    }\n",
       "\n",
       "    .dataframe thead th {\n",
       "        text-align: right;\n",
       "    }\n",
       "</style>\n",
       "<table border=\"1\" class=\"dataframe\">\n",
       "  <thead>\n",
       "    <tr style=\"text-align: right;\">\n",
       "      <th></th>\n",
       "      <th>Features</th>\n",
       "      <th>VIF</th>\n",
       "    </tr>\n",
       "  </thead>\n",
       "  <tbody>\n",
       "    <tr>\n",
       "      <th>2</th>\n",
       "      <td>Lead Origin_landing page submission</td>\n",
       "      <td>8.66</td>\n",
       "    </tr>\n",
       "    <tr>\n",
       "      <th>17</th>\n",
       "      <td>City_mumbai</td>\n",
       "      <td>5.21</td>\n",
       "    </tr>\n",
       "    <tr>\n",
       "      <th>18</th>\n",
       "      <td>City_other</td>\n",
       "      <td>3.92</td>\n",
       "    </tr>\n",
       "    <tr>\n",
       "      <th>14</th>\n",
       "      <td>What is your current occupation_unemployed</td>\n",
       "      <td>3.31</td>\n",
       "    </tr>\n",
       "    <tr>\n",
       "      <th>1</th>\n",
       "      <td>Lead Origin_api</td>\n",
       "      <td>3.12</td>\n",
       "    </tr>\n",
       "    <tr>\n",
       "      <th>4</th>\n",
       "      <td>Lead Source_olark chat</td>\n",
       "      <td>2.27</td>\n",
       "    </tr>\n",
       "    <tr>\n",
       "      <th>3</th>\n",
       "      <td>Lead Origin_lead add form</td>\n",
       "      <td>1.89</td>\n",
       "    </tr>\n",
       "    <tr>\n",
       "      <th>15</th>\n",
       "      <td>What is your current occupation_working profes...</td>\n",
       "      <td>1.38</td>\n",
       "    </tr>\n",
       "    <tr>\n",
       "      <th>6</th>\n",
       "      <td>Lead Source_welingak website</td>\n",
       "      <td>1.33</td>\n",
       "    </tr>\n",
       "    <tr>\n",
       "      <th>0</th>\n",
       "      <td>Total Time Spent on Website</td>\n",
       "      <td>1.30</td>\n",
       "    </tr>\n",
       "    <tr>\n",
       "      <th>7</th>\n",
       "      <td>Do Not Email_1</td>\n",
       "      <td>1.12</td>\n",
       "    </tr>\n",
       "    <tr>\n",
       "      <th>13</th>\n",
       "      <td>What is your current occupation_student</td>\n",
       "      <td>1.08</td>\n",
       "    </tr>\n",
       "    <tr>\n",
       "      <th>8</th>\n",
       "      <td>Specialization_banking, investment and insurance</td>\n",
       "      <td>1.06</td>\n",
       "    </tr>\n",
       "    <tr>\n",
       "      <th>5</th>\n",
       "      <td>Lead Source_referral sites</td>\n",
       "      <td>1.05</td>\n",
       "    </tr>\n",
       "    <tr>\n",
       "      <th>10</th>\n",
       "      <td>Specialization_services excellence</td>\n",
       "      <td>1.01</td>\n",
       "    </tr>\n",
       "    <tr>\n",
       "      <th>11</th>\n",
       "      <td>What is your current occupation_housewife</td>\n",
       "      <td>1.01</td>\n",
       "    </tr>\n",
       "    <tr>\n",
       "      <th>12</th>\n",
       "      <td>What is your current occupation_other</td>\n",
       "      <td>1.01</td>\n",
       "    </tr>\n",
       "    <tr>\n",
       "      <th>9</th>\n",
       "      <td>Specialization_e-business</td>\n",
       "      <td>1.01</td>\n",
       "    </tr>\n",
       "    <tr>\n",
       "      <th>16</th>\n",
       "      <td>What matters most to you in choosing a course_...</td>\n",
       "      <td>1.00</td>\n",
       "    </tr>\n",
       "  </tbody>\n",
       "</table>\n",
       "</div>"
      ],
      "text/plain": [
       "                                             Features   VIF\n",
       "2                 Lead Origin_landing page submission  8.66\n",
       "17                                        City_mumbai  5.21\n",
       "18                                         City_other  3.92\n",
       "14         What is your current occupation_unemployed  3.31\n",
       "1                                     Lead Origin_api  3.12\n",
       "4                              Lead Source_olark chat  2.27\n",
       "3                           Lead Origin_lead add form  1.89\n",
       "15  What is your current occupation_working profes...  1.38\n",
       "6                        Lead Source_welingak website  1.33\n",
       "0                         Total Time Spent on Website  1.30\n",
       "7                                      Do Not Email_1  1.12\n",
       "13            What is your current occupation_student  1.08\n",
       "8    Specialization_banking, investment and insurance  1.06\n",
       "5                          Lead Source_referral sites  1.05\n",
       "10                 Specialization_services excellence  1.01\n",
       "11          What is your current occupation_housewife  1.01\n",
       "12              What is your current occupation_other  1.01\n",
       "9                           Specialization_e-business  1.01\n",
       "16  What matters most to you in choosing a course_...  1.00"
      ]
     },
     "execution_count": 265,
     "metadata": {},
     "output_type": "execute_result"
    }
   ],
   "source": [
    "# Create a dataframe that will contain the names of all the feature variables and their respective VIFs\n",
    "vif = pd.DataFrame()\n",
    "vif['Features'] = X_train[col].columns\n",
    "vif['VIF'] = [variance_inflation_factor(X_train[col].values, i) for i in range(X_train[col].shape[1])]\n",
    "vif['VIF'] = round(vif['VIF'], 2)\n",
    "vif = vif.sort_values(by = \"VIF\", ascending = False)\n",
    "vif"
   ]
  },
  {
   "cell_type": "code",
   "execution_count": 266,
   "metadata": {},
   "outputs": [
    {
     "data": {
      "text/plain": [
       "Index(['Total Time Spent on Website', 'Lead Origin_api',\n",
       "       'Lead Origin_lead add form', 'Lead Source_olark chat',\n",
       "       'Lead Source_referral sites', 'Lead Source_welingak website',\n",
       "       'Do Not Email_1', 'Specialization_banking, investment and insurance',\n",
       "       'Specialization_e-business', 'Specialization_services excellence',\n",
       "       'What is your current occupation_other',\n",
       "       'What is your current occupation_student',\n",
       "       'What is your current occupation_unemployed',\n",
       "       'What is your current occupation_working professional',\n",
       "       'What matters most to you in choosing a course_flexibility & convenience',\n",
       "       'City_mumbai', 'City_other'],\n",
       "      dtype='object')"
      ]
     },
     "execution_count": 266,
     "metadata": {},
     "output_type": "execute_result"
    }
   ],
   "source": [
    "# Dropping columns with high VIF and high p-value\n",
    "col = col.drop('Lead Origin_landing page submission', 1)\n",
    "col = col.drop('What is your current occupation_housewife', 1)\n",
    "col"
   ]
  },
  {
   "cell_type": "code",
   "execution_count": 267,
   "metadata": {},
   "outputs": [
    {
     "data": {
      "text/html": [
       "<table class=\"simpletable\">\n",
       "<caption>Generalized Linear Model Regression Results</caption>\n",
       "<tr>\n",
       "  <th>Dep. Variable:</th>       <td>Converted</td>    <th>  No. Observations:  </th>  <td>  6372</td> \n",
       "</tr>\n",
       "<tr>\n",
       "  <th>Model:</th>                  <td>GLM</td>       <th>  Df Residuals:      </th>  <td>  6354</td> \n",
       "</tr>\n",
       "<tr>\n",
       "  <th>Model Family:</th>        <td>Binomial</td>     <th>  Df Model:          </th>  <td>    17</td> \n",
       "</tr>\n",
       "<tr>\n",
       "  <th>Link Function:</th>         <td>logit</td>      <th>  Scale:             </th> <td>  1.0000</td>\n",
       "</tr>\n",
       "<tr>\n",
       "  <th>Method:</th>                <td>IRLS</td>       <th>  Log-Likelihood:    </th> <td> -2856.9</td>\n",
       "</tr>\n",
       "<tr>\n",
       "  <th>Date:</th>            <td>Mon, 07 Dec 2020</td> <th>  Deviance:          </th> <td>  5713.9</td>\n",
       "</tr>\n",
       "<tr>\n",
       "  <th>Time:</th>                <td>19:10:16</td>     <th>  Pearson chi2:      </th> <td>6.54e+03</td>\n",
       "</tr>\n",
       "<tr>\n",
       "  <th>No. Iterations:</th>         <td>19</td>        <th>                     </th>     <td> </td>   \n",
       "</tr>\n",
       "<tr>\n",
       "  <th>Covariance Type:</th>     <td>nonrobust</td>    <th>                     </th>     <td> </td>   \n",
       "</tr>\n",
       "</table>\n",
       "<table class=\"simpletable\">\n",
       "<tr>\n",
       "                                     <td></td>                                        <th>coef</th>     <th>std err</th>      <th>z</th>      <th>P>|z|</th>  <th>[0.025</th>    <th>0.975]</th>  \n",
       "</tr>\n",
       "<tr>\n",
       "  <th>const</th>                                                                   <td>   -2.7064</td> <td>    0.145</td> <td>  -18.720</td> <td> 0.000</td> <td>   -2.990</td> <td>   -2.423</td>\n",
       "</tr>\n",
       "<tr>\n",
       "  <th>Total Time Spent on Website</th>                                             <td>    1.0863</td> <td>    0.038</td> <td>   28.293</td> <td> 0.000</td> <td>    1.011</td> <td>    1.162</td>\n",
       "</tr>\n",
       "<tr>\n",
       "  <th>Lead Origin_api</th>                                                         <td>    0.6591</td> <td>    0.130</td> <td>    5.059</td> <td> 0.000</td> <td>    0.404</td> <td>    0.915</td>\n",
       "</tr>\n",
       "<tr>\n",
       "  <th>Lead Origin_lead add form</th>                                               <td>    4.2771</td> <td>    0.239</td> <td>   17.905</td> <td> 0.000</td> <td>    3.809</td> <td>    4.745</td>\n",
       "</tr>\n",
       "<tr>\n",
       "  <th>Lead Source_olark chat</th>                                                  <td>    0.8683</td> <td>    0.115</td> <td>    7.562</td> <td> 0.000</td> <td>    0.643</td> <td>    1.093</td>\n",
       "</tr>\n",
       "<tr>\n",
       "  <th>Lead Source_referral sites</th>                                              <td>   -0.4591</td> <td>    0.330</td> <td>   -1.393</td> <td> 0.164</td> <td>   -1.105</td> <td>    0.187</td>\n",
       "</tr>\n",
       "<tr>\n",
       "  <th>Lead Source_welingak website</th>                                            <td>    2.1859</td> <td>    0.751</td> <td>    2.912</td> <td> 0.004</td> <td>    0.714</td> <td>    3.657</td>\n",
       "</tr>\n",
       "<tr>\n",
       "  <th>Do Not Email_1</th>                                                          <td>   -1.3324</td> <td>    0.158</td> <td>   -8.423</td> <td> 0.000</td> <td>   -1.642</td> <td>   -1.022</td>\n",
       "</tr>\n",
       "<tr>\n",
       "  <th>Specialization_banking, investment and insurance</th>                        <td>    0.3322</td> <td>    0.169</td> <td>    1.966</td> <td> 0.049</td> <td>    0.001</td> <td>    0.663</td>\n",
       "</tr>\n",
       "<tr>\n",
       "  <th>Specialization_e-business</th>                                               <td>    0.5354</td> <td>    0.388</td> <td>    1.381</td> <td> 0.167</td> <td>   -0.224</td> <td>    1.295</td>\n",
       "</tr>\n",
       "<tr>\n",
       "  <th>Specialization_services excellence</th>                                      <td>    0.6606</td> <td>    0.554</td> <td>    1.192</td> <td> 0.233</td> <td>   -0.426</td> <td>    1.747</td>\n",
       "</tr>\n",
       "<tr>\n",
       "  <th>What is your current occupation_other</th>                                   <td>    1.1790</td> <td>    0.639</td> <td>    1.846</td> <td> 0.065</td> <td>   -0.073</td> <td>    2.431</td>\n",
       "</tr>\n",
       "<tr>\n",
       "  <th>What is your current occupation_student</th>                                 <td>    1.0833</td> <td>    0.227</td> <td>    4.770</td> <td> 0.000</td> <td>    0.638</td> <td>    1.528</td>\n",
       "</tr>\n",
       "<tr>\n",
       "  <th>What is your current occupation_unemployed</th>                              <td>    1.2344</td> <td>    0.083</td> <td>   14.836</td> <td> 0.000</td> <td>    1.071</td> <td>    1.398</td>\n",
       "</tr>\n",
       "<tr>\n",
       "  <th>What is your current occupation_working professional</th>                    <td>    3.7442</td> <td>    0.189</td> <td>   19.773</td> <td> 0.000</td> <td>    3.373</td> <td>    4.115</td>\n",
       "</tr>\n",
       "<tr>\n",
       "  <th>What matters most to you in choosing a course_flexibility & convenience</th> <td>   20.7398</td> <td> 1.77e+04</td> <td>    0.001</td> <td> 0.999</td> <td>-3.47e+04</td> <td> 3.48e+04</td>\n",
       "</tr>\n",
       "<tr>\n",
       "  <th>City_mumbai</th>                                                             <td>    0.7278</td> <td>    0.131</td> <td>    5.539</td> <td> 0.000</td> <td>    0.470</td> <td>    0.985</td>\n",
       "</tr>\n",
       "<tr>\n",
       "  <th>City_other</th>                                                              <td>    0.6845</td> <td>    0.133</td> <td>    5.135</td> <td> 0.000</td> <td>    0.423</td> <td>    0.946</td>\n",
       "</tr>\n",
       "</table>"
      ],
      "text/plain": [
       "<class 'statsmodels.iolib.summary.Summary'>\n",
       "\"\"\"\n",
       "                 Generalized Linear Model Regression Results                  \n",
       "==============================================================================\n",
       "Dep. Variable:              Converted   No. Observations:                 6372\n",
       "Model:                            GLM   Df Residuals:                     6354\n",
       "Model Family:                Binomial   Df Model:                           17\n",
       "Link Function:                  logit   Scale:                          1.0000\n",
       "Method:                          IRLS   Log-Likelihood:                -2856.9\n",
       "Date:                Mon, 07 Dec 2020   Deviance:                       5713.9\n",
       "Time:                        19:10:16   Pearson chi2:                 6.54e+03\n",
       "No. Iterations:                    19                                         \n",
       "Covariance Type:            nonrobust                                         \n",
       "===========================================================================================================================================\n",
       "                                                                              coef    std err          z      P>|z|      [0.025      0.975]\n",
       "-------------------------------------------------------------------------------------------------------------------------------------------\n",
       "const                                                                      -2.7064      0.145    -18.720      0.000      -2.990      -2.423\n",
       "Total Time Spent on Website                                                 1.0863      0.038     28.293      0.000       1.011       1.162\n",
       "Lead Origin_api                                                             0.6591      0.130      5.059      0.000       0.404       0.915\n",
       "Lead Origin_lead add form                                                   4.2771      0.239     17.905      0.000       3.809       4.745\n",
       "Lead Source_olark chat                                                      0.8683      0.115      7.562      0.000       0.643       1.093\n",
       "Lead Source_referral sites                                                 -0.4591      0.330     -1.393      0.164      -1.105       0.187\n",
       "Lead Source_welingak website                                                2.1859      0.751      2.912      0.004       0.714       3.657\n",
       "Do Not Email_1                                                             -1.3324      0.158     -8.423      0.000      -1.642      -1.022\n",
       "Specialization_banking, investment and insurance                            0.3322      0.169      1.966      0.049       0.001       0.663\n",
       "Specialization_e-business                                                   0.5354      0.388      1.381      0.167      -0.224       1.295\n",
       "Specialization_services excellence                                          0.6606      0.554      1.192      0.233      -0.426       1.747\n",
       "What is your current occupation_other                                       1.1790      0.639      1.846      0.065      -0.073       2.431\n",
       "What is your current occupation_student                                     1.0833      0.227      4.770      0.000       0.638       1.528\n",
       "What is your current occupation_unemployed                                  1.2344      0.083     14.836      0.000       1.071       1.398\n",
       "What is your current occupation_working professional                        3.7442      0.189     19.773      0.000       3.373       4.115\n",
       "What matters most to you in choosing a course_flexibility & convenience    20.7398   1.77e+04      0.001      0.999   -3.47e+04    3.48e+04\n",
       "City_mumbai                                                                 0.7278      0.131      5.539      0.000       0.470       0.985\n",
       "City_other                                                                  0.6845      0.133      5.135      0.000       0.423       0.946\n",
       "===========================================================================================================================================\n",
       "\"\"\""
      ]
     },
     "execution_count": 267,
     "metadata": {},
     "output_type": "execute_result"
    }
   ],
   "source": [
    "X_train_sm = sm.add_constant(X_train[col])\n",
    "logm4 = sm.GLM(y_train,X_train_sm, family = sm.families.Binomial())\n",
    "res = logm4.fit()\n",
    "res.summary()"
   ]
  },
  {
   "cell_type": "code",
   "execution_count": 268,
   "metadata": {},
   "outputs": [
    {
     "data": {
      "text/plain": [
       "7962    0.702570\n",
       "5520    0.090339\n",
       "1962    0.203486\n",
       "1566    0.963727\n",
       "9170    0.288730\n",
       "5097    0.105647\n",
       "8954    0.282811\n",
       "309     0.235507\n",
       "5519    0.105647\n",
       "1050    0.604438\n",
       "dtype: float64"
      ]
     },
     "execution_count": 268,
     "metadata": {},
     "output_type": "execute_result"
    }
   ],
   "source": [
    "# Getting the predicted values on the train set\n",
    "y_train_pred = res.predict(X_train_sm)\n",
    "y_train_pred[:10]"
   ]
  },
  {
   "cell_type": "code",
   "execution_count": 269,
   "metadata": {},
   "outputs": [
    {
     "data": {
      "text/plain": [
       "array([0.70256993, 0.0903393 , 0.20348564, 0.96372696, 0.28872986,\n",
       "       0.10564735, 0.28281126, 0.23550684, 0.10564735, 0.60443805])"
      ]
     },
     "execution_count": 269,
     "metadata": {},
     "output_type": "execute_result"
    }
   ],
   "source": [
    "y_train_pred = y_train_pred.values.reshape(-1)\n",
    "y_train_pred[:10]"
   ]
  },
  {
   "cell_type": "code",
   "execution_count": 270,
   "metadata": {},
   "outputs": [
    {
     "data": {
      "text/html": [
       "<div>\n",
       "<style scoped>\n",
       "    .dataframe tbody tr th:only-of-type {\n",
       "        vertical-align: middle;\n",
       "    }\n",
       "\n",
       "    .dataframe tbody tr th {\n",
       "        vertical-align: top;\n",
       "    }\n",
       "\n",
       "    .dataframe thead th {\n",
       "        text-align: right;\n",
       "    }\n",
       "</style>\n",
       "<table border=\"1\" class=\"dataframe\">\n",
       "  <thead>\n",
       "    <tr style=\"text-align: right;\">\n",
       "      <th></th>\n",
       "      <th>Converted</th>\n",
       "      <th>Conversion_Prob</th>\n",
       "      <th>LeadID</th>\n",
       "    </tr>\n",
       "  </thead>\n",
       "  <tbody>\n",
       "    <tr>\n",
       "      <th>0</th>\n",
       "      <td>0</td>\n",
       "      <td>0.702570</td>\n",
       "      <td>7962</td>\n",
       "    </tr>\n",
       "    <tr>\n",
       "      <th>1</th>\n",
       "      <td>0</td>\n",
       "      <td>0.090339</td>\n",
       "      <td>5520</td>\n",
       "    </tr>\n",
       "    <tr>\n",
       "      <th>2</th>\n",
       "      <td>0</td>\n",
       "      <td>0.203486</td>\n",
       "      <td>1962</td>\n",
       "    </tr>\n",
       "    <tr>\n",
       "      <th>3</th>\n",
       "      <td>1</td>\n",
       "      <td>0.963727</td>\n",
       "      <td>1566</td>\n",
       "    </tr>\n",
       "    <tr>\n",
       "      <th>4</th>\n",
       "      <td>0</td>\n",
       "      <td>0.288730</td>\n",
       "      <td>9170</td>\n",
       "    </tr>\n",
       "  </tbody>\n",
       "</table>\n",
       "</div>"
      ],
      "text/plain": [
       "   Converted  Conversion_Prob  LeadID\n",
       "0          0         0.702570    7962\n",
       "1          0         0.090339    5520\n",
       "2          0         0.203486    1962\n",
       "3          1         0.963727    1566\n",
       "4          0         0.288730    9170"
      ]
     },
     "execution_count": 270,
     "metadata": {},
     "output_type": "execute_result"
    }
   ],
   "source": [
    "y_train_pred_final = pd.DataFrame({'Converted':y_train.values, 'Conversion_Prob':y_train_pred})\n",
    "y_train_pred_final['LeadID'] = y_train.index\n",
    "y_train_pred_final.head()"
   ]
  },
  {
   "cell_type": "code",
   "execution_count": 271,
   "metadata": {},
   "outputs": [
    {
     "data": {
      "text/html": [
       "<div>\n",
       "<style scoped>\n",
       "    .dataframe tbody tr th:only-of-type {\n",
       "        vertical-align: middle;\n",
       "    }\n",
       "\n",
       "    .dataframe tbody tr th {\n",
       "        vertical-align: top;\n",
       "    }\n",
       "\n",
       "    .dataframe thead th {\n",
       "        text-align: right;\n",
       "    }\n",
       "</style>\n",
       "<table border=\"1\" class=\"dataframe\">\n",
       "  <thead>\n",
       "    <tr style=\"text-align: right;\">\n",
       "      <th></th>\n",
       "      <th>Converted</th>\n",
       "      <th>Conversion_Prob</th>\n",
       "      <th>LeadID</th>\n",
       "      <th>predicted</th>\n",
       "    </tr>\n",
       "  </thead>\n",
       "  <tbody>\n",
       "    <tr>\n",
       "      <th>0</th>\n",
       "      <td>0</td>\n",
       "      <td>0.702570</td>\n",
       "      <td>7962</td>\n",
       "      <td>1</td>\n",
       "    </tr>\n",
       "    <tr>\n",
       "      <th>1</th>\n",
       "      <td>0</td>\n",
       "      <td>0.090339</td>\n",
       "      <td>5520</td>\n",
       "      <td>0</td>\n",
       "    </tr>\n",
       "    <tr>\n",
       "      <th>2</th>\n",
       "      <td>0</td>\n",
       "      <td>0.203486</td>\n",
       "      <td>1962</td>\n",
       "      <td>0</td>\n",
       "    </tr>\n",
       "    <tr>\n",
       "      <th>3</th>\n",
       "      <td>1</td>\n",
       "      <td>0.963727</td>\n",
       "      <td>1566</td>\n",
       "      <td>1</td>\n",
       "    </tr>\n",
       "    <tr>\n",
       "      <th>4</th>\n",
       "      <td>0</td>\n",
       "      <td>0.288730</td>\n",
       "      <td>9170</td>\n",
       "      <td>0</td>\n",
       "    </tr>\n",
       "  </tbody>\n",
       "</table>\n",
       "</div>"
      ],
      "text/plain": [
       "   Converted  Conversion_Prob  LeadID  predicted\n",
       "0          0         0.702570    7962          1\n",
       "1          0         0.090339    5520          0\n",
       "2          0         0.203486    1962          0\n",
       "3          1         0.963727    1566          1\n",
       "4          0         0.288730    9170          0"
      ]
     },
     "execution_count": 271,
     "metadata": {},
     "output_type": "execute_result"
    }
   ],
   "source": [
    "y_train_pred_final['predicted'] = y_train_pred_final.Conversion_Prob.map(lambda x: 1 if x > 0.5 else 0)\n",
    "\n",
    "# Let's see the head\n",
    "y_train_pred_final.head()"
   ]
  },
  {
   "cell_type": "code",
   "execution_count": 272,
   "metadata": {},
   "outputs": [
    {
     "name": "stdout",
     "output_type": "stream",
     "text": [
      "[[3529  424]\n",
      " [ 854 1565]]\n"
     ]
    }
   ],
   "source": [
    "# Confusion matrix \n",
    "confusion = metrics.confusion_matrix(y_train_pred_final.Converted, y_train_pred_final.predicted )\n",
    "print(confusion)"
   ]
  },
  {
   "cell_type": "code",
   "execution_count": 273,
   "metadata": {},
   "outputs": [
    {
     "name": "stdout",
     "output_type": "stream",
     "text": [
      "0.7994350282485876\n"
     ]
    }
   ],
   "source": [
    "# Let's check the overall accuracy.\n",
    "print(metrics.accuracy_score(y_train_pred_final.Converted, y_train_pred_final.predicted))"
   ]
  },
  {
   "cell_type": "code",
   "execution_count": 274,
   "metadata": {},
   "outputs": [
    {
     "data": {
      "text/html": [
       "<div>\n",
       "<style scoped>\n",
       "    .dataframe tbody tr th:only-of-type {\n",
       "        vertical-align: middle;\n",
       "    }\n",
       "\n",
       "    .dataframe tbody tr th {\n",
       "        vertical-align: top;\n",
       "    }\n",
       "\n",
       "    .dataframe thead th {\n",
       "        text-align: right;\n",
       "    }\n",
       "</style>\n",
       "<table border=\"1\" class=\"dataframe\">\n",
       "  <thead>\n",
       "    <tr style=\"text-align: right;\">\n",
       "      <th></th>\n",
       "      <th>Features</th>\n",
       "      <th>VIF</th>\n",
       "    </tr>\n",
       "  </thead>\n",
       "  <tbody>\n",
       "    <tr>\n",
       "      <th>12</th>\n",
       "      <td>What is your current occupation_unemployed</td>\n",
       "      <td>3.00</td>\n",
       "    </tr>\n",
       "    <tr>\n",
       "      <th>1</th>\n",
       "      <td>Lead Origin_api</td>\n",
       "      <td>2.67</td>\n",
       "    </tr>\n",
       "    <tr>\n",
       "      <th>3</th>\n",
       "      <td>Lead Source_olark chat</td>\n",
       "      <td>2.24</td>\n",
       "    </tr>\n",
       "    <tr>\n",
       "      <th>15</th>\n",
       "      <td>City_mumbai</td>\n",
       "      <td>1.89</td>\n",
       "    </tr>\n",
       "    <tr>\n",
       "      <th>16</th>\n",
       "      <td>City_other</td>\n",
       "      <td>1.63</td>\n",
       "    </tr>\n",
       "    <tr>\n",
       "      <th>2</th>\n",
       "      <td>Lead Origin_lead add form</td>\n",
       "      <td>1.62</td>\n",
       "    </tr>\n",
       "    <tr>\n",
       "      <th>13</th>\n",
       "      <td>What is your current occupation_working profes...</td>\n",
       "      <td>1.33</td>\n",
       "    </tr>\n",
       "    <tr>\n",
       "      <th>5</th>\n",
       "      <td>Lead Source_welingak website</td>\n",
       "      <td>1.32</td>\n",
       "    </tr>\n",
       "    <tr>\n",
       "      <th>0</th>\n",
       "      <td>Total Time Spent on Website</td>\n",
       "      <td>1.30</td>\n",
       "    </tr>\n",
       "    <tr>\n",
       "      <th>6</th>\n",
       "      <td>Do Not Email_1</td>\n",
       "      <td>1.09</td>\n",
       "    </tr>\n",
       "    <tr>\n",
       "      <th>11</th>\n",
       "      <td>What is your current occupation_student</td>\n",
       "      <td>1.07</td>\n",
       "    </tr>\n",
       "    <tr>\n",
       "      <th>7</th>\n",
       "      <td>Specialization_banking, investment and insurance</td>\n",
       "      <td>1.06</td>\n",
       "    </tr>\n",
       "    <tr>\n",
       "      <th>4</th>\n",
       "      <td>Lead Source_referral sites</td>\n",
       "      <td>1.04</td>\n",
       "    </tr>\n",
       "    <tr>\n",
       "      <th>9</th>\n",
       "      <td>Specialization_services excellence</td>\n",
       "      <td>1.01</td>\n",
       "    </tr>\n",
       "    <tr>\n",
       "      <th>10</th>\n",
       "      <td>What is your current occupation_other</td>\n",
       "      <td>1.01</td>\n",
       "    </tr>\n",
       "    <tr>\n",
       "      <th>8</th>\n",
       "      <td>Specialization_e-business</td>\n",
       "      <td>1.01</td>\n",
       "    </tr>\n",
       "    <tr>\n",
       "      <th>14</th>\n",
       "      <td>What matters most to you in choosing a course_...</td>\n",
       "      <td>1.00</td>\n",
       "    </tr>\n",
       "  </tbody>\n",
       "</table>\n",
       "</div>"
      ],
      "text/plain": [
       "                                             Features   VIF\n",
       "12         What is your current occupation_unemployed  3.00\n",
       "1                                     Lead Origin_api  2.67\n",
       "3                              Lead Source_olark chat  2.24\n",
       "15                                        City_mumbai  1.89\n",
       "16                                         City_other  1.63\n",
       "2                           Lead Origin_lead add form  1.62\n",
       "13  What is your current occupation_working profes...  1.33\n",
       "5                        Lead Source_welingak website  1.32\n",
       "0                         Total Time Spent on Website  1.30\n",
       "6                                      Do Not Email_1  1.09\n",
       "11            What is your current occupation_student  1.07\n",
       "7    Specialization_banking, investment and insurance  1.06\n",
       "4                          Lead Source_referral sites  1.04\n",
       "9                  Specialization_services excellence  1.01\n",
       "10              What is your current occupation_other  1.01\n",
       "8                           Specialization_e-business  1.01\n",
       "14  What matters most to you in choosing a course_...  1.00"
      ]
     },
     "execution_count": 274,
     "metadata": {},
     "output_type": "execute_result"
    }
   ],
   "source": [
    "# Create a dataframe that will contain the names of all the feature variables and their respective VIFs\n",
    "vif = pd.DataFrame()\n",
    "vif['Features'] = X_train[col].columns\n",
    "vif['VIF'] = [variance_inflation_factor(X_train[col].values, i) for i in range(X_train[col].shape[1])]\n",
    "vif['VIF'] = round(vif['VIF'], 2)\n",
    "vif = vif.sort_values(by = \"VIF\", ascending = False)\n",
    "vif"
   ]
  },
  {
   "cell_type": "code",
   "execution_count": 275,
   "metadata": {},
   "outputs": [
    {
     "data": {
      "text/plain": [
       "Index(['Total Time Spent on Website', 'Lead Origin_api',\n",
       "       'Lead Origin_lead add form', 'Lead Source_olark chat',\n",
       "       'Lead Source_referral sites', 'Lead Source_welingak website',\n",
       "       'Do Not Email_1', 'Specialization_banking, investment and insurance',\n",
       "       'Specialization_e-business', 'Specialization_services excellence',\n",
       "       'What is your current occupation_other',\n",
       "       'What is your current occupation_student',\n",
       "       'What is your current occupation_unemployed',\n",
       "       'What is your current occupation_working professional', 'City_mumbai',\n",
       "       'City_other'],\n",
       "      dtype='object')"
      ]
     },
     "execution_count": 275,
     "metadata": {},
     "output_type": "execute_result"
    }
   ],
   "source": [
    "# Dropping columns with high VIF and high p-value\n",
    "col = col.drop('What matters most to you in choosing a course_flexibility & convenience', 1)\n",
    "col"
   ]
  },
  {
   "cell_type": "code",
   "execution_count": 276,
   "metadata": {},
   "outputs": [
    {
     "data": {
      "text/html": [
       "<table class=\"simpletable\">\n",
       "<caption>Generalized Linear Model Regression Results</caption>\n",
       "<tr>\n",
       "  <th>Dep. Variable:</th>       <td>Converted</td>    <th>  No. Observations:  </th>  <td>  6372</td> \n",
       "</tr>\n",
       "<tr>\n",
       "  <th>Model:</th>                  <td>GLM</td>       <th>  Df Residuals:      </th>  <td>  6355</td> \n",
       "</tr>\n",
       "<tr>\n",
       "  <th>Model Family:</th>        <td>Binomial</td>     <th>  Df Model:          </th>  <td>    16</td> \n",
       "</tr>\n",
       "<tr>\n",
       "  <th>Link Function:</th>         <td>logit</td>      <th>  Scale:             </th> <td>  1.0000</td>\n",
       "</tr>\n",
       "<tr>\n",
       "  <th>Method:</th>                <td>IRLS</td>       <th>  Log-Likelihood:    </th> <td> -2857.7</td>\n",
       "</tr>\n",
       "<tr>\n",
       "  <th>Date:</th>            <td>Mon, 07 Dec 2020</td> <th>  Deviance:          </th> <td>  5715.5</td>\n",
       "</tr>\n",
       "<tr>\n",
       "  <th>Time:</th>                <td>19:10:16</td>     <th>  Pearson chi2:      </th> <td>6.54e+03</td>\n",
       "</tr>\n",
       "<tr>\n",
       "  <th>No. Iterations:</th>          <td>7</td>        <th>                     </th>     <td> </td>   \n",
       "</tr>\n",
       "<tr>\n",
       "  <th>Covariance Type:</th>     <td>nonrobust</td>    <th>                     </th>     <td> </td>   \n",
       "</tr>\n",
       "</table>\n",
       "<table class=\"simpletable\">\n",
       "<tr>\n",
       "                            <td></td>                              <th>coef</th>     <th>std err</th>      <th>z</th>      <th>P>|z|</th>  <th>[0.025</th>    <th>0.975]</th>  \n",
       "</tr>\n",
       "<tr>\n",
       "  <th>const</th>                                                <td>   -2.7141</td> <td>    0.144</td> <td>  -18.789</td> <td> 0.000</td> <td>   -2.997</td> <td>   -2.431</td>\n",
       "</tr>\n",
       "<tr>\n",
       "  <th>Total Time Spent on Website</th>                          <td>    1.0862</td> <td>    0.038</td> <td>   28.289</td> <td> 0.000</td> <td>    1.011</td> <td>    1.161</td>\n",
       "</tr>\n",
       "<tr>\n",
       "  <th>Lead Origin_api</th>                                      <td>    0.6649</td> <td>    0.130</td> <td>    5.105</td> <td> 0.000</td> <td>    0.410</td> <td>    0.920</td>\n",
       "</tr>\n",
       "<tr>\n",
       "  <th>Lead Origin_lead add form</th>                            <td>    4.2819</td> <td>    0.239</td> <td>   17.921</td> <td> 0.000</td> <td>    3.814</td> <td>    4.750</td>\n",
       "</tr>\n",
       "<tr>\n",
       "  <th>Lead Source_olark chat</th>                               <td>    0.8718</td> <td>    0.115</td> <td>    7.596</td> <td> 0.000</td> <td>    0.647</td> <td>    1.097</td>\n",
       "</tr>\n",
       "<tr>\n",
       "  <th>Lead Source_referral sites</th>                           <td>   -0.4585</td> <td>    0.330</td> <td>   -1.391</td> <td> 0.164</td> <td>   -1.104</td> <td>    0.187</td>\n",
       "</tr>\n",
       "<tr>\n",
       "  <th>Lead Source_welingak website</th>                         <td>    2.1875</td> <td>    0.751</td> <td>    2.914</td> <td> 0.004</td> <td>    0.716</td> <td>    3.659</td>\n",
       "</tr>\n",
       "<tr>\n",
       "  <th>Do Not Email_1</th>                                       <td>   -1.3325</td> <td>    0.158</td> <td>   -8.424</td> <td> 0.000</td> <td>   -1.643</td> <td>   -1.022</td>\n",
       "</tr>\n",
       "<tr>\n",
       "  <th>Specialization_banking, investment and insurance</th>     <td>    0.3314</td> <td>    0.169</td> <td>    1.962</td> <td> 0.050</td> <td>    0.000</td> <td>    0.663</td>\n",
       "</tr>\n",
       "<tr>\n",
       "  <th>Specialization_e-business</th>                            <td>    0.5351</td> <td>    0.388</td> <td>    1.380</td> <td> 0.168</td> <td>   -0.225</td> <td>    1.295</td>\n",
       "</tr>\n",
       "<tr>\n",
       "  <th>Specialization_services excellence</th>                   <td>    0.6596</td> <td>    0.554</td> <td>    1.190</td> <td> 0.234</td> <td>   -0.427</td> <td>    1.746</td>\n",
       "</tr>\n",
       "<tr>\n",
       "  <th>What is your current occupation_other</th>                <td>    1.1785</td> <td>    0.639</td> <td>    1.845</td> <td> 0.065</td> <td>   -0.073</td> <td>    2.430</td>\n",
       "</tr>\n",
       "<tr>\n",
       "  <th>What is your current occupation_student</th>              <td>    1.0831</td> <td>    0.227</td> <td>    4.769</td> <td> 0.000</td> <td>    0.638</td> <td>    1.528</td>\n",
       "</tr>\n",
       "<tr>\n",
       "  <th>What is your current occupation_unemployed</th>           <td>    1.2353</td> <td>    0.083</td> <td>   14.847</td> <td> 0.000</td> <td>    1.072</td> <td>    1.398</td>\n",
       "</tr>\n",
       "<tr>\n",
       "  <th>What is your current occupation_working professional</th> <td>    3.7445</td> <td>    0.189</td> <td>   19.775</td> <td> 0.000</td> <td>    3.373</td> <td>    4.116</td>\n",
       "</tr>\n",
       "<tr>\n",
       "  <th>City_mumbai</th>                                          <td>    0.7359</td> <td>    0.131</td> <td>    5.608</td> <td> 0.000</td> <td>    0.479</td> <td>    0.993</td>\n",
       "</tr>\n",
       "<tr>\n",
       "  <th>City_other</th>                                           <td>    0.6908</td> <td>    0.133</td> <td>    5.185</td> <td> 0.000</td> <td>    0.430</td> <td>    0.952</td>\n",
       "</tr>\n",
       "</table>"
      ],
      "text/plain": [
       "<class 'statsmodels.iolib.summary.Summary'>\n",
       "\"\"\"\n",
       "                 Generalized Linear Model Regression Results                  \n",
       "==============================================================================\n",
       "Dep. Variable:              Converted   No. Observations:                 6372\n",
       "Model:                            GLM   Df Residuals:                     6355\n",
       "Model Family:                Binomial   Df Model:                           16\n",
       "Link Function:                  logit   Scale:                          1.0000\n",
       "Method:                          IRLS   Log-Likelihood:                -2857.7\n",
       "Date:                Mon, 07 Dec 2020   Deviance:                       5715.5\n",
       "Time:                        19:10:16   Pearson chi2:                 6.54e+03\n",
       "No. Iterations:                     7                                         \n",
       "Covariance Type:            nonrobust                                         \n",
       "========================================================================================================================\n",
       "                                                           coef    std err          z      P>|z|      [0.025      0.975]\n",
       "------------------------------------------------------------------------------------------------------------------------\n",
       "const                                                   -2.7141      0.144    -18.789      0.000      -2.997      -2.431\n",
       "Total Time Spent on Website                              1.0862      0.038     28.289      0.000       1.011       1.161\n",
       "Lead Origin_api                                          0.6649      0.130      5.105      0.000       0.410       0.920\n",
       "Lead Origin_lead add form                                4.2819      0.239     17.921      0.000       3.814       4.750\n",
       "Lead Source_olark chat                                   0.8718      0.115      7.596      0.000       0.647       1.097\n",
       "Lead Source_referral sites                              -0.4585      0.330     -1.391      0.164      -1.104       0.187\n",
       "Lead Source_welingak website                             2.1875      0.751      2.914      0.004       0.716       3.659\n",
       "Do Not Email_1                                          -1.3325      0.158     -8.424      0.000      -1.643      -1.022\n",
       "Specialization_banking, investment and insurance         0.3314      0.169      1.962      0.050       0.000       0.663\n",
       "Specialization_e-business                                0.5351      0.388      1.380      0.168      -0.225       1.295\n",
       "Specialization_services excellence                       0.6596      0.554      1.190      0.234      -0.427       1.746\n",
       "What is your current occupation_other                    1.1785      0.639      1.845      0.065      -0.073       2.430\n",
       "What is your current occupation_student                  1.0831      0.227      4.769      0.000       0.638       1.528\n",
       "What is your current occupation_unemployed               1.2353      0.083     14.847      0.000       1.072       1.398\n",
       "What is your current occupation_working professional     3.7445      0.189     19.775      0.000       3.373       4.116\n",
       "City_mumbai                                              0.7359      0.131      5.608      0.000       0.479       0.993\n",
       "City_other                                               0.6908      0.133      5.185      0.000       0.430       0.952\n",
       "========================================================================================================================\n",
       "\"\"\""
      ]
     },
     "execution_count": 276,
     "metadata": {},
     "output_type": "execute_result"
    }
   ],
   "source": [
    "X_train_sm = sm.add_constant(X_train[col])\n",
    "logm5 = sm.GLM(y_train,X_train_sm, family = sm.families.Binomial())\n",
    "res = logm5.fit()\n",
    "res.summary()"
   ]
  },
  {
   "cell_type": "code",
   "execution_count": 277,
   "metadata": {},
   "outputs": [
    {
     "data": {
      "text/plain": [
       "7962    0.702789\n",
       "5520    0.089780\n",
       "1962    0.203686\n",
       "1566    0.963744\n",
       "9170    0.289233\n",
       "5097    0.105796\n",
       "8954    0.283055\n",
       "309     0.235727\n",
       "5519    0.105796\n",
       "1050    0.604261\n",
       "dtype: float64"
      ]
     },
     "execution_count": 277,
     "metadata": {},
     "output_type": "execute_result"
    }
   ],
   "source": [
    "# Getting the predicted values on the train set\n",
    "y_train_pred = res.predict(X_train_sm)\n",
    "y_train_pred[:10]"
   ]
  },
  {
   "cell_type": "code",
   "execution_count": 278,
   "metadata": {},
   "outputs": [
    {
     "data": {
      "text/plain": [
       "array([0.70278941, 0.08978045, 0.2036862 , 0.96374438, 0.28923263,\n",
       "       0.10579577, 0.28305484, 0.2357268 , 0.10579577, 0.60426127])"
      ]
     },
     "execution_count": 278,
     "metadata": {},
     "output_type": "execute_result"
    }
   ],
   "source": [
    "y_train_pred = y_train_pred.values.reshape(-1)\n",
    "y_train_pred[:10]"
   ]
  },
  {
   "cell_type": "code",
   "execution_count": 279,
   "metadata": {},
   "outputs": [
    {
     "data": {
      "text/html": [
       "<div>\n",
       "<style scoped>\n",
       "    .dataframe tbody tr th:only-of-type {\n",
       "        vertical-align: middle;\n",
       "    }\n",
       "\n",
       "    .dataframe tbody tr th {\n",
       "        vertical-align: top;\n",
       "    }\n",
       "\n",
       "    .dataframe thead th {\n",
       "        text-align: right;\n",
       "    }\n",
       "</style>\n",
       "<table border=\"1\" class=\"dataframe\">\n",
       "  <thead>\n",
       "    <tr style=\"text-align: right;\">\n",
       "      <th></th>\n",
       "      <th>Converted</th>\n",
       "      <th>Conversion_Prob</th>\n",
       "      <th>LeadID</th>\n",
       "    </tr>\n",
       "  </thead>\n",
       "  <tbody>\n",
       "    <tr>\n",
       "      <th>0</th>\n",
       "      <td>0</td>\n",
       "      <td>0.702789</td>\n",
       "      <td>7962</td>\n",
       "    </tr>\n",
       "    <tr>\n",
       "      <th>1</th>\n",
       "      <td>0</td>\n",
       "      <td>0.089780</td>\n",
       "      <td>5520</td>\n",
       "    </tr>\n",
       "    <tr>\n",
       "      <th>2</th>\n",
       "      <td>0</td>\n",
       "      <td>0.203686</td>\n",
       "      <td>1962</td>\n",
       "    </tr>\n",
       "    <tr>\n",
       "      <th>3</th>\n",
       "      <td>1</td>\n",
       "      <td>0.963744</td>\n",
       "      <td>1566</td>\n",
       "    </tr>\n",
       "    <tr>\n",
       "      <th>4</th>\n",
       "      <td>0</td>\n",
       "      <td>0.289233</td>\n",
       "      <td>9170</td>\n",
       "    </tr>\n",
       "  </tbody>\n",
       "</table>\n",
       "</div>"
      ],
      "text/plain": [
       "   Converted  Conversion_Prob  LeadID\n",
       "0          0         0.702789    7962\n",
       "1          0         0.089780    5520\n",
       "2          0         0.203686    1962\n",
       "3          1         0.963744    1566\n",
       "4          0         0.289233    9170"
      ]
     },
     "execution_count": 279,
     "metadata": {},
     "output_type": "execute_result"
    }
   ],
   "source": [
    "y_train_pred_final = pd.DataFrame({'Converted':y_train.values, 'Conversion_Prob':y_train_pred})\n",
    "y_train_pred_final['LeadID'] = y_train.index\n",
    "y_train_pred_final.head()"
   ]
  },
  {
   "cell_type": "code",
   "execution_count": 280,
   "metadata": {},
   "outputs": [
    {
     "data": {
      "text/html": [
       "<div>\n",
       "<style scoped>\n",
       "    .dataframe tbody tr th:only-of-type {\n",
       "        vertical-align: middle;\n",
       "    }\n",
       "\n",
       "    .dataframe tbody tr th {\n",
       "        vertical-align: top;\n",
       "    }\n",
       "\n",
       "    .dataframe thead th {\n",
       "        text-align: right;\n",
       "    }\n",
       "</style>\n",
       "<table border=\"1\" class=\"dataframe\">\n",
       "  <thead>\n",
       "    <tr style=\"text-align: right;\">\n",
       "      <th></th>\n",
       "      <th>Converted</th>\n",
       "      <th>Conversion_Prob</th>\n",
       "      <th>LeadID</th>\n",
       "      <th>predicted</th>\n",
       "    </tr>\n",
       "  </thead>\n",
       "  <tbody>\n",
       "    <tr>\n",
       "      <th>0</th>\n",
       "      <td>0</td>\n",
       "      <td>0.702789</td>\n",
       "      <td>7962</td>\n",
       "      <td>1</td>\n",
       "    </tr>\n",
       "    <tr>\n",
       "      <th>1</th>\n",
       "      <td>0</td>\n",
       "      <td>0.089780</td>\n",
       "      <td>5520</td>\n",
       "      <td>0</td>\n",
       "    </tr>\n",
       "    <tr>\n",
       "      <th>2</th>\n",
       "      <td>0</td>\n",
       "      <td>0.203686</td>\n",
       "      <td>1962</td>\n",
       "      <td>0</td>\n",
       "    </tr>\n",
       "    <tr>\n",
       "      <th>3</th>\n",
       "      <td>1</td>\n",
       "      <td>0.963744</td>\n",
       "      <td>1566</td>\n",
       "      <td>1</td>\n",
       "    </tr>\n",
       "    <tr>\n",
       "      <th>4</th>\n",
       "      <td>0</td>\n",
       "      <td>0.289233</td>\n",
       "      <td>9170</td>\n",
       "      <td>0</td>\n",
       "    </tr>\n",
       "  </tbody>\n",
       "</table>\n",
       "</div>"
      ],
      "text/plain": [
       "   Converted  Conversion_Prob  LeadID  predicted\n",
       "0          0         0.702789    7962          1\n",
       "1          0         0.089780    5520          0\n",
       "2          0         0.203686    1962          0\n",
       "3          1         0.963744    1566          1\n",
       "4          0         0.289233    9170          0"
      ]
     },
     "execution_count": 280,
     "metadata": {},
     "output_type": "execute_result"
    }
   ],
   "source": [
    "y_train_pred_final['predicted'] = y_train_pred_final.Conversion_Prob.map(lambda x: 1 if x > 0.5 else 0)\n",
    "\n",
    "# Let's see the head\n",
    "y_train_pred_final.head()"
   ]
  },
  {
   "cell_type": "code",
   "execution_count": 281,
   "metadata": {},
   "outputs": [
    {
     "name": "stdout",
     "output_type": "stream",
     "text": [
      "[[3529  424]\n",
      " [ 854 1565]]\n"
     ]
    }
   ],
   "source": [
    "# Confusion matrix \n",
    "confusion = metrics.confusion_matrix(y_train_pred_final.Converted, y_train_pred_final.predicted )\n",
    "print(confusion)"
   ]
  },
  {
   "cell_type": "code",
   "execution_count": 282,
   "metadata": {},
   "outputs": [
    {
     "name": "stdout",
     "output_type": "stream",
     "text": [
      "0.7994350282485876\n"
     ]
    }
   ],
   "source": [
    "# Let's check the overall accuracy.\n",
    "print(metrics.accuracy_score(y_train_pred_final.Converted, y_train_pred_final.predicted))"
   ]
  },
  {
   "cell_type": "code",
   "execution_count": 283,
   "metadata": {},
   "outputs": [
    {
     "data": {
      "text/html": [
       "<div>\n",
       "<style scoped>\n",
       "    .dataframe tbody tr th:only-of-type {\n",
       "        vertical-align: middle;\n",
       "    }\n",
       "\n",
       "    .dataframe tbody tr th {\n",
       "        vertical-align: top;\n",
       "    }\n",
       "\n",
       "    .dataframe thead th {\n",
       "        text-align: right;\n",
       "    }\n",
       "</style>\n",
       "<table border=\"1\" class=\"dataframe\">\n",
       "  <thead>\n",
       "    <tr style=\"text-align: right;\">\n",
       "      <th></th>\n",
       "      <th>Features</th>\n",
       "      <th>VIF</th>\n",
       "    </tr>\n",
       "  </thead>\n",
       "  <tbody>\n",
       "    <tr>\n",
       "      <th>12</th>\n",
       "      <td>What is your current occupation_unemployed</td>\n",
       "      <td>3.00</td>\n",
       "    </tr>\n",
       "    <tr>\n",
       "      <th>1</th>\n",
       "      <td>Lead Origin_api</td>\n",
       "      <td>2.67</td>\n",
       "    </tr>\n",
       "    <tr>\n",
       "      <th>3</th>\n",
       "      <td>Lead Source_olark chat</td>\n",
       "      <td>2.24</td>\n",
       "    </tr>\n",
       "    <tr>\n",
       "      <th>14</th>\n",
       "      <td>City_mumbai</td>\n",
       "      <td>1.89</td>\n",
       "    </tr>\n",
       "    <tr>\n",
       "      <th>15</th>\n",
       "      <td>City_other</td>\n",
       "      <td>1.63</td>\n",
       "    </tr>\n",
       "    <tr>\n",
       "      <th>2</th>\n",
       "      <td>Lead Origin_lead add form</td>\n",
       "      <td>1.62</td>\n",
       "    </tr>\n",
       "    <tr>\n",
       "      <th>13</th>\n",
       "      <td>What is your current occupation_working profes...</td>\n",
       "      <td>1.33</td>\n",
       "    </tr>\n",
       "    <tr>\n",
       "      <th>5</th>\n",
       "      <td>Lead Source_welingak website</td>\n",
       "      <td>1.32</td>\n",
       "    </tr>\n",
       "    <tr>\n",
       "      <th>0</th>\n",
       "      <td>Total Time Spent on Website</td>\n",
       "      <td>1.30</td>\n",
       "    </tr>\n",
       "    <tr>\n",
       "      <th>6</th>\n",
       "      <td>Do Not Email_1</td>\n",
       "      <td>1.09</td>\n",
       "    </tr>\n",
       "    <tr>\n",
       "      <th>11</th>\n",
       "      <td>What is your current occupation_student</td>\n",
       "      <td>1.07</td>\n",
       "    </tr>\n",
       "    <tr>\n",
       "      <th>7</th>\n",
       "      <td>Specialization_banking, investment and insurance</td>\n",
       "      <td>1.06</td>\n",
       "    </tr>\n",
       "    <tr>\n",
       "      <th>4</th>\n",
       "      <td>Lead Source_referral sites</td>\n",
       "      <td>1.04</td>\n",
       "    </tr>\n",
       "    <tr>\n",
       "      <th>8</th>\n",
       "      <td>Specialization_e-business</td>\n",
       "      <td>1.01</td>\n",
       "    </tr>\n",
       "    <tr>\n",
       "      <th>9</th>\n",
       "      <td>Specialization_services excellence</td>\n",
       "      <td>1.01</td>\n",
       "    </tr>\n",
       "    <tr>\n",
       "      <th>10</th>\n",
       "      <td>What is your current occupation_other</td>\n",
       "      <td>1.01</td>\n",
       "    </tr>\n",
       "  </tbody>\n",
       "</table>\n",
       "</div>"
      ],
      "text/plain": [
       "                                             Features   VIF\n",
       "12         What is your current occupation_unemployed  3.00\n",
       "1                                     Lead Origin_api  2.67\n",
       "3                              Lead Source_olark chat  2.24\n",
       "14                                        City_mumbai  1.89\n",
       "15                                         City_other  1.63\n",
       "2                           Lead Origin_lead add form  1.62\n",
       "13  What is your current occupation_working profes...  1.33\n",
       "5                        Lead Source_welingak website  1.32\n",
       "0                         Total Time Spent on Website  1.30\n",
       "6                                      Do Not Email_1  1.09\n",
       "11            What is your current occupation_student  1.07\n",
       "7    Specialization_banking, investment and insurance  1.06\n",
       "4                          Lead Source_referral sites  1.04\n",
       "8                           Specialization_e-business  1.01\n",
       "9                  Specialization_services excellence  1.01\n",
       "10              What is your current occupation_other  1.01"
      ]
     },
     "execution_count": 283,
     "metadata": {},
     "output_type": "execute_result"
    }
   ],
   "source": [
    "# Create a dataframe that will contain the names of all the feature variables and their respective VIFs\n",
    "vif = pd.DataFrame()\n",
    "vif['Features'] = X_train[col].columns\n",
    "vif['VIF'] = [variance_inflation_factor(X_train[col].values, i) for i in range(X_train[col].shape[1])]\n",
    "vif['VIF'] = round(vif['VIF'], 2)\n",
    "vif = vif.sort_values(by = \"VIF\", ascending = False)\n",
    "vif"
   ]
  },
  {
   "cell_type": "code",
   "execution_count": 284,
   "metadata": {},
   "outputs": [
    {
     "data": {
      "text/plain": [
       "Index(['Total Time Spent on Website', 'Lead Origin_api',\n",
       "       'Lead Origin_lead add form', 'Lead Source_olark chat',\n",
       "       'Lead Source_welingak website', 'Do Not Email_1',\n",
       "       'Specialization_banking, investment and insurance',\n",
       "       'What is your current occupation_working professional', 'City_mumbai',\n",
       "       'City_other'],\n",
       "      dtype='object')"
      ]
     },
     "execution_count": 284,
     "metadata": {},
     "output_type": "execute_result"
    }
   ],
   "source": [
    "# Dropping columns with high VIF and high p-value\n",
    "col = col.drop('Specialization_services excellence', 1)\n",
    "col = col.drop('Specialization_e-business', 1)\n",
    "col = col.drop('Lead Source_referral sites', 1)\n",
    "col = col.drop('What is your current occupation_unemployed', 1)\n",
    "col = col.drop('What is your current occupation_other', 1)\n",
    "col = col.drop('What is your current occupation_student', 1)\n",
    "col"
   ]
  },
  {
   "cell_type": "code",
   "execution_count": 285,
   "metadata": {},
   "outputs": [
    {
     "data": {
      "text/html": [
       "<table class=\"simpletable\">\n",
       "<caption>Generalized Linear Model Regression Results</caption>\n",
       "<tr>\n",
       "  <th>Dep. Variable:</th>       <td>Converted</td>    <th>  No. Observations:  </th>  <td>  6372</td> \n",
       "</tr>\n",
       "<tr>\n",
       "  <th>Model:</th>                  <td>GLM</td>       <th>  Df Residuals:      </th>  <td>  6361</td> \n",
       "</tr>\n",
       "<tr>\n",
       "  <th>Model Family:</th>        <td>Binomial</td>     <th>  Df Model:          </th>  <td>    10</td> \n",
       "</tr>\n",
       "<tr>\n",
       "  <th>Link Function:</th>         <td>logit</td>      <th>  Scale:             </th> <td>  1.0000</td>\n",
       "</tr>\n",
       "<tr>\n",
       "  <th>Method:</th>                <td>IRLS</td>       <th>  Log-Likelihood:    </th> <td> -2983.9</td>\n",
       "</tr>\n",
       "<tr>\n",
       "  <th>Date:</th>            <td>Mon, 07 Dec 2020</td> <th>  Deviance:          </th> <td>  5967.8</td>\n",
       "</tr>\n",
       "<tr>\n",
       "  <th>Time:</th>                <td>19:10:16</td>     <th>  Pearson chi2:      </th> <td>6.80e+03</td>\n",
       "</tr>\n",
       "<tr>\n",
       "  <th>No. Iterations:</th>          <td>7</td>        <th>                     </th>     <td> </td>   \n",
       "</tr>\n",
       "<tr>\n",
       "  <th>Covariance Type:</th>     <td>nonrobust</td>    <th>                     </th>     <td> </td>   \n",
       "</tr>\n",
       "</table>\n",
       "<table class=\"simpletable\">\n",
       "<tr>\n",
       "                            <td></td>                              <th>coef</th>     <th>std err</th>      <th>z</th>      <th>P>|z|</th>  <th>[0.025</th>    <th>0.975]</th>  \n",
       "</tr>\n",
       "<tr>\n",
       "  <th>const</th>                                                <td>   -1.9583</td> <td>    0.130</td> <td>  -15.102</td> <td> 0.000</td> <td>   -2.212</td> <td>   -1.704</td>\n",
       "</tr>\n",
       "<tr>\n",
       "  <th>Total Time Spent on Website</th>                          <td>    1.0871</td> <td>    0.037</td> <td>   29.063</td> <td> 0.000</td> <td>    1.014</td> <td>    1.160</td>\n",
       "</tr>\n",
       "<tr>\n",
       "  <th>Lead Origin_api</th>                                      <td>    0.7524</td> <td>    0.128</td> <td>    5.894</td> <td> 0.000</td> <td>    0.502</td> <td>    1.003</td>\n",
       "</tr>\n",
       "<tr>\n",
       "  <th>Lead Origin_lead add form</th>                            <td>    4.6726</td> <td>    0.240</td> <td>   19.456</td> <td> 0.000</td> <td>    4.202</td> <td>    5.143</td>\n",
       "</tr>\n",
       "<tr>\n",
       "  <th>Lead Source_olark chat</th>                               <td>    0.7307</td> <td>    0.111</td> <td>    6.607</td> <td> 0.000</td> <td>    0.514</td> <td>    0.947</td>\n",
       "</tr>\n",
       "<tr>\n",
       "  <th>Lead Source_welingak website</th>                         <td>    2.2634</td> <td>    0.751</td> <td>    3.014</td> <td> 0.003</td> <td>    0.792</td> <td>    3.735</td>\n",
       "</tr>\n",
       "<tr>\n",
       "  <th>Do Not Email_1</th>                                       <td>   -1.3290</td> <td>    0.155</td> <td>   -8.569</td> <td> 0.000</td> <td>   -1.633</td> <td>   -1.025</td>\n",
       "</tr>\n",
       "<tr>\n",
       "  <th>Specialization_banking, investment and insurance</th>     <td>    0.3276</td> <td>    0.166</td> <td>    1.974</td> <td> 0.048</td> <td>    0.002</td> <td>    0.653</td>\n",
       "</tr>\n",
       "<tr>\n",
       "  <th>What is your current occupation_working professional</th> <td>    2.8251</td> <td>    0.177</td> <td>   15.926</td> <td> 0.000</td> <td>    2.477</td> <td>    3.173</td>\n",
       "</tr>\n",
       "<tr>\n",
       "  <th>City_mumbai</th>                                          <td>    0.9460</td> <td>    0.129</td> <td>    7.338</td> <td> 0.000</td> <td>    0.693</td> <td>    1.199</td>\n",
       "</tr>\n",
       "<tr>\n",
       "  <th>City_other</th>                                           <td>    0.8929</td> <td>    0.131</td> <td>    6.824</td> <td> 0.000</td> <td>    0.636</td> <td>    1.149</td>\n",
       "</tr>\n",
       "</table>"
      ],
      "text/plain": [
       "<class 'statsmodels.iolib.summary.Summary'>\n",
       "\"\"\"\n",
       "                 Generalized Linear Model Regression Results                  \n",
       "==============================================================================\n",
       "Dep. Variable:              Converted   No. Observations:                 6372\n",
       "Model:                            GLM   Df Residuals:                     6361\n",
       "Model Family:                Binomial   Df Model:                           10\n",
       "Link Function:                  logit   Scale:                          1.0000\n",
       "Method:                          IRLS   Log-Likelihood:                -2983.9\n",
       "Date:                Mon, 07 Dec 2020   Deviance:                       5967.8\n",
       "Time:                        19:10:16   Pearson chi2:                 6.80e+03\n",
       "No. Iterations:                     7                                         \n",
       "Covariance Type:            nonrobust                                         \n",
       "========================================================================================================================\n",
       "                                                           coef    std err          z      P>|z|      [0.025      0.975]\n",
       "------------------------------------------------------------------------------------------------------------------------\n",
       "const                                                   -1.9583      0.130    -15.102      0.000      -2.212      -1.704\n",
       "Total Time Spent on Website                              1.0871      0.037     29.063      0.000       1.014       1.160\n",
       "Lead Origin_api                                          0.7524      0.128      5.894      0.000       0.502       1.003\n",
       "Lead Origin_lead add form                                4.6726      0.240     19.456      0.000       4.202       5.143\n",
       "Lead Source_olark chat                                   0.7307      0.111      6.607      0.000       0.514       0.947\n",
       "Lead Source_welingak website                             2.2634      0.751      3.014      0.003       0.792       3.735\n",
       "Do Not Email_1                                          -1.3290      0.155     -8.569      0.000      -1.633      -1.025\n",
       "Specialization_banking, investment and insurance         0.3276      0.166      1.974      0.048       0.002       0.653\n",
       "What is your current occupation_working professional     2.8251      0.177     15.926      0.000       2.477       3.173\n",
       "City_mumbai                                              0.9460      0.129      7.338      0.000       0.693       1.199\n",
       "City_other                                               0.8929      0.131      6.824      0.000       0.636       1.149\n",
       "========================================================================================================================\n",
       "\"\"\""
      ]
     },
     "execution_count": 285,
     "metadata": {},
     "output_type": "execute_result"
    }
   ],
   "source": [
    "X_train_sm = sm.add_constant(X_train[col])\n",
    "logm6 = sm.GLM(y_train,X_train_sm, family = sm.families.Binomial())\n",
    "res = logm6.fit()\n",
    "res.summary()"
   ]
  },
  {
   "cell_type": "code",
   "execution_count": 286,
   "metadata": {},
   "outputs": [
    {
     "data": {
      "text/plain": [
       "7962    0.643958\n",
       "5520    0.057512\n",
       "1962    0.163375\n",
       "1566    0.965379\n",
       "9170    0.192630\n",
       "5097    0.192630\n",
       "8954    0.231670\n",
       "309     0.190617\n",
       "5519    0.192630\n",
       "1050    0.536667\n",
       "dtype: float64"
      ]
     },
     "execution_count": 286,
     "metadata": {},
     "output_type": "execute_result"
    }
   ],
   "source": [
    "# Getting the predicted values on the train set\n",
    "y_train_pred = res.predict(X_train_sm)\n",
    "y_train_pred[:10]"
   ]
  },
  {
   "cell_type": "code",
   "execution_count": 287,
   "metadata": {},
   "outputs": [
    {
     "data": {
      "text/plain": [
       "array([0.64395773, 0.05751176, 0.16337542, 0.96537859, 0.19263017,\n",
       "       0.19263017, 0.23167026, 0.19061706, 0.19263017, 0.53666744])"
      ]
     },
     "execution_count": 287,
     "metadata": {},
     "output_type": "execute_result"
    }
   ],
   "source": [
    "y_train_pred = y_train_pred.values.reshape(-1)\n",
    "y_train_pred[:10]"
   ]
  },
  {
   "cell_type": "code",
   "execution_count": 288,
   "metadata": {},
   "outputs": [
    {
     "data": {
      "text/html": [
       "<div>\n",
       "<style scoped>\n",
       "    .dataframe tbody tr th:only-of-type {\n",
       "        vertical-align: middle;\n",
       "    }\n",
       "\n",
       "    .dataframe tbody tr th {\n",
       "        vertical-align: top;\n",
       "    }\n",
       "\n",
       "    .dataframe thead th {\n",
       "        text-align: right;\n",
       "    }\n",
       "</style>\n",
       "<table border=\"1\" class=\"dataframe\">\n",
       "  <thead>\n",
       "    <tr style=\"text-align: right;\">\n",
       "      <th></th>\n",
       "      <th>Converted</th>\n",
       "      <th>Conversion_Prob</th>\n",
       "      <th>LeadID</th>\n",
       "    </tr>\n",
       "  </thead>\n",
       "  <tbody>\n",
       "    <tr>\n",
       "      <th>0</th>\n",
       "      <td>0</td>\n",
       "      <td>0.643958</td>\n",
       "      <td>7962</td>\n",
       "    </tr>\n",
       "    <tr>\n",
       "      <th>1</th>\n",
       "      <td>0</td>\n",
       "      <td>0.057512</td>\n",
       "      <td>5520</td>\n",
       "    </tr>\n",
       "    <tr>\n",
       "      <th>2</th>\n",
       "      <td>0</td>\n",
       "      <td>0.163375</td>\n",
       "      <td>1962</td>\n",
       "    </tr>\n",
       "    <tr>\n",
       "      <th>3</th>\n",
       "      <td>1</td>\n",
       "      <td>0.965379</td>\n",
       "      <td>1566</td>\n",
       "    </tr>\n",
       "    <tr>\n",
       "      <th>4</th>\n",
       "      <td>0</td>\n",
       "      <td>0.192630</td>\n",
       "      <td>9170</td>\n",
       "    </tr>\n",
       "  </tbody>\n",
       "</table>\n",
       "</div>"
      ],
      "text/plain": [
       "   Converted  Conversion_Prob  LeadID\n",
       "0          0         0.643958    7962\n",
       "1          0         0.057512    5520\n",
       "2          0         0.163375    1962\n",
       "3          1         0.965379    1566\n",
       "4          0         0.192630    9170"
      ]
     },
     "execution_count": 288,
     "metadata": {},
     "output_type": "execute_result"
    }
   ],
   "source": [
    "y_train_pred_final = pd.DataFrame({'Converted':y_train.values, 'Conversion_Prob':y_train_pred})\n",
    "y_train_pred_final['LeadID'] = y_train.index\n",
    "y_train_pred_final.head()"
   ]
  },
  {
   "cell_type": "code",
   "execution_count": 289,
   "metadata": {},
   "outputs": [
    {
     "data": {
      "text/html": [
       "<div>\n",
       "<style scoped>\n",
       "    .dataframe tbody tr th:only-of-type {\n",
       "        vertical-align: middle;\n",
       "    }\n",
       "\n",
       "    .dataframe tbody tr th {\n",
       "        vertical-align: top;\n",
       "    }\n",
       "\n",
       "    .dataframe thead th {\n",
       "        text-align: right;\n",
       "    }\n",
       "</style>\n",
       "<table border=\"1\" class=\"dataframe\">\n",
       "  <thead>\n",
       "    <tr style=\"text-align: right;\">\n",
       "      <th></th>\n",
       "      <th>Converted</th>\n",
       "      <th>Conversion_Prob</th>\n",
       "      <th>LeadID</th>\n",
       "      <th>predicted</th>\n",
       "    </tr>\n",
       "  </thead>\n",
       "  <tbody>\n",
       "    <tr>\n",
       "      <th>0</th>\n",
       "      <td>0</td>\n",
       "      <td>0.643958</td>\n",
       "      <td>7962</td>\n",
       "      <td>1</td>\n",
       "    </tr>\n",
       "    <tr>\n",
       "      <th>1</th>\n",
       "      <td>0</td>\n",
       "      <td>0.057512</td>\n",
       "      <td>5520</td>\n",
       "      <td>0</td>\n",
       "    </tr>\n",
       "    <tr>\n",
       "      <th>2</th>\n",
       "      <td>0</td>\n",
       "      <td>0.163375</td>\n",
       "      <td>1962</td>\n",
       "      <td>0</td>\n",
       "    </tr>\n",
       "    <tr>\n",
       "      <th>3</th>\n",
       "      <td>1</td>\n",
       "      <td>0.965379</td>\n",
       "      <td>1566</td>\n",
       "      <td>1</td>\n",
       "    </tr>\n",
       "    <tr>\n",
       "      <th>4</th>\n",
       "      <td>0</td>\n",
       "      <td>0.192630</td>\n",
       "      <td>9170</td>\n",
       "      <td>0</td>\n",
       "    </tr>\n",
       "  </tbody>\n",
       "</table>\n",
       "</div>"
      ],
      "text/plain": [
       "   Converted  Conversion_Prob  LeadID  predicted\n",
       "0          0         0.643958    7962          1\n",
       "1          0         0.057512    5520          0\n",
       "2          0         0.163375    1962          0\n",
       "3          1         0.965379    1566          1\n",
       "4          0         0.192630    9170          0"
      ]
     },
     "execution_count": 289,
     "metadata": {},
     "output_type": "execute_result"
    }
   ],
   "source": [
    "y_train_pred_final['predicted'] = y_train_pred_final.Conversion_Prob.map(lambda x: 1 if x > 0.5 else 0)\n",
    "\n",
    "# Let's see the head\n",
    "y_train_pred_final.head()"
   ]
  },
  {
   "cell_type": "code",
   "execution_count": 290,
   "metadata": {},
   "outputs": [
    {
     "name": "stdout",
     "output_type": "stream",
     "text": [
      "[[3471  482]\n",
      " [ 886 1533]]\n"
     ]
    }
   ],
   "source": [
    "# Confusion matrix \n",
    "confusion = metrics.confusion_matrix(y_train_pred_final.Converted, y_train_pred_final.predicted )\n",
    "print(confusion)"
   ]
  },
  {
   "cell_type": "code",
   "execution_count": 291,
   "metadata": {},
   "outputs": [
    {
     "name": "stdout",
     "output_type": "stream",
     "text": [
      "0.7853107344632768\n"
     ]
    }
   ],
   "source": [
    "# Let's check the overall accuracy.\n",
    "print(metrics.accuracy_score(y_train_pred_final.Converted, y_train_pred_final.predicted))"
   ]
  },
  {
   "cell_type": "code",
   "execution_count": 292,
   "metadata": {},
   "outputs": [
    {
     "data": {
      "text/html": [
       "<div>\n",
       "<style scoped>\n",
       "    .dataframe tbody tr th:only-of-type {\n",
       "        vertical-align: middle;\n",
       "    }\n",
       "\n",
       "    .dataframe tbody tr th {\n",
       "        vertical-align: top;\n",
       "    }\n",
       "\n",
       "    .dataframe thead th {\n",
       "        text-align: right;\n",
       "    }\n",
       "</style>\n",
       "<table border=\"1\" class=\"dataframe\">\n",
       "  <thead>\n",
       "    <tr style=\"text-align: right;\">\n",
       "      <th></th>\n",
       "      <th>Features</th>\n",
       "      <th>VIF</th>\n",
       "    </tr>\n",
       "  </thead>\n",
       "  <tbody>\n",
       "    <tr>\n",
       "      <th>3</th>\n",
       "      <td>Lead Source_olark chat</td>\n",
       "      <td>2.19</td>\n",
       "    </tr>\n",
       "    <tr>\n",
       "      <th>1</th>\n",
       "      <td>Lead Origin_api</td>\n",
       "      <td>2.01</td>\n",
       "    </tr>\n",
       "    <tr>\n",
       "      <th>2</th>\n",
       "      <td>Lead Origin_lead add form</td>\n",
       "      <td>1.47</td>\n",
       "    </tr>\n",
       "    <tr>\n",
       "      <th>4</th>\n",
       "      <td>Lead Source_welingak website</td>\n",
       "      <td>1.32</td>\n",
       "    </tr>\n",
       "    <tr>\n",
       "      <th>0</th>\n",
       "      <td>Total Time Spent on Website</td>\n",
       "      <td>1.29</td>\n",
       "    </tr>\n",
       "    <tr>\n",
       "      <th>7</th>\n",
       "      <td>What is your current occupation_working profes...</td>\n",
       "      <td>1.15</td>\n",
       "    </tr>\n",
       "    <tr>\n",
       "      <th>8</th>\n",
       "      <td>City_mumbai</td>\n",
       "      <td>1.14</td>\n",
       "    </tr>\n",
       "    <tr>\n",
       "      <th>9</th>\n",
       "      <td>City_other</td>\n",
       "      <td>1.11</td>\n",
       "    </tr>\n",
       "    <tr>\n",
       "      <th>5</th>\n",
       "      <td>Do Not Email_1</td>\n",
       "      <td>1.08</td>\n",
       "    </tr>\n",
       "    <tr>\n",
       "      <th>6</th>\n",
       "      <td>Specialization_banking, investment and insurance</td>\n",
       "      <td>1.06</td>\n",
       "    </tr>\n",
       "  </tbody>\n",
       "</table>\n",
       "</div>"
      ],
      "text/plain": [
       "                                            Features   VIF\n",
       "3                             Lead Source_olark chat  2.19\n",
       "1                                    Lead Origin_api  2.01\n",
       "2                          Lead Origin_lead add form  1.47\n",
       "4                       Lead Source_welingak website  1.32\n",
       "0                        Total Time Spent on Website  1.29\n",
       "7  What is your current occupation_working profes...  1.15\n",
       "8                                        City_mumbai  1.14\n",
       "9                                         City_other  1.11\n",
       "5                                     Do Not Email_1  1.08\n",
       "6   Specialization_banking, investment and insurance  1.06"
      ]
     },
     "execution_count": 292,
     "metadata": {},
     "output_type": "execute_result"
    }
   ],
   "source": [
    "# Create a dataframe that will contain the names of all the feature variables and their respective VIFs\n",
    "vif = pd.DataFrame()\n",
    "vif['Features'] = X_train[col].columns\n",
    "vif['VIF'] = [variance_inflation_factor(X_train[col].values, i) for i in range(X_train[col].shape[1])]\n",
    "vif['VIF'] = round(vif['VIF'], 2)\n",
    "vif = vif.sort_values(by = \"VIF\", ascending = False)\n",
    "vif"
   ]
  },
  {
   "cell_type": "markdown",
   "metadata": {},
   "source": [
    "### Calculating Metrics beyond Accuracy"
   ]
  },
  {
   "cell_type": "code",
   "execution_count": 293,
   "metadata": {},
   "outputs": [],
   "source": [
    "TP = confusion[1,1] # true positive \n",
    "TN = confusion[0,0] # true negatives\n",
    "FP = confusion[0,1] # false positives\n",
    "FN = confusion[1,0] # false negatives"
   ]
  },
  {
   "cell_type": "code",
   "execution_count": 294,
   "metadata": {},
   "outputs": [
    {
     "data": {
      "text/plain": [
       "0.6337329474989665"
      ]
     },
     "execution_count": 294,
     "metadata": {},
     "output_type": "execute_result"
    }
   ],
   "source": [
    "# Let's see the sensitivity of our logistic regression model\n",
    "TP / float(TP+FN)"
   ]
  },
  {
   "cell_type": "code",
   "execution_count": 295,
   "metadata": {},
   "outputs": [
    {
     "data": {
      "text/plain": [
       "0.8780672906653175"
      ]
     },
     "execution_count": 295,
     "metadata": {},
     "output_type": "execute_result"
    }
   ],
   "source": [
    "# Let us calculate specificity\n",
    "TN / float(TN+FP)"
   ]
  },
  {
   "cell_type": "code",
   "execution_count": 296,
   "metadata": {},
   "outputs": [
    {
     "name": "stdout",
     "output_type": "stream",
     "text": [
      "0.12193270933468252\n"
     ]
    }
   ],
   "source": [
    "# Calculate false postive rate - predicting churn when customer does not have churned\n",
    "print(FP/ float(TN+FP))"
   ]
  },
  {
   "cell_type": "code",
   "execution_count": 297,
   "metadata": {},
   "outputs": [
    {
     "name": "stdout",
     "output_type": "stream",
     "text": [
      "0.7607940446650124\n"
     ]
    }
   ],
   "source": [
    "# positive predictive value \n",
    "print (TP / float(TP+FP))"
   ]
  },
  {
   "cell_type": "code",
   "execution_count": 298,
   "metadata": {},
   "outputs": [
    {
     "name": "stdout",
     "output_type": "stream",
     "text": [
      "0.7966490704613266\n"
     ]
    }
   ],
   "source": [
    "# Negative predictive value\n",
    "print (TN / float(TN+ FN))"
   ]
  },
  {
   "cell_type": "markdown",
   "metadata": {},
   "source": [
    "### Plotting the ROC Curve"
   ]
  },
  {
   "cell_type": "markdown",
   "metadata": {},
   "source": [
    "An ROC curve demonstrates several things:\n",
    "\n",
    "- It shows the tradeoff between sensitivity and specificity (any increase in sensitivity will be accompanied by a decrease in specificity).\n",
    "- The closer the curve follows the left-hand border and then the top border of the ROC space, the more accurate the test.\n",
    "- The closer the curve comes to the 45-degree diagonal of the ROC space, the less accurate the test."
   ]
  },
  {
   "cell_type": "code",
   "execution_count": 299,
   "metadata": {},
   "outputs": [],
   "source": [
    "def draw_roc( actual, probs ):\n",
    "    fpr, tpr, thresholds = metrics.roc_curve( actual, probs,\n",
    "                                              drop_intermediate = False )\n",
    "    auc_score = metrics.roc_auc_score( actual, probs )\n",
    "    plt.figure(figsize=(5, 5))\n",
    "    plt.plot( fpr, tpr, label='ROC curve (area = %0.2f)' % auc_score )\n",
    "    plt.plot([0, 1], [0, 1], 'k--')\n",
    "    plt.xlim([0.0, 1.0])\n",
    "    plt.ylim([0.0, 1.05])\n",
    "    plt.xlabel('False Positive Rate or [1 - True Negative Rate]')\n",
    "    plt.ylabel('True Positive Rate')\n",
    "    plt.title('Receiver operating characteristic example')\n",
    "    plt.legend(loc=\"lower right\")\n",
    "    plt.show()\n",
    "\n",
    "    return fpr,tpr, thresholds"
   ]
  },
  {
   "cell_type": "code",
   "execution_count": 300,
   "metadata": {},
   "outputs": [],
   "source": [
    "\n",
    "fpr, tpr, thresholds = metrics.roc_curve( y_train_pred_final.Converted, y_train_pred_final.Conversion_Prob, drop_intermediate = False )"
   ]
  },
  {
   "cell_type": "code",
   "execution_count": 301,
   "metadata": {},
   "outputs": [
    {
     "data": {
      "image/png": "[encoded data removed]",
      "text/plain": [
       "<Figure size 360x360 with 1 Axes>"
      ]
     },
     "metadata": {},
     "output_type": "display_data"
    },
    {
     "data": {
      "text/plain": [
       "(array([0.        , 0.        , 0.        , ..., 0.99949406, 0.99974703,\n",
       "        1.        ]),\n",
       " array([0.00000000e+00, 4.13393964e-04, 8.26787929e-04, ...,\n",
       "        1.00000000e+00, 1.00000000e+00, 1.00000000e+00]),\n",
       " array([1.99955705, 0.99955705, 0.99955198, ..., 0.01802213, 0.016373  ,\n",
       "        0.01568172]))"
      ]
     },
     "execution_count": 301,
     "metadata": {},
     "output_type": "execute_result"
    }
   ],
   "source": [
    "draw_roc(y_train_pred_final.Converted, y_train_pred_final.Conversion_Prob)"
   ]
  },
  {
   "cell_type": "markdown",
   "metadata": {},
   "source": [
    "### Calculating the area under the curve(GINI)"
   ]
  },
  {
   "cell_type": "code",
   "execution_count": 302,
   "metadata": {},
   "outputs": [],
   "source": [
    "def auc_val(fpr,tpr):\n",
    "    AreaUnderCurve = 0.\n",
    "    for i in range(len(fpr)-1):\n",
    "        AreaUnderCurve += (fpr[i+1]-fpr[i]) * (tpr[i+1]+tpr[i])\n",
    "    AreaUnderCurve *= 0.5\n",
    "    return AreaUnderCurve"
   ]
  },
  {
   "cell_type": "code",
   "execution_count": 303,
   "metadata": {},
   "outputs": [
    {
     "data": {
      "text/plain": [
       "0.8368466417152294"
      ]
     },
     "execution_count": 303,
     "metadata": {},
     "output_type": "execute_result"
    }
   ],
   "source": [
    "auc = auc_val(fpr,tpr)\n",
    "auc"
   ]
  },
  {
   "cell_type": "markdown",
   "metadata": {},
   "source": [
    "## Finding Optimal Cutoff Point"
   ]
  },
  {
   "cell_type": "markdown",
   "metadata": {},
   "source": [
    "Optimal cutoff probability is that prob where we get balanced sensitivity and specificity"
   ]
  },
  {
   "cell_type": "code",
   "execution_count": 304,
   "metadata": {},
   "outputs": [
    {
     "data": {
      "text/html": [
       "<div>\n",
       "<style scoped>\n",
       "    .dataframe tbody tr th:only-of-type {\n",
       "        vertical-align: middle;\n",
       "    }\n",
       "\n",
       "    .dataframe tbody tr th {\n",
       "        vertical-align: top;\n",
       "    }\n",
       "\n",
       "    .dataframe thead th {\n",
       "        text-align: right;\n",
       "    }\n",
       "</style>\n",
       "<table border=\"1\" class=\"dataframe\">\n",
       "  <thead>\n",
       "    <tr style=\"text-align: right;\">\n",
       "      <th></th>\n",
       "      <th>Converted</th>\n",
       "      <th>Conversion_Prob</th>\n",
       "      <th>LeadID</th>\n",
       "      <th>predicted</th>\n",
       "      <th>0.0</th>\n",
       "      <th>0.1</th>\n",
       "      <th>0.2</th>\n",
       "      <th>0.3</th>\n",
       "      <th>0.4</th>\n",
       "      <th>0.5</th>\n",
       "      <th>0.6</th>\n",
       "      <th>0.7</th>\n",
       "      <th>0.8</th>\n",
       "      <th>0.9</th>\n",
       "    </tr>\n",
       "  </thead>\n",
       "  <tbody>\n",
       "    <tr>\n",
       "      <th>0</th>\n",
       "      <td>0</td>\n",
       "      <td>0.643958</td>\n",
       "      <td>7962</td>\n",
       "      <td>1</td>\n",
       "      <td>1</td>\n",
       "      <td>1</td>\n",
       "      <td>1</td>\n",
       "      <td>1</td>\n",
       "      <td>1</td>\n",
       "      <td>1</td>\n",
       "      <td>1</td>\n",
       "      <td>0</td>\n",
       "      <td>0</td>\n",
       "      <td>0</td>\n",
       "    </tr>\n",
       "    <tr>\n",
       "      <th>1</th>\n",
       "      <td>0</td>\n",
       "      <td>0.057512</td>\n",
       "      <td>5520</td>\n",
       "      <td>0</td>\n",
       "      <td>1</td>\n",
       "      <td>0</td>\n",
       "      <td>0</td>\n",
       "      <td>0</td>\n",
       "      <td>0</td>\n",
       "      <td>0</td>\n",
       "      <td>0</td>\n",
       "      <td>0</td>\n",
       "      <td>0</td>\n",
       "      <td>0</td>\n",
       "    </tr>\n",
       "    <tr>\n",
       "      <th>2</th>\n",
       "      <td>0</td>\n",
       "      <td>0.163375</td>\n",
       "      <td>1962</td>\n",
       "      <td>0</td>\n",
       "      <td>1</td>\n",
       "      <td>1</td>\n",
       "      <td>0</td>\n",
       "      <td>0</td>\n",
       "      <td>0</td>\n",
       "      <td>0</td>\n",
       "      <td>0</td>\n",
       "      <td>0</td>\n",
       "      <td>0</td>\n",
       "      <td>0</td>\n",
       "    </tr>\n",
       "    <tr>\n",
       "      <th>3</th>\n",
       "      <td>1</td>\n",
       "      <td>0.965379</td>\n",
       "      <td>1566</td>\n",
       "      <td>1</td>\n",
       "      <td>1</td>\n",
       "      <td>1</td>\n",
       "      <td>1</td>\n",
       "      <td>1</td>\n",
       "      <td>1</td>\n",
       "      <td>1</td>\n",
       "      <td>1</td>\n",
       "      <td>1</td>\n",
       "      <td>1</td>\n",
       "      <td>1</td>\n",
       "    </tr>\n",
       "    <tr>\n",
       "      <th>4</th>\n",
       "      <td>0</td>\n",
       "      <td>0.192630</td>\n",
       "      <td>9170</td>\n",
       "      <td>0</td>\n",
       "      <td>1</td>\n",
       "      <td>1</td>\n",
       "      <td>0</td>\n",
       "      <td>0</td>\n",
       "      <td>0</td>\n",
       "      <td>0</td>\n",
       "      <td>0</td>\n",
       "      <td>0</td>\n",
       "      <td>0</td>\n",
       "      <td>0</td>\n",
       "    </tr>\n",
       "  </tbody>\n",
       "</table>\n",
       "</div>"
      ],
      "text/plain": [
       "   Converted  Conversion_Prob  LeadID  predicted  0.0  0.1  0.2  0.3  0.4  \\\n",
       "0          0         0.643958    7962          1    1    1    1    1    1   \n",
       "1          0         0.057512    5520          0    1    0    0    0    0   \n",
       "2          0         0.163375    1962          0    1    1    0    0    0   \n",
       "3          1         0.965379    1566          1    1    1    1    1    1   \n",
       "4          0         0.192630    9170          0    1    1    0    0    0   \n",
       "\n",
       "   0.5  0.6  0.7  0.8  0.9  \n",
       "0    1    1    0    0    0  \n",
       "1    0    0    0    0    0  \n",
       "2    0    0    0    0    0  \n",
       "3    1    1    1    1    1  \n",
       "4    0    0    0    0    0  "
      ]
     },
     "execution_count": 304,
     "metadata": {},
     "output_type": "execute_result"
    }
   ],
   "source": [
    "# Let's create columns with different probability cutoffs \n",
    "numbers = [float(x)/10 for x in range(10)]\n",
    "for i in numbers:\n",
    "    y_train_pred_final[i]= y_train_pred_final.Conversion_Prob.map(lambda x: 1 if x > i else 0)\n",
    "y_train_pred_final.head()"
   ]
  },
  {
   "cell_type": "code",
   "execution_count": 305,
   "metadata": {},
   "outputs": [
    {
     "name": "stdout",
     "output_type": "stream",
     "text": [
      "     prob  accuracy     sensi     speci\n",
      "0.0   0.0  0.379630  1.000000  0.000000\n",
      "0.1   0.1  0.434401  0.991732  0.093347\n",
      "0.2   0.2  0.725204  0.823894  0.664812\n",
      "0.3   0.3  0.796767  0.770980  0.812547\n",
      "0.4   0.4  0.798336  0.707730  0.853782\n",
      "0.5   0.5  0.785311  0.633733  0.878067\n",
      "0.6   0.6  0.771030  0.539479  0.912725\n",
      "0.7   0.7  0.753296  0.437371  0.946623\n",
      "0.8   0.8  0.729127  0.327821  0.974703\n",
      "0.9   0.9  0.701664  0.224473  0.993676\n"
     ]
    }
   ],
   "source": [
    "# Now let's calculate accuracy sensitivity and specificity for various probability cutoffs.\n",
    "cutoff_df = pd.DataFrame( columns = ['prob','accuracy','sensi','speci'])\n",
    "from sklearn.metrics import confusion_matrix\n",
    "\n",
    "# TP = confusion[1,1] # true positive \n",
    "# TN = confusion[0,0] # true negatives\n",
    "# FP = confusion[0,1] # false positives\n",
    "# FN = confusion[1,0] # false negatives\n",
    "\n",
    "num = [0.0,0.1,0.2,0.3,0.4,0.5,0.6,0.7,0.8,0.9]\n",
    "for i in num:\n",
    "    cm1 = metrics.confusion_matrix(y_train_pred_final.Converted, y_train_pred_final[i] )\n",
    "    total1=sum(sum(cm1))\n",
    "    accuracy = (cm1[0,0]+cm1[1,1])/total1\n",
    "    \n",
    "    speci = cm1[0,0]/(cm1[0,0]+cm1[0,1])\n",
    "    sensi = cm1[1,1]/(cm1[1,0]+cm1[1,1])\n",
    "    cutoff_df.loc[i] =[ i ,accuracy,sensi,speci]\n",
    "print(cutoff_df)"
   ]
  },
  {
   "cell_type": "markdown",
   "metadata": {},
   "source": [
    "### Let's plot accuracy sensitivity and specificity for various probabilities."
   ]
  },
  {
   "cell_type": "code",
   "execution_count": 306,
   "metadata": {},
   "outputs": [
    {
     "data": {
      "image/png": "[encoded data removed]",
      "text/plain": [
       "<Figure size 720x432 with 1 Axes>"
      ]
     },
     "metadata": {},
     "output_type": "display_data"
    }
   ],
   "source": [
    "# Slightly alter the figure size to make it more horizontal.\n",
    "\n",
    "#plt.figure(figsize=(10, 8), dpi=80, facecolor='w', edgecolor='k', frameon='True')\n",
    "sns.set_style(\"whitegrid\") # white/whitegrid/dark/ticks\n",
    "sns.set_context(\"paper\") # talk/poster\n",
    "cutoff_df.plot.line(x='prob', y=['accuracy','sensi','speci'], figsize=(10,6))\n",
    "# plot x axis limits\n",
    "plt.xticks(np.arange(0, 1, step=0.05), size = 12)\n",
    "plt.yticks(size = 12)\n",
    "plt.show()"
   ]
  },
  {
   "cell_type": "markdown",
   "metadata": {},
   "source": [
    "#### From the curve above, around 0.29 is the optimum point to take it as a cutoff probability."
   ]
  },
  {
   "cell_type": "code",
   "execution_count": 307,
   "metadata": {},
   "outputs": [
    {
     "data": {
      "text/html": [
       "<div>\n",
       "<style scoped>\n",
       "    .dataframe tbody tr th:only-of-type {\n",
       "        vertical-align: middle;\n",
       "    }\n",
       "\n",
       "    .dataframe tbody tr th {\n",
       "        vertical-align: top;\n",
       "    }\n",
       "\n",
       "    .dataframe thead th {\n",
       "        text-align: right;\n",
       "    }\n",
       "</style>\n",
       "<table border=\"1\" class=\"dataframe\">\n",
       "  <thead>\n",
       "    <tr style=\"text-align: right;\">\n",
       "      <th></th>\n",
       "      <th>Converted</th>\n",
       "      <th>Conversion_Prob</th>\n",
       "      <th>LeadID</th>\n",
       "      <th>predicted</th>\n",
       "      <th>0.0</th>\n",
       "      <th>0.1</th>\n",
       "      <th>0.2</th>\n",
       "      <th>0.3</th>\n",
       "      <th>0.4</th>\n",
       "      <th>0.5</th>\n",
       "      <th>0.6</th>\n",
       "      <th>0.7</th>\n",
       "      <th>0.8</th>\n",
       "      <th>0.9</th>\n",
       "      <th>final_predicted</th>\n",
       "    </tr>\n",
       "  </thead>\n",
       "  <tbody>\n",
       "    <tr>\n",
       "      <th>0</th>\n",
       "      <td>0</td>\n",
       "      <td>0.643958</td>\n",
       "      <td>7962</td>\n",
       "      <td>1</td>\n",
       "      <td>1</td>\n",
       "      <td>1</td>\n",
       "      <td>1</td>\n",
       "      <td>1</td>\n",
       "      <td>1</td>\n",
       "      <td>1</td>\n",
       "      <td>1</td>\n",
       "      <td>0</td>\n",
       "      <td>0</td>\n",
       "      <td>0</td>\n",
       "      <td>1</td>\n",
       "    </tr>\n",
       "    <tr>\n",
       "      <th>1</th>\n",
       "      <td>0</td>\n",
       "      <td>0.057512</td>\n",
       "      <td>5520</td>\n",
       "      <td>0</td>\n",
       "      <td>1</td>\n",
       "      <td>0</td>\n",
       "      <td>0</td>\n",
       "      <td>0</td>\n",
       "      <td>0</td>\n",
       "      <td>0</td>\n",
       "      <td>0</td>\n",
       "      <td>0</td>\n",
       "      <td>0</td>\n",
       "      <td>0</td>\n",
       "      <td>0</td>\n",
       "    </tr>\n",
       "    <tr>\n",
       "      <th>2</th>\n",
       "      <td>0</td>\n",
       "      <td>0.163375</td>\n",
       "      <td>1962</td>\n",
       "      <td>0</td>\n",
       "      <td>1</td>\n",
       "      <td>1</td>\n",
       "      <td>0</td>\n",
       "      <td>0</td>\n",
       "      <td>0</td>\n",
       "      <td>0</td>\n",
       "      <td>0</td>\n",
       "      <td>0</td>\n",
       "      <td>0</td>\n",
       "      <td>0</td>\n",
       "      <td>0</td>\n",
       "    </tr>\n",
       "    <tr>\n",
       "      <th>3</th>\n",
       "      <td>1</td>\n",
       "      <td>0.965379</td>\n",
       "      <td>1566</td>\n",
       "      <td>1</td>\n",
       "      <td>1</td>\n",
       "      <td>1</td>\n",
       "      <td>1</td>\n",
       "      <td>1</td>\n",
       "      <td>1</td>\n",
       "      <td>1</td>\n",
       "      <td>1</td>\n",
       "      <td>1</td>\n",
       "      <td>1</td>\n",
       "      <td>1</td>\n",
       "      <td>1</td>\n",
       "    </tr>\n",
       "    <tr>\n",
       "      <th>4</th>\n",
       "      <td>0</td>\n",
       "      <td>0.192630</td>\n",
       "      <td>9170</td>\n",
       "      <td>0</td>\n",
       "      <td>1</td>\n",
       "      <td>1</td>\n",
       "      <td>0</td>\n",
       "      <td>0</td>\n",
       "      <td>0</td>\n",
       "      <td>0</td>\n",
       "      <td>0</td>\n",
       "      <td>0</td>\n",
       "      <td>0</td>\n",
       "      <td>0</td>\n",
       "      <td>0</td>\n",
       "    </tr>\n",
       "  </tbody>\n",
       "</table>\n",
       "</div>"
      ],
      "text/plain": [
       "   Converted  Conversion_Prob  LeadID  predicted  0.0  0.1  0.2  0.3  0.4  \\\n",
       "0          0         0.643958    7962          1    1    1    1    1    1   \n",
       "1          0         0.057512    5520          0    1    0    0    0    0   \n",
       "2          0         0.163375    1962          0    1    1    0    0    0   \n",
       "3          1         0.965379    1566          1    1    1    1    1    1   \n",
       "4          0         0.192630    9170          0    1    1    0    0    0   \n",
       "\n",
       "   0.5  0.6  0.7  0.8  0.9  final_predicted  \n",
       "0    1    1    0    0    0                1  \n",
       "1    0    0    0    0    0                0  \n",
       "2    0    0    0    0    0                0  \n",
       "3    1    1    1    1    1                1  \n",
       "4    0    0    0    0    0                0  "
      ]
     },
     "execution_count": 307,
     "metadata": {},
     "output_type": "execute_result"
    }
   ],
   "source": [
    "y_train_pred_final['final_predicted'] = y_train_pred_final.Conversion_Prob.map( lambda x: 1 if x > 0.29 else 0)\n",
    "y_train_pred_final.head()"
   ]
  },
  {
   "cell_type": "code",
   "execution_count": 308,
   "metadata": {},
   "outputs": [
    {
     "data": {
      "text/plain": [
       "0.7940991839296924"
      ]
     },
     "execution_count": 308,
     "metadata": {},
     "output_type": "execute_result"
    }
   ],
   "source": [
    "# Let's check the overall accuracy.\n",
    "metrics.accuracy_score(y_train_pred_final.Converted, y_train_pred_final.final_predicted)"
   ]
  },
  {
   "cell_type": "code",
   "execution_count": 309,
   "metadata": {},
   "outputs": [
    {
     "data": {
      "text/plain": [
       "array([[3186,  767],\n",
       "       [ 545, 1874]], dtype=int64)"
      ]
     },
     "execution_count": 309,
     "metadata": {},
     "output_type": "execute_result"
    }
   ],
   "source": [
    "confusion1 = metrics.confusion_matrix(y_train_pred_final.Converted, y_train_pred_final.final_predicted)\n",
    "confusion1"
   ]
  },
  {
   "cell_type": "code",
   "execution_count": 310,
   "metadata": {},
   "outputs": [],
   "source": [
    "\n",
    "TP = confusion1[1,1] # true positive \n",
    "TN = confusion1[0,0] # true negatives\n",
    "FP = confusion1[0,1] # false positives\n",
    "FN = confusion1[1,0] # false negatives"
   ]
  },
  {
   "cell_type": "code",
   "execution_count": 311,
   "metadata": {},
   "outputs": [
    {
     "data": {
      "text/plain": [
       "0.7747002893757751"
      ]
     },
     "execution_count": 311,
     "metadata": {},
     "output_type": "execute_result"
    }
   ],
   "source": [
    "# Let's see the sensitivity of our logistic regression model\n",
    "TP / float(TP+FN)"
   ]
  },
  {
   "cell_type": "code",
   "execution_count": 312,
   "metadata": {},
   "outputs": [
    {
     "data": {
      "text/plain": [
       "0.8059701492537313"
      ]
     },
     "execution_count": 312,
     "metadata": {},
     "output_type": "execute_result"
    }
   ],
   "source": [
    "# Let us calculate specificity\n",
    "TN / float(TN+FP)"
   ]
  },
  {
   "cell_type": "code",
   "execution_count": 313,
   "metadata": {},
   "outputs": [
    {
     "name": "stdout",
     "output_type": "stream",
     "text": [
      "0.19402985074626866\n"
     ]
    }
   ],
   "source": [
    "# Calculate false postive rate - predicting churn when customer does not have churned\n",
    "print(FP/ float(TN+FP))"
   ]
  },
  {
   "cell_type": "code",
   "execution_count": 314,
   "metadata": {},
   "outputs": [
    {
     "name": "stdout",
     "output_type": "stream",
     "text": [
      "0.8539265612436344\n"
     ]
    }
   ],
   "source": [
    "# Negative predictive value\n",
    "print (TN / float(TN+ FN))"
   ]
  },
  {
   "cell_type": "markdown",
   "metadata": {},
   "source": [
    "### Precision and Recall"
   ]
  },
  {
   "cell_type": "markdown",
   "metadata": {},
   "source": [
    "#### Precision                                  \n",
    "TP / TP + FP"
   ]
  },
  {
   "cell_type": "code",
   "execution_count": 315,
   "metadata": {},
   "outputs": [
    {
     "data": {
      "text/plain": [
       "0.7095797046573268"
      ]
     },
     "execution_count": 315,
     "metadata": {},
     "output_type": "execute_result"
    }
   ],
   "source": [
    "precision = confusion1[1,1]/(confusion1[0,1]+confusion1[1,1])\n",
    "precision"
   ]
  },
  {
   "cell_type": "markdown",
   "metadata": {},
   "source": [
    "#### Recall                                  \n",
    "TP / TP + FN"
   ]
  },
  {
   "cell_type": "code",
   "execution_count": 316,
   "metadata": {},
   "outputs": [
    {
     "data": {
      "text/plain": [
       "0.7747002893757751"
      ]
     },
     "execution_count": 316,
     "metadata": {},
     "output_type": "execute_result"
    }
   ],
   "source": [
    "recall = confusion1[1,1]/(confusion1[1,0]+confusion1[1,1])\n",
    "recall"
   ]
  },
  {
   "cell_type": "markdown",
   "metadata": {},
   "source": [
    "#### Using sklearn utilities for the same"
   ]
  },
  {
   "cell_type": "code",
   "execution_count": 317,
   "metadata": {},
   "outputs": [],
   "source": [
    "from sklearn.metrics import precision_score, recall_score"
   ]
  },
  {
   "cell_type": "code",
   "execution_count": 318,
   "metadata": {},
   "outputs": [
    {
     "data": {
      "text/plain": [
       "0.7095797046573268"
      ]
     },
     "execution_count": 318,
     "metadata": {},
     "output_type": "execute_result"
    }
   ],
   "source": [
    "precision_score(y_train_pred_final.Converted, y_train_pred_final.final_predicted)"
   ]
  },
  {
   "cell_type": "code",
   "execution_count": 319,
   "metadata": {},
   "outputs": [
    {
     "data": {
      "text/plain": [
       "0.7747002893757751"
      ]
     },
     "execution_count": 319,
     "metadata": {},
     "output_type": "execute_result"
    }
   ],
   "source": [
    "recall_score(y_train_pred_final.Converted, y_train_pred_final.final_predicted)"
   ]
  },
  {
   "cell_type": "markdown",
   "metadata": {},
   "source": [
    "### Precision and recall tradeoff"
   ]
  },
  {
   "cell_type": "code",
   "execution_count": 320,
   "metadata": {},
   "outputs": [],
   "source": [
    "from sklearn.metrics import precision_recall_curve"
   ]
  },
  {
   "cell_type": "code",
   "execution_count": 321,
   "metadata": {},
   "outputs": [
    {
     "data": {
      "text/plain": [
       "(0       0\n",
       " 1       0\n",
       " 2       0\n",
       " 3       1\n",
       " 4       0\n",
       "        ..\n",
       " 6367    0\n",
       " 6368    1\n",
       " 6369    1\n",
       " 6370    1\n",
       " 6371    0\n",
       " Name: Converted, Length: 6372, dtype: int64,\n",
       " 0       1\n",
       " 1       0\n",
       " 2       0\n",
       " 3       1\n",
       " 4       0\n",
       "        ..\n",
       " 6367    1\n",
       " 6368    1\n",
       " 6369    1\n",
       " 6370    1\n",
       " 6371    0\n",
       " Name: final_predicted, Length: 6372, dtype: int64)"
      ]
     },
     "execution_count": 321,
     "metadata": {},
     "output_type": "execute_result"
    }
   ],
   "source": [
    "y_train_pred_final.Converted, y_train_pred_final.final_predicted"
   ]
  },
  {
   "cell_type": "code",
   "execution_count": 322,
   "metadata": {},
   "outputs": [],
   "source": [
    "p, r, thresholds = precision_recall_curve(y_train_pred_final.Converted, y_train_pred_final.Conversion_Prob)"
   ]
  },
  {
   "cell_type": "code",
   "execution_count": 323,
   "metadata": {},
   "outputs": [
    {
     "data": {
      "image/png": "[encoded data removed]",
      "text/plain": [
       "<Figure size 800x400 with 1 Axes>"
      ]
     },
     "metadata": {},
     "output_type": "display_data"
    }
   ],
   "source": [
    "# Slightly alter the figure size to make it more horizontal.\n",
    "plt.figure(figsize=(8, 4), dpi=100, facecolor='w', edgecolor='k', frameon='True')\n",
    "plt.plot(thresholds, p[:-1], \"g-\")\n",
    "plt.plot(thresholds, r[:-1], \"r-\")\n",
    "plt.xticks(np.arange(0, 1, step=0.05))\n",
    "plt.show()"
   ]
  },
  {
   "cell_type": "markdown",
   "metadata": {},
   "source": [
    "#### From the precision-recall graph above, we get the optical threshold value as close to 0.37. However our business requirement here is to have Lead Conversion Rate around 80%.                                                             \n",
    "This is already achieved with our earlier threshold value of 0.29. So we will stick to this value."
   ]
  },
  {
   "cell_type": "markdown",
   "metadata": {},
   "source": [
    "### Calculating the F1 score\n",
    "##### F1 = 2×(Precision*Recall)/(Precision+Recall)"
   ]
  },
  {
   "cell_type": "code",
   "execution_count": 324,
   "metadata": {},
   "outputs": [
    {
     "data": {
      "text/plain": [
       "0.7407114624505928"
      ]
     },
     "execution_count": 324,
     "metadata": {},
     "output_type": "execute_result"
    }
   ],
   "source": [
    "F1 = 2*(precision*recall)/(precision+recall)\n",
    "F1"
   ]
  },
  {
   "cell_type": "markdown",
   "metadata": {},
   "source": [
    "## Making predictions on the test set"
   ]
  },
  {
   "cell_type": "markdown",
   "metadata": {},
   "source": [
    "#### Using the scaler function from the train dataset to transfor the test dataset"
   ]
  },
  {
   "cell_type": "code",
   "execution_count": 325,
   "metadata": {},
   "outputs": [
    {
     "data": {
      "text/html": [
       "<div>\n",
       "<style scoped>\n",
       "    .dataframe tbody tr th:only-of-type {\n",
       "        vertical-align: middle;\n",
       "    }\n",
       "\n",
       "    .dataframe tbody tr th {\n",
       "        vertical-align: top;\n",
       "    }\n",
       "\n",
       "    .dataframe thead th {\n",
       "        text-align: right;\n",
       "    }\n",
       "</style>\n",
       "<table border=\"1\" class=\"dataframe\">\n",
       "  <thead>\n",
       "    <tr style=\"text-align: right;\">\n",
       "      <th></th>\n",
       "      <th>TotalVisits</th>\n",
       "      <th>Total Time Spent on Website</th>\n",
       "      <th>Page Views Per Visit</th>\n",
       "      <th>Lead Origin_api</th>\n",
       "      <th>Lead Origin_landing page submission</th>\n",
       "      <th>Lead Origin_lead add form</th>\n",
       "      <th>Lead Source_direct traffic</th>\n",
       "      <th>Lead Source_google</th>\n",
       "      <th>Lead Source_olark chat</th>\n",
       "      <th>Lead Source_organic search</th>\n",
       "      <th>...</th>\n",
       "      <th>What is your current occupation_other</th>\n",
       "      <th>What is your current occupation_student</th>\n",
       "      <th>What is your current occupation_unemployed</th>\n",
       "      <th>What is your current occupation_working professional</th>\n",
       "      <th>What matters most to you in choosing a course_better career prospects</th>\n",
       "      <th>What matters most to you in choosing a course_flexibility &amp; convenience</th>\n",
       "      <th>What matters most to you in choosing a course_other</th>\n",
       "      <th>City_mumbai</th>\n",
       "      <th>City_other</th>\n",
       "      <th>A free copy of Mastering The Interview_1</th>\n",
       "    </tr>\n",
       "  </thead>\n",
       "  <tbody>\n",
       "    <tr>\n",
       "      <th>3504</th>\n",
       "      <td>-0.093595</td>\n",
       "      <td>-0.103815</td>\n",
       "      <td>0.350503</td>\n",
       "      <td>0</td>\n",
       "      <td>1</td>\n",
       "      <td>0</td>\n",
       "      <td>0</td>\n",
       "      <td>0</td>\n",
       "      <td>0</td>\n",
       "      <td>1</td>\n",
       "      <td>...</td>\n",
       "      <td>0</td>\n",
       "      <td>0</td>\n",
       "      <td>1</td>\n",
       "      <td>0</td>\n",
       "      <td>1</td>\n",
       "      <td>0</td>\n",
       "      <td>0</td>\n",
       "      <td>1</td>\n",
       "      <td>0</td>\n",
       "      <td>1</td>\n",
       "    </tr>\n",
       "    <tr>\n",
       "      <th>4050</th>\n",
       "      <td>-1.073959</td>\n",
       "      <td>-0.881052</td>\n",
       "      <td>-1.194977</td>\n",
       "      <td>0</td>\n",
       "      <td>0</td>\n",
       "      <td>1</td>\n",
       "      <td>0</td>\n",
       "      <td>0</td>\n",
       "      <td>0</td>\n",
       "      <td>0</td>\n",
       "      <td>...</td>\n",
       "      <td>0</td>\n",
       "      <td>0</td>\n",
       "      <td>1</td>\n",
       "      <td>0</td>\n",
       "      <td>1</td>\n",
       "      <td>0</td>\n",
       "      <td>0</td>\n",
       "      <td>0</td>\n",
       "      <td>1</td>\n",
       "      <td>0</td>\n",
       "    </tr>\n",
       "    <tr>\n",
       "      <th>7201</th>\n",
       "      <td>-0.420383</td>\n",
       "      <td>0.424120</td>\n",
       "      <td>-0.164657</td>\n",
       "      <td>0</td>\n",
       "      <td>1</td>\n",
       "      <td>0</td>\n",
       "      <td>1</td>\n",
       "      <td>0</td>\n",
       "      <td>0</td>\n",
       "      <td>0</td>\n",
       "      <td>...</td>\n",
       "      <td>0</td>\n",
       "      <td>0</td>\n",
       "      <td>1</td>\n",
       "      <td>0</td>\n",
       "      <td>1</td>\n",
       "      <td>0</td>\n",
       "      <td>0</td>\n",
       "      <td>1</td>\n",
       "      <td>0</td>\n",
       "      <td>1</td>\n",
       "    </tr>\n",
       "    <tr>\n",
       "      <th>1196</th>\n",
       "      <td>0.233193</td>\n",
       "      <td>-0.105648</td>\n",
       "      <td>0.865663</td>\n",
       "      <td>0</td>\n",
       "      <td>1</td>\n",
       "      <td>0</td>\n",
       "      <td>0</td>\n",
       "      <td>0</td>\n",
       "      <td>0</td>\n",
       "      <td>1</td>\n",
       "      <td>...</td>\n",
       "      <td>0</td>\n",
       "      <td>0</td>\n",
       "      <td>1</td>\n",
       "      <td>0</td>\n",
       "      <td>1</td>\n",
       "      <td>0</td>\n",
       "      <td>0</td>\n",
       "      <td>0</td>\n",
       "      <td>1</td>\n",
       "      <td>1</td>\n",
       "    </tr>\n",
       "    <tr>\n",
       "      <th>8219</th>\n",
       "      <td>1.213557</td>\n",
       "      <td>-0.428274</td>\n",
       "      <td>-0.293447</td>\n",
       "      <td>0</td>\n",
       "      <td>1</td>\n",
       "      <td>0</td>\n",
       "      <td>1</td>\n",
       "      <td>0</td>\n",
       "      <td>0</td>\n",
       "      <td>0</td>\n",
       "      <td>...</td>\n",
       "      <td>0</td>\n",
       "      <td>0</td>\n",
       "      <td>1</td>\n",
       "      <td>0</td>\n",
       "      <td>1</td>\n",
       "      <td>0</td>\n",
       "      <td>0</td>\n",
       "      <td>0</td>\n",
       "      <td>1</td>\n",
       "      <td>1</td>\n",
       "    </tr>\n",
       "  </tbody>\n",
       "</table>\n",
       "<p>5 rows × 37 columns</p>\n",
       "</div>"
      ],
      "text/plain": [
       "      TotalVisits  Total Time Spent on Website  Page Views Per Visit  \\\n",
       "3504    -0.093595                    -0.103815              0.350503   \n",
       "4050    -1.073959                    -0.881052             -1.194977   \n",
       "7201    -0.420383                     0.424120             -0.164657   \n",
       "1196     0.233193                    -0.105648              0.865663   \n",
       "8219     1.213557                    -0.428274             -0.293447   \n",
       "\n",
       "      Lead Origin_api  Lead Origin_landing page submission  \\\n",
       "3504                0                                    1   \n",
       "4050                0                                    0   \n",
       "7201                0                                    1   \n",
       "1196                0                                    1   \n",
       "8219                0                                    1   \n",
       "\n",
       "      Lead Origin_lead add form  Lead Source_direct traffic  \\\n",
       "3504                          0                           0   \n",
       "4050                          1                           0   \n",
       "7201                          0                           1   \n",
       "1196                          0                           0   \n",
       "8219                          0                           1   \n",
       "\n",
       "      Lead Source_google  Lead Source_olark chat  Lead Source_organic search  \\\n",
       "3504                   0                       0                           1   \n",
       "4050                   0                       0                           0   \n",
       "7201                   0                       0                           0   \n",
       "1196                   0                       0                           1   \n",
       "8219                   0                       0                           0   \n",
       "\n",
       "      ...  What is your current occupation_other  \\\n",
       "3504  ...                                      0   \n",
       "4050  ...                                      0   \n",
       "7201  ...                                      0   \n",
       "1196  ...                                      0   \n",
       "8219  ...                                      0   \n",
       "\n",
       "      What is your current occupation_student  \\\n",
       "3504                                        0   \n",
       "4050                                        0   \n",
       "7201                                        0   \n",
       "1196                                        0   \n",
       "8219                                        0   \n",
       "\n",
       "      What is your current occupation_unemployed  \\\n",
       "3504                                           1   \n",
       "4050                                           1   \n",
       "7201                                           1   \n",
       "1196                                           1   \n",
       "8219                                           1   \n",
       "\n",
       "      What is your current occupation_working professional  \\\n",
       "3504                                                  0      \n",
       "4050                                                  0      \n",
       "7201                                                  0      \n",
       "1196                                                  0      \n",
       "8219                                                  0      \n",
       "\n",
       "      What matters most to you in choosing a course_better career prospects  \\\n",
       "3504                                                  1                       \n",
       "4050                                                  1                       \n",
       "7201                                                  1                       \n",
       "1196                                                  1                       \n",
       "8219                                                  1                       \n",
       "\n",
       "      What matters most to you in choosing a course_flexibility & convenience  \\\n",
       "3504                                                  0                         \n",
       "4050                                                  0                         \n",
       "7201                                                  0                         \n",
       "1196                                                  0                         \n",
       "8219                                                  0                         \n",
       "\n",
       "      What matters most to you in choosing a course_other  City_mumbai  \\\n",
       "3504                                                  0              1   \n",
       "4050                                                  0              0   \n",
       "7201                                                  0              1   \n",
       "1196                                                  0              0   \n",
       "8219                                                  0              0   \n",
       "\n",
       "      City_other  A free copy of Mastering The Interview_1  \n",
       "3504           0                                         1  \n",
       "4050           1                                         0  \n",
       "7201           0                                         1  \n",
       "1196           1                                         1  \n",
       "8219           1                                         1  \n",
       "\n",
       "[5 rows x 37 columns]"
      ]
     },
     "execution_count": 325,
     "metadata": {},
     "output_type": "execute_result"
    }
   ],
   "source": [
    "X_test[['TotalVisits','Total Time Spent on Website','Page Views Per Visit']] = scaler.transform(X_test[['TotalVisits','Total Time Spent on Website','Page Views Per Visit']])\n",
    "X_test.head()"
   ]
  },
  {
   "cell_type": "code",
   "execution_count": 326,
   "metadata": {},
   "outputs": [
    {
     "data": {
      "text/html": [
       "<div>\n",
       "<style scoped>\n",
       "    .dataframe tbody tr th:only-of-type {\n",
       "        vertical-align: middle;\n",
       "    }\n",
       "\n",
       "    .dataframe tbody tr th {\n",
       "        vertical-align: top;\n",
       "    }\n",
       "\n",
       "    .dataframe thead th {\n",
       "        text-align: right;\n",
       "    }\n",
       "</style>\n",
       "<table border=\"1\" class=\"dataframe\">\n",
       "  <thead>\n",
       "    <tr style=\"text-align: right;\">\n",
       "      <th></th>\n",
       "      <th>Total Time Spent on Website</th>\n",
       "      <th>Lead Origin_api</th>\n",
       "      <th>Lead Origin_lead add form</th>\n",
       "      <th>Lead Source_olark chat</th>\n",
       "      <th>Lead Source_welingak website</th>\n",
       "      <th>Do Not Email_1</th>\n",
       "      <th>Specialization_banking, investment and insurance</th>\n",
       "      <th>What is your current occupation_working professional</th>\n",
       "      <th>City_mumbai</th>\n",
       "      <th>City_other</th>\n",
       "    </tr>\n",
       "  </thead>\n",
       "  <tbody>\n",
       "    <tr>\n",
       "      <th>3504</th>\n",
       "      <td>-0.103815</td>\n",
       "      <td>0</td>\n",
       "      <td>0</td>\n",
       "      <td>0</td>\n",
       "      <td>0</td>\n",
       "      <td>0</td>\n",
       "      <td>0</td>\n",
       "      <td>0</td>\n",
       "      <td>1</td>\n",
       "      <td>0</td>\n",
       "    </tr>\n",
       "    <tr>\n",
       "      <th>4050</th>\n",
       "      <td>-0.881052</td>\n",
       "      <td>0</td>\n",
       "      <td>1</td>\n",
       "      <td>0</td>\n",
       "      <td>0</td>\n",
       "      <td>0</td>\n",
       "      <td>0</td>\n",
       "      <td>0</td>\n",
       "      <td>0</td>\n",
       "      <td>1</td>\n",
       "    </tr>\n",
       "    <tr>\n",
       "      <th>7201</th>\n",
       "      <td>0.424120</td>\n",
       "      <td>0</td>\n",
       "      <td>0</td>\n",
       "      <td>0</td>\n",
       "      <td>0</td>\n",
       "      <td>1</td>\n",
       "      <td>0</td>\n",
       "      <td>0</td>\n",
       "      <td>1</td>\n",
       "      <td>0</td>\n",
       "    </tr>\n",
       "    <tr>\n",
       "      <th>1196</th>\n",
       "      <td>-0.105648</td>\n",
       "      <td>0</td>\n",
       "      <td>0</td>\n",
       "      <td>0</td>\n",
       "      <td>0</td>\n",
       "      <td>0</td>\n",
       "      <td>0</td>\n",
       "      <td>0</td>\n",
       "      <td>0</td>\n",
       "      <td>1</td>\n",
       "    </tr>\n",
       "    <tr>\n",
       "      <th>8219</th>\n",
       "      <td>-0.428274</td>\n",
       "      <td>0</td>\n",
       "      <td>0</td>\n",
       "      <td>0</td>\n",
       "      <td>0</td>\n",
       "      <td>0</td>\n",
       "      <td>0</td>\n",
       "      <td>0</td>\n",
       "      <td>0</td>\n",
       "      <td>1</td>\n",
       "    </tr>\n",
       "  </tbody>\n",
       "</table>\n",
       "</div>"
      ],
      "text/plain": [
       "      Total Time Spent on Website  Lead Origin_api  Lead Origin_lead add form  \\\n",
       "3504                    -0.103815                0                          0   \n",
       "4050                    -0.881052                0                          1   \n",
       "7201                     0.424120                0                          0   \n",
       "1196                    -0.105648                0                          0   \n",
       "8219                    -0.428274                0                          0   \n",
       "\n",
       "      Lead Source_olark chat  Lead Source_welingak website  Do Not Email_1  \\\n",
       "3504                       0                             0               0   \n",
       "4050                       0                             0               0   \n",
       "7201                       0                             0               1   \n",
       "1196                       0                             0               0   \n",
       "8219                       0                             0               0   \n",
       "\n",
       "      Specialization_banking, investment and insurance  \\\n",
       "3504                                                 0   \n",
       "4050                                                 0   \n",
       "7201                                                 0   \n",
       "1196                                                 0   \n",
       "8219                                                 0   \n",
       "\n",
       "      What is your current occupation_working professional  City_mumbai  \\\n",
       "3504                                                  0               1   \n",
       "4050                                                  0               0   \n",
       "7201                                                  0               1   \n",
       "1196                                                  0               0   \n",
       "8219                                                  0               0   \n",
       "\n",
       "      City_other  \n",
       "3504           0  \n",
       "4050           1  \n",
       "7201           0  \n",
       "1196           1  \n",
       "8219           1  "
      ]
     },
     "execution_count": 326,
     "metadata": {},
     "output_type": "execute_result"
    }
   ],
   "source": [
    "X_test = X_test[col]\n",
    "X_test.head()"
   ]
  },
  {
   "cell_type": "markdown",
   "metadata": {},
   "source": [
    "### Adding a constant"
   ]
  },
  {
   "cell_type": "code",
   "execution_count": 327,
   "metadata": {},
   "outputs": [],
   "source": [
    "X_test_sm = sm.add_constant(X_test)"
   ]
  },
  {
   "cell_type": "markdown",
   "metadata": {},
   "source": [
    "#### Making predictions on the test set"
   ]
  },
  {
   "cell_type": "code",
   "execution_count": 328,
   "metadata": {},
   "outputs": [],
   "source": [
    "y_test_pred = res.predict(X_test_sm)"
   ]
  },
  {
   "cell_type": "code",
   "execution_count": 329,
   "metadata": {},
   "outputs": [
    {
     "data": {
      "text/plain": [
       "3504    0.245053\n",
       "4050    0.933972\n",
       "7201    0.132363\n",
       "1196    0.235009\n",
       "8219    0.177852\n",
       "8747    0.192630\n",
       "9048    0.490684\n",
       "6524    0.164194\n",
       "7693    0.047149\n",
       "8187    0.852765\n",
       "dtype: float64"
      ]
     },
     "execution_count": 329,
     "metadata": {},
     "output_type": "execute_result"
    }
   ],
   "source": [
    "y_test_pred[:10]"
   ]
  },
  {
   "cell_type": "code",
   "execution_count": 330,
   "metadata": {},
   "outputs": [],
   "source": [
    "# Converting y_pred to a dataframe which is an array\n",
    "y_pred_1 = pd.DataFrame(y_test_pred)"
   ]
  },
  {
   "cell_type": "code",
   "execution_count": 331,
   "metadata": {},
   "outputs": [
    {
     "data": {
      "text/html": [
       "<div>\n",
       "<style scoped>\n",
       "    .dataframe tbody tr th:only-of-type {\n",
       "        vertical-align: middle;\n",
       "    }\n",
       "\n",
       "    .dataframe tbody tr th {\n",
       "        vertical-align: top;\n",
       "    }\n",
       "\n",
       "    .dataframe thead th {\n",
       "        text-align: right;\n",
       "    }\n",
       "</style>\n",
       "<table border=\"1\" class=\"dataframe\">\n",
       "  <thead>\n",
       "    <tr style=\"text-align: right;\">\n",
       "      <th></th>\n",
       "      <th>0</th>\n",
       "    </tr>\n",
       "  </thead>\n",
       "  <tbody>\n",
       "    <tr>\n",
       "      <th>3504</th>\n",
       "      <td>0.245053</td>\n",
       "    </tr>\n",
       "    <tr>\n",
       "      <th>4050</th>\n",
       "      <td>0.933972</td>\n",
       "    </tr>\n",
       "    <tr>\n",
       "      <th>7201</th>\n",
       "      <td>0.132363</td>\n",
       "    </tr>\n",
       "    <tr>\n",
       "      <th>1196</th>\n",
       "      <td>0.235009</td>\n",
       "    </tr>\n",
       "    <tr>\n",
       "      <th>8219</th>\n",
       "      <td>0.177852</td>\n",
       "    </tr>\n",
       "  </tbody>\n",
       "</table>\n",
       "</div>"
      ],
      "text/plain": [
       "             0\n",
       "3504  0.245053\n",
       "4050  0.933972\n",
       "7201  0.132363\n",
       "1196  0.235009\n",
       "8219  0.177852"
      ]
     },
     "execution_count": 331,
     "metadata": {},
     "output_type": "execute_result"
    }
   ],
   "source": [
    "# Let's see the head\n",
    "y_pred_1.head()"
   ]
  },
  {
   "cell_type": "code",
   "execution_count": 332,
   "metadata": {},
   "outputs": [],
   "source": [
    "\n",
    "# Converting y_test to dataframe\n",
    "y_test_df = pd.DataFrame(y_test)"
   ]
  },
  {
   "cell_type": "code",
   "execution_count": 333,
   "metadata": {},
   "outputs": [],
   "source": [
    "# Putting CustID to index\n",
    "y_test_df['LeadID'] = y_test_df.index"
   ]
  },
  {
   "cell_type": "code",
   "execution_count": 334,
   "metadata": {},
   "outputs": [],
   "source": [
    "# Removing index for both dataframes to append them side by side \n",
    "y_pred_1.reset_index(drop=True, inplace=True)\n",
    "y_test_df.reset_index(drop=True, inplace=True)"
   ]
  },
  {
   "cell_type": "code",
   "execution_count": 335,
   "metadata": {},
   "outputs": [],
   "source": [
    "# Appending y_test_df and y_pred_1\n",
    "y_pred_final = pd.concat([y_test_df, y_pred_1],axis=1)"
   ]
  },
  {
   "cell_type": "code",
   "execution_count": 336,
   "metadata": {},
   "outputs": [
    {
     "data": {
      "text/html": [
       "<div>\n",
       "<style scoped>\n",
       "    .dataframe tbody tr th:only-of-type {\n",
       "        vertical-align: middle;\n",
       "    }\n",
       "\n",
       "    .dataframe tbody tr th {\n",
       "        vertical-align: top;\n",
       "    }\n",
       "\n",
       "    .dataframe thead th {\n",
       "        text-align: right;\n",
       "    }\n",
       "</style>\n",
       "<table border=\"1\" class=\"dataframe\">\n",
       "  <thead>\n",
       "    <tr style=\"text-align: right;\">\n",
       "      <th></th>\n",
       "      <th>Converted</th>\n",
       "      <th>LeadID</th>\n",
       "      <th>0</th>\n",
       "    </tr>\n",
       "  </thead>\n",
       "  <tbody>\n",
       "    <tr>\n",
       "      <th>0</th>\n",
       "      <td>0</td>\n",
       "      <td>3504</td>\n",
       "      <td>0.245053</td>\n",
       "    </tr>\n",
       "    <tr>\n",
       "      <th>1</th>\n",
       "      <td>1</td>\n",
       "      <td>4050</td>\n",
       "      <td>0.933972</td>\n",
       "    </tr>\n",
       "    <tr>\n",
       "      <th>2</th>\n",
       "      <td>0</td>\n",
       "      <td>7201</td>\n",
       "      <td>0.132363</td>\n",
       "    </tr>\n",
       "    <tr>\n",
       "      <th>3</th>\n",
       "      <td>0</td>\n",
       "      <td>1196</td>\n",
       "      <td>0.235009</td>\n",
       "    </tr>\n",
       "    <tr>\n",
       "      <th>4</th>\n",
       "      <td>1</td>\n",
       "      <td>8219</td>\n",
       "      <td>0.177852</td>\n",
       "    </tr>\n",
       "  </tbody>\n",
       "</table>\n",
       "</div>"
      ],
      "text/plain": [
       "   Converted  LeadID         0\n",
       "0          0    3504  0.245053\n",
       "1          1    4050  0.933972\n",
       "2          0    7201  0.132363\n",
       "3          0    1196  0.235009\n",
       "4          1    8219  0.177852"
      ]
     },
     "execution_count": 336,
     "metadata": {},
     "output_type": "execute_result"
    }
   ],
   "source": [
    "y_pred_final.head()"
   ]
  },
  {
   "cell_type": "code",
   "execution_count": 337,
   "metadata": {},
   "outputs": [],
   "source": [
    "# Renaming the column \n",
    "y_pred_final= y_pred_final.rename(columns={ 0 : 'Conversion_Prob'})"
   ]
  },
  {
   "cell_type": "code",
   "execution_count": 338,
   "metadata": {},
   "outputs": [],
   "source": [
    "# Rearranging the columns\n",
    "y_pred_final = y_pred_final.reindex(['LeadID','Converted','Conversion_Prob'], axis=1)"
   ]
  },
  {
   "cell_type": "code",
   "execution_count": 339,
   "metadata": {},
   "outputs": [
    {
     "data": {
      "text/html": [
       "<div>\n",
       "<style scoped>\n",
       "    .dataframe tbody tr th:only-of-type {\n",
       "        vertical-align: middle;\n",
       "    }\n",
       "\n",
       "    .dataframe tbody tr th {\n",
       "        vertical-align: top;\n",
       "    }\n",
       "\n",
       "    .dataframe thead th {\n",
       "        text-align: right;\n",
       "    }\n",
       "</style>\n",
       "<table border=\"1\" class=\"dataframe\">\n",
       "  <thead>\n",
       "    <tr style=\"text-align: right;\">\n",
       "      <th></th>\n",
       "      <th>LeadID</th>\n",
       "      <th>Converted</th>\n",
       "      <th>Conversion_Prob</th>\n",
       "    </tr>\n",
       "  </thead>\n",
       "  <tbody>\n",
       "    <tr>\n",
       "      <th>0</th>\n",
       "      <td>3504</td>\n",
       "      <td>0</td>\n",
       "      <td>0.245053</td>\n",
       "    </tr>\n",
       "    <tr>\n",
       "      <th>1</th>\n",
       "      <td>4050</td>\n",
       "      <td>1</td>\n",
       "      <td>0.933972</td>\n",
       "    </tr>\n",
       "    <tr>\n",
       "      <th>2</th>\n",
       "      <td>7201</td>\n",
       "      <td>0</td>\n",
       "      <td>0.132363</td>\n",
       "    </tr>\n",
       "    <tr>\n",
       "      <th>3</th>\n",
       "      <td>1196</td>\n",
       "      <td>0</td>\n",
       "      <td>0.235009</td>\n",
       "    </tr>\n",
       "    <tr>\n",
       "      <th>4</th>\n",
       "      <td>8219</td>\n",
       "      <td>1</td>\n",
       "      <td>0.177852</td>\n",
       "    </tr>\n",
       "  </tbody>\n",
       "</table>\n",
       "</div>"
      ],
      "text/plain": [
       "   LeadID  Converted  Conversion_Prob\n",
       "0    3504          0         0.245053\n",
       "1    4050          1         0.933972\n",
       "2    7201          0         0.132363\n",
       "3    1196          0         0.235009\n",
       "4    8219          1         0.177852"
      ]
     },
     "execution_count": 339,
     "metadata": {},
     "output_type": "execute_result"
    }
   ],
   "source": [
    "# Let's see the head of y_pred_final\n",
    "y_pred_final.head()"
   ]
  },
  {
   "cell_type": "code",
   "execution_count": 340,
   "metadata": {},
   "outputs": [
    {
     "data": {
      "text/plain": [
       "(2731, 3)"
      ]
     },
     "execution_count": 340,
     "metadata": {},
     "output_type": "execute_result"
    }
   ],
   "source": [
    "y_pred_final.shape"
   ]
  },
  {
   "cell_type": "markdown",
   "metadata": {},
   "source": [
    "#### Using the probability threshold value 0f 0.29 on the test dataset to predict if a lead will convert"
   ]
  },
  {
   "cell_type": "code",
   "execution_count": 341,
   "metadata": {},
   "outputs": [],
   "source": [
    "y_pred_final['final_predicted'] = y_pred_final.Conversion_Prob.map(lambda x: 1 if x > 0.29 else 0)"
   ]
  },
  {
   "cell_type": "code",
   "execution_count": 342,
   "metadata": {},
   "outputs": [
    {
     "data": {
      "text/html": [
       "<div>\n",
       "<style scoped>\n",
       "    .dataframe tbody tr th:only-of-type {\n",
       "        vertical-align: middle;\n",
       "    }\n",
       "\n",
       "    .dataframe tbody tr th {\n",
       "        vertical-align: top;\n",
       "    }\n",
       "\n",
       "    .dataframe thead th {\n",
       "        text-align: right;\n",
       "    }\n",
       "</style>\n",
       "<table border=\"1\" class=\"dataframe\">\n",
       "  <thead>\n",
       "    <tr style=\"text-align: right;\">\n",
       "      <th></th>\n",
       "      <th>LeadID</th>\n",
       "      <th>Converted</th>\n",
       "      <th>Conversion_Prob</th>\n",
       "      <th>final_predicted</th>\n",
       "    </tr>\n",
       "  </thead>\n",
       "  <tbody>\n",
       "    <tr>\n",
       "      <th>0</th>\n",
       "      <td>3504</td>\n",
       "      <td>0</td>\n",
       "      <td>0.245053</td>\n",
       "      <td>0</td>\n",
       "    </tr>\n",
       "    <tr>\n",
       "      <th>1</th>\n",
       "      <td>4050</td>\n",
       "      <td>1</td>\n",
       "      <td>0.933972</td>\n",
       "      <td>1</td>\n",
       "    </tr>\n",
       "    <tr>\n",
       "      <th>2</th>\n",
       "      <td>7201</td>\n",
       "      <td>0</td>\n",
       "      <td>0.132363</td>\n",
       "      <td>0</td>\n",
       "    </tr>\n",
       "    <tr>\n",
       "      <th>3</th>\n",
       "      <td>1196</td>\n",
       "      <td>0</td>\n",
       "      <td>0.235009</td>\n",
       "      <td>0</td>\n",
       "    </tr>\n",
       "    <tr>\n",
       "      <th>4</th>\n",
       "      <td>8219</td>\n",
       "      <td>1</td>\n",
       "      <td>0.177852</td>\n",
       "      <td>0</td>\n",
       "    </tr>\n",
       "  </tbody>\n",
       "</table>\n",
       "</div>"
      ],
      "text/plain": [
       "   LeadID  Converted  Conversion_Prob  final_predicted\n",
       "0    3504          0         0.245053                0\n",
       "1    4050          1         0.933972                1\n",
       "2    7201          0         0.132363                0\n",
       "3    1196          0         0.235009                0\n",
       "4    8219          1         0.177852                0"
      ]
     },
     "execution_count": 342,
     "metadata": {},
     "output_type": "execute_result"
    }
   ],
   "source": [
    "y_pred_final.head()"
   ]
  },
  {
   "cell_type": "code",
   "execution_count": 343,
   "metadata": {},
   "outputs": [
    {
     "data": {
      "text/plain": [
       "0.7993409007689491"
      ]
     },
     "execution_count": 343,
     "metadata": {},
     "output_type": "execute_result"
    }
   ],
   "source": [
    "# Let's check the overall accuracy.\n",
    "acc_score=metrics.accuracy_score(y_pred_final.Converted, y_pred_final.final_predicted)\n",
    "acc_score"
   ]
  },
  {
   "cell_type": "code",
   "execution_count": 344,
   "metadata": {},
   "outputs": [
    {
     "name": "stdout",
     "output_type": "stream",
     "text": [
      "[[1369  320]\n",
      " [ 228  814]]\n"
     ]
    }
   ],
   "source": [
    "confusion_test = metrics.confusion_matrix(y_pred_final.Converted, y_pred_final.final_predicted )\n",
    "print(confusion_test)"
   ]
  },
  {
   "cell_type": "markdown",
   "metadata": {},
   "source": [
    "## Calculating Lead score for the entire dataset"
   ]
  },
  {
   "cell_type": "markdown",
   "metadata": {},
   "source": [
    "### Lead Score = 100 * ConversionProbability"
   ]
  },
  {
   "cell_type": "markdown",
   "metadata": {},
   "source": [
    "#### This needs to be calculated for all the leads from the original dataset (train + test)"
   ]
  },
  {
   "cell_type": "code",
   "execution_count": 345,
   "metadata": {},
   "outputs": [
    {
     "data": {
      "text/html": [
       "<div>\n",
       "<style scoped>\n",
       "    .dataframe tbody tr th:only-of-type {\n",
       "        vertical-align: middle;\n",
       "    }\n",
       "\n",
       "    .dataframe tbody tr th {\n",
       "        vertical-align: top;\n",
       "    }\n",
       "\n",
       "    .dataframe thead th {\n",
       "        text-align: right;\n",
       "    }\n",
       "</style>\n",
       "<table border=\"1\" class=\"dataframe\">\n",
       "  <thead>\n",
       "    <tr style=\"text-align: right;\">\n",
       "      <th></th>\n",
       "      <th>LeadID</th>\n",
       "      <th>Converted</th>\n",
       "      <th>Conversion_Prob</th>\n",
       "      <th>final_predicted</th>\n",
       "    </tr>\n",
       "  </thead>\n",
       "  <tbody>\n",
       "    <tr>\n",
       "      <th>0</th>\n",
       "      <td>3504</td>\n",
       "      <td>0</td>\n",
       "      <td>0.245053</td>\n",
       "      <td>0</td>\n",
       "    </tr>\n",
       "    <tr>\n",
       "      <th>1</th>\n",
       "      <td>4050</td>\n",
       "      <td>1</td>\n",
       "      <td>0.933972</td>\n",
       "      <td>1</td>\n",
       "    </tr>\n",
       "    <tr>\n",
       "      <th>2</th>\n",
       "      <td>7201</td>\n",
       "      <td>0</td>\n",
       "      <td>0.132363</td>\n",
       "      <td>0</td>\n",
       "    </tr>\n",
       "    <tr>\n",
       "      <th>3</th>\n",
       "      <td>1196</td>\n",
       "      <td>0</td>\n",
       "      <td>0.235009</td>\n",
       "      <td>0</td>\n",
       "    </tr>\n",
       "    <tr>\n",
       "      <th>4</th>\n",
       "      <td>8219</td>\n",
       "      <td>1</td>\n",
       "      <td>0.177852</td>\n",
       "      <td>0</td>\n",
       "    </tr>\n",
       "  </tbody>\n",
       "</table>\n",
       "</div>"
      ],
      "text/plain": [
       "   LeadID  Converted  Conversion_Prob  final_predicted\n",
       "0    3504          0         0.245053                0\n",
       "1    4050          1         0.933972                1\n",
       "2    7201          0         0.132363                0\n",
       "3    1196          0         0.235009                0\n",
       "4    8219          1         0.177852                0"
      ]
     },
     "execution_count": 345,
     "metadata": {},
     "output_type": "execute_result"
    }
   ],
   "source": [
    "# Selecting the test dataset along with the Conversion Probability and final predicted value for 'Converted'\n",
    "leads_test_pred = y_pred_final.copy()\n",
    "leads_test_pred.head()"
   ]
  },
  {
   "cell_type": "code",
   "execution_count": 346,
   "metadata": {},
   "outputs": [
    {
     "data": {
      "text/html": [
       "<div>\n",
       "<style scoped>\n",
       "    .dataframe tbody tr th:only-of-type {\n",
       "        vertical-align: middle;\n",
       "    }\n",
       "\n",
       "    .dataframe tbody tr th {\n",
       "        vertical-align: top;\n",
       "    }\n",
       "\n",
       "    .dataframe thead th {\n",
       "        text-align: right;\n",
       "    }\n",
       "</style>\n",
       "<table border=\"1\" class=\"dataframe\">\n",
       "  <thead>\n",
       "    <tr style=\"text-align: right;\">\n",
       "      <th></th>\n",
       "      <th>Converted</th>\n",
       "      <th>Conversion_Prob</th>\n",
       "      <th>LeadID</th>\n",
       "      <th>predicted</th>\n",
       "      <th>0.0</th>\n",
       "      <th>0.1</th>\n",
       "      <th>0.2</th>\n",
       "      <th>0.3</th>\n",
       "      <th>0.4</th>\n",
       "      <th>0.5</th>\n",
       "      <th>0.6</th>\n",
       "      <th>0.7</th>\n",
       "      <th>0.8</th>\n",
       "      <th>0.9</th>\n",
       "      <th>final_predicted</th>\n",
       "    </tr>\n",
       "  </thead>\n",
       "  <tbody>\n",
       "    <tr>\n",
       "      <th>0</th>\n",
       "      <td>0</td>\n",
       "      <td>0.643958</td>\n",
       "      <td>7962</td>\n",
       "      <td>1</td>\n",
       "      <td>1</td>\n",
       "      <td>1</td>\n",
       "      <td>1</td>\n",
       "      <td>1</td>\n",
       "      <td>1</td>\n",
       "      <td>1</td>\n",
       "      <td>1</td>\n",
       "      <td>0</td>\n",
       "      <td>0</td>\n",
       "      <td>0</td>\n",
       "      <td>1</td>\n",
       "    </tr>\n",
       "    <tr>\n",
       "      <th>1</th>\n",
       "      <td>0</td>\n",
       "      <td>0.057512</td>\n",
       "      <td>5520</td>\n",
       "      <td>0</td>\n",
       "      <td>1</td>\n",
       "      <td>0</td>\n",
       "      <td>0</td>\n",
       "      <td>0</td>\n",
       "      <td>0</td>\n",
       "      <td>0</td>\n",
       "      <td>0</td>\n",
       "      <td>0</td>\n",
       "      <td>0</td>\n",
       "      <td>0</td>\n",
       "      <td>0</td>\n",
       "    </tr>\n",
       "    <tr>\n",
       "      <th>2</th>\n",
       "      <td>0</td>\n",
       "      <td>0.163375</td>\n",
       "      <td>1962</td>\n",
       "      <td>0</td>\n",
       "      <td>1</td>\n",
       "      <td>1</td>\n",
       "      <td>0</td>\n",
       "      <td>0</td>\n",
       "      <td>0</td>\n",
       "      <td>0</td>\n",
       "      <td>0</td>\n",
       "      <td>0</td>\n",
       "      <td>0</td>\n",
       "      <td>0</td>\n",
       "      <td>0</td>\n",
       "    </tr>\n",
       "    <tr>\n",
       "      <th>3</th>\n",
       "      <td>1</td>\n",
       "      <td>0.965379</td>\n",
       "      <td>1566</td>\n",
       "      <td>1</td>\n",
       "      <td>1</td>\n",
       "      <td>1</td>\n",
       "      <td>1</td>\n",
       "      <td>1</td>\n",
       "      <td>1</td>\n",
       "      <td>1</td>\n",
       "      <td>1</td>\n",
       "      <td>1</td>\n",
       "      <td>1</td>\n",
       "      <td>1</td>\n",
       "      <td>1</td>\n",
       "    </tr>\n",
       "    <tr>\n",
       "      <th>4</th>\n",
       "      <td>0</td>\n",
       "      <td>0.192630</td>\n",
       "      <td>9170</td>\n",
       "      <td>0</td>\n",
       "      <td>1</td>\n",
       "      <td>1</td>\n",
       "      <td>0</td>\n",
       "      <td>0</td>\n",
       "      <td>0</td>\n",
       "      <td>0</td>\n",
       "      <td>0</td>\n",
       "      <td>0</td>\n",
       "      <td>0</td>\n",
       "      <td>0</td>\n",
       "      <td>0</td>\n",
       "    </tr>\n",
       "  </tbody>\n",
       "</table>\n",
       "</div>"
      ],
      "text/plain": [
       "   Converted  Conversion_Prob  LeadID  predicted  0.0  0.1  0.2  0.3  0.4  \\\n",
       "0          0         0.643958    7962          1    1    1    1    1    1   \n",
       "1          0         0.057512    5520          0    1    0    0    0    0   \n",
       "2          0         0.163375    1962          0    1    1    0    0    0   \n",
       "3          1         0.965379    1566          1    1    1    1    1    1   \n",
       "4          0         0.192630    9170          0    1    1    0    0    0   \n",
       "\n",
       "   0.5  0.6  0.7  0.8  0.9  final_predicted  \n",
       "0    1    1    0    0    0                1  \n",
       "1    0    0    0    0    0                0  \n",
       "2    0    0    0    0    0                0  \n",
       "3    1    1    1    1    1                1  \n",
       "4    0    0    0    0    0                0  "
      ]
     },
     "execution_count": 346,
     "metadata": {},
     "output_type": "execute_result"
    }
   ],
   "source": [
    "# Selecting the train dataset along with the Conversion Probability and final predicted value for 'Converted'\n",
    "leads_train_pred = y_train_pred_final.copy()\n",
    "leads_train_pred.head()"
   ]
  },
  {
   "cell_type": "code",
   "execution_count": 347,
   "metadata": {},
   "outputs": [
    {
     "data": {
      "text/html": [
       "<div>\n",
       "<style scoped>\n",
       "    .dataframe tbody tr th:only-of-type {\n",
       "        vertical-align: middle;\n",
       "    }\n",
       "\n",
       "    .dataframe tbody tr th {\n",
       "        vertical-align: top;\n",
       "    }\n",
       "\n",
       "    .dataframe thead th {\n",
       "        text-align: right;\n",
       "    }\n",
       "</style>\n",
       "<table border=\"1\" class=\"dataframe\">\n",
       "  <thead>\n",
       "    <tr style=\"text-align: right;\">\n",
       "      <th></th>\n",
       "      <th>LeadID</th>\n",
       "      <th>Converted</th>\n",
       "      <th>Conversion_Prob</th>\n",
       "      <th>final_predicted</th>\n",
       "    </tr>\n",
       "  </thead>\n",
       "  <tbody>\n",
       "    <tr>\n",
       "      <th>0</th>\n",
       "      <td>7962</td>\n",
       "      <td>0</td>\n",
       "      <td>0.643958</td>\n",
       "      <td>1</td>\n",
       "    </tr>\n",
       "    <tr>\n",
       "      <th>1</th>\n",
       "      <td>5520</td>\n",
       "      <td>0</td>\n",
       "      <td>0.057512</td>\n",
       "      <td>0</td>\n",
       "    </tr>\n",
       "    <tr>\n",
       "      <th>2</th>\n",
       "      <td>1962</td>\n",
       "      <td>0</td>\n",
       "      <td>0.163375</td>\n",
       "      <td>0</td>\n",
       "    </tr>\n",
       "    <tr>\n",
       "      <th>3</th>\n",
       "      <td>1566</td>\n",
       "      <td>1</td>\n",
       "      <td>0.965379</td>\n",
       "      <td>1</td>\n",
       "    </tr>\n",
       "    <tr>\n",
       "      <th>4</th>\n",
       "      <td>9170</td>\n",
       "      <td>0</td>\n",
       "      <td>0.192630</td>\n",
       "      <td>0</td>\n",
       "    </tr>\n",
       "  </tbody>\n",
       "</table>\n",
       "</div>"
      ],
      "text/plain": [
       "   LeadID  Converted  Conversion_Prob  final_predicted\n",
       "0    7962          0         0.643958                1\n",
       "1    5520          0         0.057512                0\n",
       "2    1962          0         0.163375                0\n",
       "3    1566          1         0.965379                1\n",
       "4    9170          0         0.192630                0"
      ]
     },
     "execution_count": 347,
     "metadata": {},
     "output_type": "execute_result"
    }
   ],
   "source": [
    "# Dropping unnecessary columns from train dataset\n",
    "leads_train_pred = leads_train_pred[['LeadID','Converted','Conversion_Prob','final_predicted']]\n",
    "leads_train_pred.head()"
   ]
  },
  {
   "cell_type": "markdown",
   "metadata": {},
   "source": [
    "### Concatenating the train and the test dataset with the Conversion Probabilities"
   ]
  },
  {
   "cell_type": "code",
   "execution_count": 348,
   "metadata": {},
   "outputs": [
    {
     "data": {
      "text/html": [
       "<div>\n",
       "<style scoped>\n",
       "    .dataframe tbody tr th:only-of-type {\n",
       "        vertical-align: middle;\n",
       "    }\n",
       "\n",
       "    .dataframe tbody tr th {\n",
       "        vertical-align: top;\n",
       "    }\n",
       "\n",
       "    .dataframe thead th {\n",
       "        text-align: right;\n",
       "    }\n",
       "</style>\n",
       "<table border=\"1\" class=\"dataframe\">\n",
       "  <thead>\n",
       "    <tr style=\"text-align: right;\">\n",
       "      <th></th>\n",
       "      <th>LeadID</th>\n",
       "      <th>Converted</th>\n",
       "      <th>Conversion_Prob</th>\n",
       "      <th>final_predicted</th>\n",
       "    </tr>\n",
       "  </thead>\n",
       "  <tbody>\n",
       "    <tr>\n",
       "      <th>0</th>\n",
       "      <td>7962</td>\n",
       "      <td>0</td>\n",
       "      <td>0.643958</td>\n",
       "      <td>1</td>\n",
       "    </tr>\n",
       "    <tr>\n",
       "      <th>1</th>\n",
       "      <td>5520</td>\n",
       "      <td>0</td>\n",
       "      <td>0.057512</td>\n",
       "      <td>0</td>\n",
       "    </tr>\n",
       "    <tr>\n",
       "      <th>2</th>\n",
       "      <td>1962</td>\n",
       "      <td>0</td>\n",
       "      <td>0.163375</td>\n",
       "      <td>0</td>\n",
       "    </tr>\n",
       "    <tr>\n",
       "      <th>3</th>\n",
       "      <td>1566</td>\n",
       "      <td>1</td>\n",
       "      <td>0.965379</td>\n",
       "      <td>1</td>\n",
       "    </tr>\n",
       "    <tr>\n",
       "      <th>4</th>\n",
       "      <td>9170</td>\n",
       "      <td>0</td>\n",
       "      <td>0.192630</td>\n",
       "      <td>0</td>\n",
       "    </tr>\n",
       "  </tbody>\n",
       "</table>\n",
       "</div>"
      ],
      "text/plain": [
       "   LeadID  Converted  Conversion_Prob  final_predicted\n",
       "0    7962          0         0.643958                1\n",
       "1    5520          0         0.057512                0\n",
       "2    1962          0         0.163375                0\n",
       "3    1566          1         0.965379                1\n",
       "4    9170          0         0.192630                0"
      ]
     },
     "execution_count": 348,
     "metadata": {},
     "output_type": "execute_result"
    }
   ],
   "source": [
    "# Concatenating the 2 dataframes train and test along the rows with the append() function\n",
    "lead_full_pred = leads_train_pred.append(leads_test_pred)\n",
    "lead_full_pred.head()"
   ]
  },
  {
   "cell_type": "code",
   "execution_count": 349,
   "metadata": {},
   "outputs": [
    {
     "name": "stdout",
     "output_type": "stream",
     "text": [
      "(6372, 4)\n",
      "(2731, 4)\n",
      "(9103, 4)\n"
     ]
    }
   ],
   "source": [
    "# Inspecting the shape of the final dataframe and the test and train dataframes\n",
    "print(leads_train_pred.shape)\n",
    "print(leads_test_pred.shape)\n",
    "print(lead_full_pred.shape)"
   ]
  },
  {
   "cell_type": "code",
   "execution_count": 350,
   "metadata": {},
   "outputs": [
    {
     "data": {
      "text/plain": [
       "9103"
      ]
     },
     "execution_count": 350,
     "metadata": {},
     "output_type": "execute_result"
    }
   ],
   "source": [
    "# Ensuring the LeadIDs are unique for each lead in the finl dataframe\n",
    "len(lead_full_pred['LeadID'].unique().tolist())"
   ]
  },
  {
   "cell_type": "code",
   "execution_count": 351,
   "metadata": {},
   "outputs": [
    {
     "data": {
      "text/html": [
       "<div>\n",
       "<style scoped>\n",
       "    .dataframe tbody tr th:only-of-type {\n",
       "        vertical-align: middle;\n",
       "    }\n",
       "\n",
       "    .dataframe tbody tr th {\n",
       "        vertical-align: top;\n",
       "    }\n",
       "\n",
       "    .dataframe thead th {\n",
       "        text-align: right;\n",
       "    }\n",
       "</style>\n",
       "<table border=\"1\" class=\"dataframe\">\n",
       "  <thead>\n",
       "    <tr style=\"text-align: right;\">\n",
       "      <th></th>\n",
       "      <th>LeadID</th>\n",
       "      <th>Converted</th>\n",
       "      <th>Conversion_Prob</th>\n",
       "      <th>final_predicted</th>\n",
       "      <th>Lead_Score</th>\n",
       "    </tr>\n",
       "  </thead>\n",
       "  <tbody>\n",
       "    <tr>\n",
       "      <th>0</th>\n",
       "      <td>7962</td>\n",
       "      <td>0</td>\n",
       "      <td>0.643958</td>\n",
       "      <td>1</td>\n",
       "      <td>64</td>\n",
       "    </tr>\n",
       "    <tr>\n",
       "      <th>1</th>\n",
       "      <td>5520</td>\n",
       "      <td>0</td>\n",
       "      <td>0.057512</td>\n",
       "      <td>0</td>\n",
       "      <td>6</td>\n",
       "    </tr>\n",
       "    <tr>\n",
       "      <th>2</th>\n",
       "      <td>1962</td>\n",
       "      <td>0</td>\n",
       "      <td>0.163375</td>\n",
       "      <td>0</td>\n",
       "      <td>16</td>\n",
       "    </tr>\n",
       "    <tr>\n",
       "      <th>3</th>\n",
       "      <td>1566</td>\n",
       "      <td>1</td>\n",
       "      <td>0.965379</td>\n",
       "      <td>1</td>\n",
       "      <td>97</td>\n",
       "    </tr>\n",
       "    <tr>\n",
       "      <th>4</th>\n",
       "      <td>9170</td>\n",
       "      <td>0</td>\n",
       "      <td>0.192630</td>\n",
       "      <td>0</td>\n",
       "      <td>19</td>\n",
       "    </tr>\n",
       "  </tbody>\n",
       "</table>\n",
       "</div>"
      ],
      "text/plain": [
       "   LeadID  Converted  Conversion_Prob  final_predicted  Lead_Score\n",
       "0    7962          0         0.643958                1          64\n",
       "1    5520          0         0.057512                0           6\n",
       "2    1962          0         0.163375                0          16\n",
       "3    1566          1         0.965379                1          97\n",
       "4    9170          0         0.192630                0          19"
      ]
     },
     "execution_count": 351,
     "metadata": {},
     "output_type": "execute_result"
    }
   ],
   "source": [
    "# Calculating the Lead Score value\n",
    "# Lead Score = 100 * Conversion_Prob\n",
    "lead_full_pred['Lead_Score'] = lead_full_pred['Conversion_Prob'].apply(lambda x : round(x*100))\n",
    "lead_full_pred.head()"
   ]
  },
  {
   "cell_type": "code",
   "execution_count": 352,
   "metadata": {},
   "outputs": [
    {
     "data": {
      "text/plain": [
       "9239"
      ]
     },
     "execution_count": 352,
     "metadata": {},
     "output_type": "execute_result"
    }
   ],
   "source": [
    "# Inspecing the max LeadID\n",
    "lead_full_pred.LeadID.max()"
   ]
  },
  {
   "cell_type": "code",
   "execution_count": 353,
   "metadata": {},
   "outputs": [
    {
     "data": {
      "text/html": [
       "<div>\n",
       "<style scoped>\n",
       "    .dataframe tbody tr th:only-of-type {\n",
       "        vertical-align: middle;\n",
       "    }\n",
       "\n",
       "    .dataframe tbody tr th {\n",
       "        vertical-align: top;\n",
       "    }\n",
       "\n",
       "    .dataframe thead th {\n",
       "        text-align: right;\n",
       "    }\n",
       "</style>\n",
       "<table border=\"1\" class=\"dataframe\">\n",
       "  <thead>\n",
       "    <tr style=\"text-align: right;\">\n",
       "      <th></th>\n",
       "      <th>Converted</th>\n",
       "      <th>Conversion_Prob</th>\n",
       "      <th>final_predicted</th>\n",
       "      <th>Lead_Score</th>\n",
       "    </tr>\n",
       "    <tr>\n",
       "      <th>LeadID</th>\n",
       "      <th></th>\n",
       "      <th></th>\n",
       "      <th></th>\n",
       "      <th></th>\n",
       "    </tr>\n",
       "  </thead>\n",
       "  <tbody>\n",
       "    <tr>\n",
       "      <th>0</th>\n",
       "      <td>0</td>\n",
       "      <td>0.192630</td>\n",
       "      <td>0</td>\n",
       "      <td>19</td>\n",
       "    </tr>\n",
       "    <tr>\n",
       "      <th>1</th>\n",
       "      <td>0</td>\n",
       "      <td>0.305633</td>\n",
       "      <td>1</td>\n",
       "      <td>31</td>\n",
       "    </tr>\n",
       "    <tr>\n",
       "      <th>2</th>\n",
       "      <td>1</td>\n",
       "      <td>0.747024</td>\n",
       "      <td>1</td>\n",
       "      <td>75</td>\n",
       "    </tr>\n",
       "    <tr>\n",
       "      <th>3</th>\n",
       "      <td>0</td>\n",
       "      <td>0.203865</td>\n",
       "      <td>0</td>\n",
       "      <td>20</td>\n",
       "    </tr>\n",
       "    <tr>\n",
       "      <th>4</th>\n",
       "      <td>1</td>\n",
       "      <td>0.705900</td>\n",
       "      <td>1</td>\n",
       "      <td>71</td>\n",
       "    </tr>\n",
       "  </tbody>\n",
       "</table>\n",
       "</div>"
      ],
      "text/plain": [
       "        Converted  Conversion_Prob  final_predicted  Lead_Score\n",
       "LeadID                                                         \n",
       "0               0         0.192630                0          19\n",
       "1               0         0.305633                1          31\n",
       "2               1         0.747024                1          75\n",
       "3               0         0.203865                0          20\n",
       "4               1         0.705900                1          71"
      ]
     },
     "execution_count": 353,
     "metadata": {},
     "output_type": "execute_result"
    }
   ],
   "source": [
    "# Making the LeadID column as index\n",
    "# We willlater join it with the original_leads dataframe based on index\n",
    "lead_full_pred = lead_full_pred.set_index('LeadID').sort_index(axis = 0, ascending = True)\n",
    "lead_full_pred.head()"
   ]
  },
  {
   "cell_type": "code",
   "execution_count": 354,
   "metadata": {},
   "outputs": [
    {
     "data": {
      "text/html": [
       "<div>\n",
       "<style scoped>\n",
       "    .dataframe tbody tr th:only-of-type {\n",
       "        vertical-align: middle;\n",
       "    }\n",
       "\n",
       "    .dataframe tbody tr th {\n",
       "        vertical-align: top;\n",
       "    }\n",
       "\n",
       "    .dataframe thead th {\n",
       "        text-align: right;\n",
       "    }\n",
       "</style>\n",
       "<table border=\"1\" class=\"dataframe\">\n",
       "  <thead>\n",
       "    <tr style=\"text-align: right;\">\n",
       "      <th></th>\n",
       "      <th>Lead Number</th>\n",
       "    </tr>\n",
       "  </thead>\n",
       "  <tbody>\n",
       "    <tr>\n",
       "      <th>0</th>\n",
       "      <td>660737</td>\n",
       "    </tr>\n",
       "    <tr>\n",
       "      <th>1</th>\n",
       "      <td>660728</td>\n",
       "    </tr>\n",
       "    <tr>\n",
       "      <th>2</th>\n",
       "      <td>660727</td>\n",
       "    </tr>\n",
       "    <tr>\n",
       "      <th>3</th>\n",
       "      <td>660719</td>\n",
       "    </tr>\n",
       "    <tr>\n",
       "      <th>4</th>\n",
       "      <td>660681</td>\n",
       "    </tr>\n",
       "  </tbody>\n",
       "</table>\n",
       "</div>"
      ],
      "text/plain": [
       "   Lead Number\n",
       "0       660737\n",
       "1       660728\n",
       "2       660727\n",
       "3       660719\n",
       "4       660681"
      ]
     },
     "execution_count": 354,
     "metadata": {},
     "output_type": "execute_result"
    }
   ],
   "source": [
    "# Slicing the Lead Number column from original_leads dataframe\n",
    "original_leads = original_leads[['Lead Number']]\n",
    "original_leads.head()"
   ]
  },
  {
   "cell_type": "markdown",
   "metadata": {},
   "source": [
    "#### Concatenating the 2 dataframes based on index."
   ]
  },
  {
   "cell_type": "markdown",
   "metadata": {},
   "source": [
    "This is done so that Lead Score is associated to the Lead Number of each Lead. This will help in quick identification of the lead."
   ]
  },
  {
   "cell_type": "code",
   "execution_count": 355,
   "metadata": {},
   "outputs": [
    {
     "data": {
      "text/html": [
       "<div>\n",
       "<style scoped>\n",
       "    .dataframe tbody tr th:only-of-type {\n",
       "        vertical-align: middle;\n",
       "    }\n",
       "\n",
       "    .dataframe tbody tr th {\n",
       "        vertical-align: top;\n",
       "    }\n",
       "\n",
       "    .dataframe thead th {\n",
       "        text-align: right;\n",
       "    }\n",
       "</style>\n",
       "<table border=\"1\" class=\"dataframe\">\n",
       "  <thead>\n",
       "    <tr style=\"text-align: right;\">\n",
       "      <th></th>\n",
       "      <th>Lead Number</th>\n",
       "      <th>Converted</th>\n",
       "      <th>Conversion_Prob</th>\n",
       "      <th>final_predicted</th>\n",
       "      <th>Lead_Score</th>\n",
       "    </tr>\n",
       "  </thead>\n",
       "  <tbody>\n",
       "    <tr>\n",
       "      <th>0</th>\n",
       "      <td>660737</td>\n",
       "      <td>0</td>\n",
       "      <td>0.192630</td>\n",
       "      <td>0</td>\n",
       "      <td>19</td>\n",
       "    </tr>\n",
       "    <tr>\n",
       "      <th>1</th>\n",
       "      <td>660728</td>\n",
       "      <td>0</td>\n",
       "      <td>0.305633</td>\n",
       "      <td>1</td>\n",
       "      <td>31</td>\n",
       "    </tr>\n",
       "    <tr>\n",
       "      <th>2</th>\n",
       "      <td>660727</td>\n",
       "      <td>1</td>\n",
       "      <td>0.747024</td>\n",
       "      <td>1</td>\n",
       "      <td>75</td>\n",
       "    </tr>\n",
       "    <tr>\n",
       "      <th>3</th>\n",
       "      <td>660719</td>\n",
       "      <td>0</td>\n",
       "      <td>0.203865</td>\n",
       "      <td>0</td>\n",
       "      <td>20</td>\n",
       "    </tr>\n",
       "    <tr>\n",
       "      <th>4</th>\n",
       "      <td>660681</td>\n",
       "      <td>1</td>\n",
       "      <td>0.705900</td>\n",
       "      <td>1</td>\n",
       "      <td>71</td>\n",
       "    </tr>\n",
       "    <tr>\n",
       "      <th>5</th>\n",
       "      <td>660680</td>\n",
       "      <td>0</td>\n",
       "      <td>0.192630</td>\n",
       "      <td>0</td>\n",
       "      <td>19</td>\n",
       "    </tr>\n",
       "    <tr>\n",
       "      <th>6</th>\n",
       "      <td>660673</td>\n",
       "      <td>1</td>\n",
       "      <td>0.785501</td>\n",
       "      <td>1</td>\n",
       "      <td>79</td>\n",
       "    </tr>\n",
       "    <tr>\n",
       "      <th>7</th>\n",
       "      <td>660664</td>\n",
       "      <td>0</td>\n",
       "      <td>0.192630</td>\n",
       "      <td>0</td>\n",
       "      <td>19</td>\n",
       "    </tr>\n",
       "    <tr>\n",
       "      <th>8</th>\n",
       "      <td>660624</td>\n",
       "      <td>0</td>\n",
       "      <td>0.132195</td>\n",
       "      <td>0</td>\n",
       "      <td>13</td>\n",
       "    </tr>\n",
       "    <tr>\n",
       "      <th>9</th>\n",
       "      <td>660616</td>\n",
       "      <td>0</td>\n",
       "      <td>0.249336</td>\n",
       "      <td>0</td>\n",
       "      <td>25</td>\n",
       "    </tr>\n",
       "  </tbody>\n",
       "</table>\n",
       "</div>"
      ],
      "text/plain": [
       "   Lead Number  Converted  Conversion_Prob  final_predicted  Lead_Score\n",
       "0       660737          0         0.192630                0          19\n",
       "1       660728          0         0.305633                1          31\n",
       "2       660727          1         0.747024                1          75\n",
       "3       660719          0         0.203865                0          20\n",
       "4       660681          1         0.705900                1          71\n",
       "5       660680          0         0.192630                0          19\n",
       "6       660673          1         0.785501                1          79\n",
       "7       660664          0         0.192630                0          19\n",
       "8       660624          0         0.132195                0          13\n",
       "9       660616          0         0.249336                0          25"
      ]
     },
     "execution_count": 355,
     "metadata": {},
     "output_type": "execute_result"
    }
   ],
   "source": [
    "# Concatenating the 2 dataframes based on index and displaying the top 10 rows\n",
    "# This is done son that Lead Score is associated to the Lead Number of each Lead. This will help in quick identification of the lead.\n",
    "leads_with_score = pd.concat([original_leads, lead_full_pred], axis=1)\n",
    "leads_with_score.head(10)"
   ]
  },
  {
   "cell_type": "code",
   "execution_count": 356,
   "metadata": {},
   "outputs": [
    {
     "data": {
      "text/plain": [
       "(9103, 5)"
      ]
     },
     "execution_count": 356,
     "metadata": {},
     "output_type": "execute_result"
    }
   ],
   "source": [
    "# Inspecting the dataframe shape\n",
    "leads_with_score.shape"
   ]
  },
  {
   "cell_type": "code",
   "execution_count": 357,
   "metadata": {},
   "outputs": [
    {
     "data": {
      "text/html": [
       "<div>\n",
       "<style scoped>\n",
       "    .dataframe tbody tr th:only-of-type {\n",
       "        vertical-align: middle;\n",
       "    }\n",
       "\n",
       "    .dataframe tbody tr th {\n",
       "        vertical-align: top;\n",
       "    }\n",
       "\n",
       "    .dataframe thead th {\n",
       "        text-align: right;\n",
       "    }\n",
       "</style>\n",
       "<table border=\"1\" class=\"dataframe\">\n",
       "  <thead>\n",
       "    <tr style=\"text-align: right;\">\n",
       "      <th></th>\n",
       "      <th>Total</th>\n",
       "      <th>Percentage</th>\n",
       "    </tr>\n",
       "  </thead>\n",
       "  <tbody>\n",
       "    <tr>\n",
       "      <th>Lead_Score</th>\n",
       "      <td>0</td>\n",
       "      <td>0.0</td>\n",
       "    </tr>\n",
       "    <tr>\n",
       "      <th>final_predicted</th>\n",
       "      <td>0</td>\n",
       "      <td>0.0</td>\n",
       "    </tr>\n",
       "    <tr>\n",
       "      <th>Conversion_Prob</th>\n",
       "      <td>0</td>\n",
       "      <td>0.0</td>\n",
       "    </tr>\n",
       "    <tr>\n",
       "      <th>Converted</th>\n",
       "      <td>0</td>\n",
       "      <td>0.0</td>\n",
       "    </tr>\n",
       "    <tr>\n",
       "      <th>Lead Number</th>\n",
       "      <td>0</td>\n",
       "      <td>0.0</td>\n",
       "    </tr>\n",
       "  </tbody>\n",
       "</table>\n",
       "</div>"
      ],
      "text/plain": [
       "                 Total  Percentage\n",
       "Lead_Score           0         0.0\n",
       "final_predicted      0         0.0\n",
       "Conversion_Prob      0         0.0\n",
       "Converted            0         0.0\n",
       "Lead Number          0         0.0"
      ]
     },
     "execution_count": 357,
     "metadata": {},
     "output_type": "execute_result"
    }
   ],
   "source": [
    "# Inspectin if the final dataframe has any null values\n",
    "\n",
    "total = pd.DataFrame(leads_with_score.isnull().sum().sort_values(ascending=False), columns=['Total'])\n",
    "percentage = pd.DataFrame(round(100*(leads_with_score.isnull().sum()/leads_with_score.shape[0]),2).sort_values(ascending=False)\\\n",
    "                          ,columns=['Percentage'])\n",
    "pd.concat([total, percentage], axis = 1)"
   ]
  },
  {
   "cell_type": "markdown",
   "metadata": {},
   "source": [
    "### Confusion Matrix"
   ]
  },
  {
   "cell_type": "code",
   "execution_count": 358,
   "metadata": {},
   "outputs": [],
   "source": [
    "TP = confusion_test[1,1] # true positive \n",
    "TN = confusion_test[0,0] # true negatives\n",
    "FP = confusion_test[0,1] # false positives\n",
    "FN = confusion_test[1,0] # false negatives"
   ]
  },
  {
   "cell_type": "markdown",
   "metadata": {},
   "source": [
    "### Showcasing the different metrics beyond accuracy on the test dataset"
   ]
  },
  {
   "cell_type": "markdown",
   "metadata": {},
   "source": [
    "### Sensitivity\n",
    "##### TP/TP+FP"
   ]
  },
  {
   "cell_type": "code",
   "execution_count": 359,
   "metadata": {},
   "outputs": [
    {
     "data": {
      "text/plain": [
       "0.781190019193858"
      ]
     },
     "execution_count": 359,
     "metadata": {},
     "output_type": "execute_result"
    }
   ],
   "source": [
    "# Let's see the sensitivity of our logistic regression model\n",
    "TP / float(TP+FN)"
   ]
  },
  {
   "cell_type": "markdown",
   "metadata": {},
   "source": [
    "### Specificity\n",
    "##### TN/TN+FP"
   ]
  },
  {
   "cell_type": "code",
   "execution_count": 360,
   "metadata": {},
   "outputs": [
    {
     "data": {
      "text/plain": [
       "0.8105387803433984"
      ]
     },
     "execution_count": 360,
     "metadata": {},
     "output_type": "execute_result"
    }
   ],
   "source": [
    "# Let us calculate specificity\n",
    "TN / float(TN+FP)"
   ]
  },
  {
   "cell_type": "markdown",
   "metadata": {},
   "source": [
    "### False Positive Rate\n",
    "##### FP/TN+FP"
   ]
  },
  {
   "cell_type": "code",
   "execution_count": 361,
   "metadata": {},
   "outputs": [
    {
     "name": "stdout",
     "output_type": "stream",
     "text": [
      "0.18946121965660154\n"
     ]
    }
   ],
   "source": [
    "# Calculate false postive rate - predicting churn when customer does not have churned\n",
    "print(FP/ float(TN+FP))"
   ]
  },
  {
   "cell_type": "markdown",
   "metadata": {},
   "source": [
    "### Positive Predictive Value\n",
    "##### TP/TP+FP"
   ]
  },
  {
   "cell_type": "code",
   "execution_count": 362,
   "metadata": {},
   "outputs": [
    {
     "name": "stdout",
     "output_type": "stream",
     "text": [
      "0.7178130511463845\n"
     ]
    }
   ],
   "source": [
    "# Positive predictive value \n",
    "print (TP / float(TP+FP))"
   ]
  },
  {
   "cell_type": "markdown",
   "metadata": {},
   "source": [
    "### Negative Predictive Value\n",
    "##### TN/TN+FN"
   ]
  },
  {
   "cell_type": "code",
   "execution_count": 363,
   "metadata": {},
   "outputs": [
    {
     "name": "stdout",
     "output_type": "stream",
     "text": [
      "0.8572323105823418\n"
     ]
    }
   ],
   "source": [
    "# Negative predictive value\n",
    "print (TN / float(TN+ FN))"
   ]
  },
  {
   "cell_type": "markdown",
   "metadata": {},
   "source": [
    "### Precision\n",
    "##### TP/TP+FP"
   ]
  },
  {
   "cell_type": "code",
   "execution_count": 364,
   "metadata": {},
   "outputs": [
    {
     "data": {
      "text/plain": [
       "0.7178130511463845"
      ]
     },
     "execution_count": 364,
     "metadata": {},
     "output_type": "execute_result"
    }
   ],
   "source": [
    "Precision = confusion_test[1,1]/(confusion_test[0,1]+confusion_test[1,1])\n",
    "Precision"
   ]
  },
  {
   "cell_type": "markdown",
   "metadata": {},
   "source": [
    "### Recall\n",
    "##### TP/TP+FN"
   ]
  },
  {
   "cell_type": "code",
   "execution_count": 365,
   "metadata": {},
   "outputs": [
    {
     "data": {
      "text/plain": [
       "0.781190019193858"
      ]
     },
     "execution_count": 365,
     "metadata": {},
     "output_type": "execute_result"
    }
   ],
   "source": [
    "Recall = confusion_test[1,1]/(confusion_test[1,0]+confusion_test[1,1])\n",
    "Recall"
   ]
  },
  {
   "cell_type": "markdown",
   "metadata": {},
   "source": [
    "#### F1 = 2×(Precision*Recall)/(Precision+Recall)"
   ]
  },
  {
   "cell_type": "code",
   "execution_count": 366,
   "metadata": {},
   "outputs": [
    {
     "data": {
      "text/plain": [
       "0.7481617647058822"
      ]
     },
     "execution_count": 366,
     "metadata": {},
     "output_type": "execute_result"
    }
   ],
   "source": [
    "F1 = 2*(Precision*Recall)/(Precision+Recall)\n",
    "F1"
   ]
  },
  {
   "cell_type": "markdown",
   "metadata": {},
   "source": [
    "### Observation:\n",
    "##### After running the model on the Test Data these are the figures we obtain:\n",
    "\n",
    "Accuracy : 79%                                                         \n",
    "Sensitivity : 78%                                                      \n",
    "Specificity : 80%"
   ]
  },
  {
   "cell_type": "markdown",
   "metadata": {},
   "source": [
    "### Final Observation:\n",
    "#### Let us compare the values obtained for Train & Test:\n",
    "\n",
    "**Train Data**:                                                                \n",
    "Accuracy : 79%                                                              \n",
    "Sensitivity : 78%                                                  \n",
    "Specificity : 80%                                       \n",
    "Precision : 71%                                                                        \n",
    "Recall : 78%    \n",
    "                                                                                            \n",
    "**Test Data**:                                                              \n",
    "Accuracy : 80%                                                                     \n",
    "Sensitivity : 78%                                                                    \n",
    "Specificity : 80%                                                               \n",
    "Precision : 72%                                                                  \n",
    "Recall :  78%"
   ]
  },
  {
   "cell_type": "markdown",
   "metadata": {},
   "source": [
    "### Conclusion\n",
    "#### It was found that the variables that mattered the most in the potential buyers are (In descending order) :\n",
    "\n",
    "- When the lead origin is Lead add format.\n",
    "\n",
    "- When their current occupation is as a working professional.\n",
    "\n",
    "- When the lead source was:                                                    \n",
    "a. Welingak website                                                           \n",
    "b. Olark Chat\n",
    "\n",
    "- The total time spend on the Website.   \n",
    "\n",
    "- When the city is Mumbai.\n",
    "\n",
    "                                                                               \n",
    "#### Keeping these in mind the X Education can flourish as they have a very high chance to get almost all the potential buyers to change their mind and buy their courses."
   ]
  },
  {
   "cell_type": "code",
   "execution_count": null,
   "metadata": {},
   "outputs": [],
   "source": []
  }
 ],
 "metadata": {
  "kernelspec": {
   "display_name": "Python 3 (ipykernel)",
   "language": "python",
   "name": "python3"
  },
  "language_info": {
   "codemirror_mode": {
    "name": "ipython",
    "version": 3
   },
   "file_extension": ".py",
   "mimetype": "text/x-python",
   "name": "python",
   "nbconvert_exporter": "python",
   "pygments_lexer": "ipython3",
   "version": "3.9.7"
  }
 },
 "nbformat": 4,
 "nbformat_minor": 4
}
